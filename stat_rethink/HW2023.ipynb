{
  "nbformat": 4,
  "nbformat_minor": 0,
  "metadata": {
    "colab": {
      "provenance": [],
      "authorship_tag": "ABX9TyNFeJpYsj7x0WKdDjdofKX9"
    },
    "kernelspec": {
      "name": "python3",
      "display_name": "Python 3"
    },
    "language_info": {
      "name": "python"
    }
  },
  "cells": [
    {
      "cell_type": "code",
      "execution_count": null,
      "metadata": {
        "id": "iujHbDsZTXac"
      },
      "outputs": [],
      "source": [
        "!pip3 install arviz\n",
        "import arviz as az\n",
        "\n",
        "!pip3 install numpyro\n",
        "import numpyro\n",
        "import numpyro.distributions as dist\n",
        "from numpyro.diagnostics import print_summary\n",
        "import numpyro.optim as optim\n",
        "from numpyro.infer import Predictive, SVI, Trace_ELBO, init_to_value, NUTS, MCMC\n",
        "from numpyro.infer.autoguide import AutoLaplaceApproximation\n",
        "import jax\n",
        "import jax.numpy as jnp\n",
        "from jax import grad, jit, vmap, pmap, jacfwd, jacrev\n",
        "from jax.random import PRNGKey as PK\n",
        "\n",
        "import numpy as np\n",
        "import time\n",
        "\n",
        "import matplotlib.pyplot as plt\n",
        "import seaborn as sns\n",
        "import pandas as pd\n",
        "%matplotlib inline\n",
        "%config InlineBackend.figure_format = 'retina'"
      ]
    },
    {
      "cell_type": "markdown",
      "source": [
        "# Week 1"
      ],
      "metadata": {
        "id": "nM1gYYHdT2Pm"
      }
    },
    {
      "cell_type": "markdown",
      "source": [
        "## 1"
      ],
      "metadata": {
        "id": "3iy0yd40T67-"
      }
    },
    {
      "cell_type": "code",
      "source": [],
      "metadata": {
        "id": "a_uoQBuiTeXA"
      },
      "execution_count": null,
      "outputs": []
    }
  ]
}