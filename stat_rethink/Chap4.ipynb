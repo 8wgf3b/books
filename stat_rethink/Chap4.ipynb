{
  "nbformat": 4,
  "nbformat_minor": 0,
  "metadata": {
    "colab": {
      "name": "Chap4.ipynb",
      "provenance": [],
      "collapsed_sections": [],
      "authorship_tag": "ABX9TyMBEHak93OoJUhEKVCrp/BW"
    },
    "kernelspec": {
      "name": "python3",
      "display_name": "Python 3"
    },
    "language_info": {
      "name": "python"
    }
  },
  "cells": [
    {
      "cell_type": "markdown",
      "metadata": {
        "id": "ap_GdG3oLs1I"
      },
      "source": [
        "## Imports"
      ]
    },
    {
      "cell_type": "code",
      "metadata": {
        "colab": {
          "base_uri": "https://localhost:8080/"
        },
        "id": "04RczMeALqgB",
        "outputId": "097c5a22-3372-448e-b66c-0560ab02692a"
      },
      "source": [
        "import jax.numpy as jnp\n",
        "from jax import random, vmap\n",
        "\n",
        "!pip3 install numpyro\n",
        "import numpyro\n",
        "import numpyro.distributions as dist"
      ],
      "execution_count": 3,
      "outputs": [
        {
          "output_type": "stream",
          "name": "stdout",
          "text": [
            "Collecting numpyro\n",
            "  Downloading numpyro-0.8.0-py3-none-any.whl (264 kB)\n",
            "\u001b[?25l\r\u001b[K     |█▎                              | 10 kB 24.5 MB/s eta 0:00:01\r\u001b[K     |██▌                             | 20 kB 28.5 MB/s eta 0:00:01\r\u001b[K     |███▊                            | 30 kB 15.0 MB/s eta 0:00:01\r\u001b[K     |█████                           | 40 kB 11.2 MB/s eta 0:00:01\r\u001b[K     |██████▏                         | 51 kB 8.0 MB/s eta 0:00:01\r\u001b[K     |███████▍                        | 61 kB 8.5 MB/s eta 0:00:01\r\u001b[K     |████████▊                       | 71 kB 7.9 MB/s eta 0:00:01\r\u001b[K     |██████████                      | 81 kB 8.8 MB/s eta 0:00:01\r\u001b[K     |███████████▏                    | 92 kB 8.5 MB/s eta 0:00:01\r\u001b[K     |████████████▍                   | 102 kB 7.6 MB/s eta 0:00:01\r\u001b[K     |█████████████▋                  | 112 kB 7.6 MB/s eta 0:00:01\r\u001b[K     |██████████████▉                 | 122 kB 7.6 MB/s eta 0:00:01\r\u001b[K     |████████████████▏               | 133 kB 7.6 MB/s eta 0:00:01\r\u001b[K     |█████████████████▍              | 143 kB 7.6 MB/s eta 0:00:01\r\u001b[K     |██████████████████▋             | 153 kB 7.6 MB/s eta 0:00:01\r\u001b[K     |███████████████████▉            | 163 kB 7.6 MB/s eta 0:00:01\r\u001b[K     |█████████████████████           | 174 kB 7.6 MB/s eta 0:00:01\r\u001b[K     |██████████████████████▎         | 184 kB 7.6 MB/s eta 0:00:01\r\u001b[K     |███████████████████████▋        | 194 kB 7.6 MB/s eta 0:00:01\r\u001b[K     |████████████████████████▉       | 204 kB 7.6 MB/s eta 0:00:01\r\u001b[K     |██████████████████████████      | 215 kB 7.6 MB/s eta 0:00:01\r\u001b[K     |███████████████████████████▎    | 225 kB 7.6 MB/s eta 0:00:01\r\u001b[K     |████████████████████████████▌   | 235 kB 7.6 MB/s eta 0:00:01\r\u001b[K     |█████████████████████████████▊  | 245 kB 7.6 MB/s eta 0:00:01\r\u001b[K     |███████████████████████████████ | 256 kB 7.6 MB/s eta 0:00:01\r\u001b[K     |████████████████████████████████| 264 kB 7.6 MB/s \n",
            "\u001b[?25hRequirement already satisfied: jax>=0.2.13 in /usr/local/lib/python3.7/dist-packages (from numpyro) (0.2.21)\n",
            "Requirement already satisfied: tqdm in /usr/local/lib/python3.7/dist-packages (from numpyro) (4.62.3)\n",
            "Requirement already satisfied: jaxlib>=0.1.65 in /usr/local/lib/python3.7/dist-packages (from numpyro) (0.1.71+cuda111)\n",
            "Requirement already satisfied: scipy>=1.2.1 in /usr/local/lib/python3.7/dist-packages (from jax>=0.2.13->numpyro) (1.4.1)\n",
            "Requirement already satisfied: numpy>=1.18 in /usr/local/lib/python3.7/dist-packages (from jax>=0.2.13->numpyro) (1.19.5)\n",
            "Requirement already satisfied: opt-einsum in /usr/local/lib/python3.7/dist-packages (from jax>=0.2.13->numpyro) (3.3.0)\n",
            "Requirement already satisfied: absl-py in /usr/local/lib/python3.7/dist-packages (from jax>=0.2.13->numpyro) (0.12.0)\n",
            "Requirement already satisfied: flatbuffers<3.0,>=1.12 in /usr/local/lib/python3.7/dist-packages (from jaxlib>=0.1.65->numpyro) (2.0)\n",
            "Requirement already satisfied: six in /usr/local/lib/python3.7/dist-packages (from absl-py->jax>=0.2.13->numpyro) (1.15.0)\n",
            "Installing collected packages: numpyro\n",
            "Successfully installed numpyro-0.8.0\n"
          ]
        }
      ]
    },
    {
      "cell_type": "markdown",
      "metadata": {
        "id": "y_mGCE-jMlSw"
      },
      "source": [
        "## 4.1\n",
        "\n",
        "Here uniform is chosen instead off the binomial bcoz the author assumes each step may not be perfect 1 yard. so it can be b/w 0 - 1 yard (left or right). Thus uniform distribution (1, -1)"
      ]
    },
    {
      "cell_type": "code",
      "metadata": {
        "id": "zUiS2_11Mn9P"
      },
      "source": [
        "dunif = dist.Uniform(-1, 1)\n",
        "key = random.PRNGKey(0)\n",
        "samples = dunif.sample(key, (1000, 16))\n",
        "pos = jnp.sum(samples, -1)"
      ],
      "execution_count": 20,
      "outputs": []
    },
    {
      "cell_type": "markdown",
      "metadata": {
        "id": "aNDFMoJ3T30p"
      },
      "source": [
        "## 4.2"
      ]
    },
    {
      "cell_type": "code",
      "metadata": {
        "id": "nrlSmXPPT5xv"
      },
      "source": [
        ""
      ],
      "execution_count": null,
      "outputs": []
    }
  ]
}