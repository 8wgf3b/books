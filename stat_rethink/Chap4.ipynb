{
  "nbformat": 4,
  "nbformat_minor": 0,
  "metadata": {
    "colab": {
      "name": "Chap4.ipynb",
      "provenance": [],
      "collapsed_sections": [],
      "authorship_tag": "ABX9TyPNK4I8YNkn9Vx7vatHAE+L"
    },
    "kernelspec": {
      "name": "python3",
      "display_name": "Python 3"
    },
    "language_info": {
      "name": "python"
    }
  },
  "cells": [
    {
      "cell_type": "markdown",
      "metadata": {
        "id": "ap_GdG3oLs1I"
      },
      "source": [
        "## Imports"
      ]
    },
    {
      "cell_type": "code",
      "metadata": {
        "colab": {
          "base_uri": "https://localhost:8080/"
        },
        "id": "04RczMeALqgB",
        "outputId": "cba34b14-1820-4a7f-88ae-59a025860f06"
      },
      "source": [
        "import pandas as pd\n",
        "\n",
        "import jax.numpy as jnp\n",
        "from jax import random, vmap\n",
        "\n",
        "!pip3 install numpyro\n",
        "import numpyro\n",
        "import numpyro.distributions as dist\n",
        "import numpyro.optim as optim\n",
        "from numpyro.diagnostics import hpdi, print_summary\n",
        "from numpyro.infer import Predictive, SVI, Trace_ELBO, init_to_value\n",
        "from numpyro.infer.autoguide import AutoLaplaceApproximation\n",
        "\n",
        "from scipy.interpolate import BSpline\n",
        "from scipy.stats import gaussian_kde\n",
        "\n",
        "!pip3 install arviz\n",
        "import arviz as az\n",
        "import matplotlib.pyplot as plt"
      ],
      "execution_count": null,
      "outputs": [
        {
          "output_type": "stream",
          "name": "stdout",
          "text": [
            "Collecting numpyro\n",
            "  Downloading numpyro-0.8.0-py3-none-any.whl (264 kB)\n",
            "\u001b[?25l\r\u001b[K     |█▎                              | 10 kB 25.5 MB/s eta 0:00:01\r\u001b[K     |██▌                             | 20 kB 31.8 MB/s eta 0:00:01\r\u001b[K     |███▊                            | 30 kB 36.0 MB/s eta 0:00:01\r\u001b[K     |█████                           | 40 kB 35.1 MB/s eta 0:00:01\r\u001b[K     |██████▏                         | 51 kB 35.8 MB/s eta 0:00:01\r\u001b[K     |███████▍                        | 61 kB 25.9 MB/s eta 0:00:01\r\u001b[K     |████████▊                       | 71 kB 23.4 MB/s eta 0:00:01\r\u001b[K     |██████████                      | 81 kB 24.4 MB/s eta 0:00:01\r\u001b[K     |███████████▏                    | 92 kB 26.0 MB/s eta 0:00:01\r\u001b[K     |████████████▍                   | 102 kB 28.0 MB/s eta 0:00:01\r\u001b[K     |█████████████▋                  | 112 kB 28.0 MB/s eta 0:00:01\r\u001b[K     |██████████████▉                 | 122 kB 28.0 MB/s eta 0:00:01\r\u001b[K     |████████████████▏               | 133 kB 28.0 MB/s eta 0:00:01\r\u001b[K     |█████████████████▍              | 143 kB 28.0 MB/s eta 0:00:01\r\u001b[K     |██████████████████▋             | 153 kB 28.0 MB/s eta 0:00:01\r\u001b[K     |███████████████████▉            | 163 kB 28.0 MB/s eta 0:00:01\r\u001b[K     |█████████████████████           | 174 kB 28.0 MB/s eta 0:00:01\r\u001b[K     |██████████████████████▎         | 184 kB 28.0 MB/s eta 0:00:01\r\u001b[K     |███████████████████████▋        | 194 kB 28.0 MB/s eta 0:00:01\r\u001b[K     |████████████████████████▉       | 204 kB 28.0 MB/s eta 0:00:01\r\u001b[K     |██████████████████████████      | 215 kB 28.0 MB/s eta 0:00:01\r\u001b[K     |███████████████████████████▎    | 225 kB 28.0 MB/s eta 0:00:01\r\u001b[K     |████████████████████████████▌   | 235 kB 28.0 MB/s eta 0:00:01\r\u001b[K     |█████████████████████████████▊  | 245 kB 28.0 MB/s eta 0:00:01\r\u001b[K     |███████████████████████████████ | 256 kB 28.0 MB/s eta 0:00:01\r\u001b[K     |████████████████████████████████| 264 kB 28.0 MB/s \n",
            "\u001b[?25hRequirement already satisfied: jaxlib>=0.1.65 in /usr/local/lib/python3.7/dist-packages (from numpyro) (0.1.71+cuda111)\n",
            "Requirement already satisfied: tqdm in /usr/local/lib/python3.7/dist-packages (from numpyro) (4.62.3)\n",
            "Requirement already satisfied: jax>=0.2.13 in /usr/local/lib/python3.7/dist-packages (from numpyro) (0.2.25)\n",
            "Requirement already satisfied: absl-py in /usr/local/lib/python3.7/dist-packages (from jax>=0.2.13->numpyro) (0.12.0)\n",
            "Requirement already satisfied: typing-extensions in /usr/local/lib/python3.7/dist-packages (from jax>=0.2.13->numpyro) (3.10.0.2)\n",
            "Requirement already satisfied: scipy>=1.2.1 in /usr/local/lib/python3.7/dist-packages (from jax>=0.2.13->numpyro) (1.4.1)\n",
            "Requirement already satisfied: opt-einsum in /usr/local/lib/python3.7/dist-packages (from jax>=0.2.13->numpyro) (3.3.0)\n",
            "Requirement already satisfied: numpy>=1.18 in /usr/local/lib/python3.7/dist-packages (from jax>=0.2.13->numpyro) (1.19.5)\n",
            "Requirement already satisfied: flatbuffers<3.0,>=1.12 in /usr/local/lib/python3.7/dist-packages (from jaxlib>=0.1.65->numpyro) (2.0)\n",
            "Requirement already satisfied: six in /usr/local/lib/python3.7/dist-packages (from absl-py->jax>=0.2.13->numpyro) (1.15.0)\n",
            "Installing collected packages: numpyro\n",
            "Successfully installed numpyro-0.8.0\n"
          ]
        },
        {
          "output_type": "stream",
          "name": "stderr",
          "text": [
            "/usr/local/lib/python3.7/dist-packages/jax/experimental/optimizers.py:30: FutureWarning: jax.experimental.optimizers is deprecated, import jax.example_libraries.optimizers instead\n",
            "  FutureWarning)\n",
            "/usr/local/lib/python3.7/dist-packages/jax/experimental/stax.py:30: FutureWarning: jax.experimental.stax is deprecated, import jax.example_libraries.stax instead\n",
            "  FutureWarning)\n"
          ]
        },
        {
          "output_type": "stream",
          "name": "stdout",
          "text": [
            "Requirement already satisfied: arviz in /usr/local/lib/python3.7/dist-packages (0.11.4)\n",
            "Requirement already satisfied: numpy>=1.12 in /usr/local/lib/python3.7/dist-packages (from arviz) (1.19.5)\n",
            "Requirement already satisfied: typing-extensions<4,>=3.7.4.3 in /usr/local/lib/python3.7/dist-packages (from arviz) (3.10.0.2)\n",
            "Requirement already satisfied: scipy>=0.19 in /usr/local/lib/python3.7/dist-packages (from arviz) (1.4.1)\n",
            "Requirement already satisfied: netcdf4 in /usr/local/lib/python3.7/dist-packages (from arviz) (1.5.8)\n",
            "Requirement already satisfied: packaging in /usr/local/lib/python3.7/dist-packages (from arviz) (21.3)\n",
            "Requirement already satisfied: setuptools>=38.4 in /usr/local/lib/python3.7/dist-packages (from arviz) (57.4.0)\n",
            "Requirement already satisfied: pandas>=0.23 in /usr/local/lib/python3.7/dist-packages (from arviz) (1.1.5)\n",
            "Requirement already satisfied: xarray>=0.16.1 in /usr/local/lib/python3.7/dist-packages (from arviz) (0.18.2)\n",
            "Requirement already satisfied: matplotlib>=3.0 in /usr/local/lib/python3.7/dist-packages (from arviz) (3.2.2)\n",
            "Requirement already satisfied: pyparsing!=2.0.4,!=2.1.2,!=2.1.6,>=2.0.1 in /usr/local/lib/python3.7/dist-packages (from matplotlib>=3.0->arviz) (3.0.6)\n",
            "Requirement already satisfied: kiwisolver>=1.0.1 in /usr/local/lib/python3.7/dist-packages (from matplotlib>=3.0->arviz) (1.3.2)\n",
            "Requirement already satisfied: cycler>=0.10 in /usr/local/lib/python3.7/dist-packages (from matplotlib>=3.0->arviz) (0.11.0)\n",
            "Requirement already satisfied: python-dateutil>=2.1 in /usr/local/lib/python3.7/dist-packages (from matplotlib>=3.0->arviz) (2.8.2)\n",
            "Requirement already satisfied: pytz>=2017.2 in /usr/local/lib/python3.7/dist-packages (from pandas>=0.23->arviz) (2018.9)\n",
            "Requirement already satisfied: six>=1.5 in /usr/local/lib/python3.7/dist-packages (from python-dateutil>=2.1->matplotlib>=3.0->arviz) (1.15.0)\n",
            "Requirement already satisfied: cftime in /usr/local/lib/python3.7/dist-packages (from netcdf4->arviz) (1.5.1.1)\n"
          ]
        }
      ]
    },
    {
      "cell_type": "markdown",
      "metadata": {
        "id": "y_mGCE-jMlSw"
      },
      "source": [
        "## 4.1\n",
        "\n",
        "Here uniform is chosen instead off the binomial bcoz the author assumes each step may not be perfect 1 yard. so it can be b/w 0 - 1 yard (left or right). Thus uniform distribution (1, -1)"
      ]
    },
    {
      "cell_type": "code",
      "metadata": {
        "id": "zUiS2_11Mn9P"
      },
      "source": [
        "dunif = dist.Uniform(-1, 1)\n",
        "key = random.PRNGKey(0)\n",
        "samples = dunif.sample(key, (1000, 16))\n",
        "pos = jnp.sum(samples, -1)"
      ],
      "execution_count": null,
      "outputs": []
    },
    {
      "cell_type": "markdown",
      "metadata": {
        "id": "aNDFMoJ3T30p"
      },
      "source": [
        "## 4.2"
      ]
    },
    {
      "cell_type": "code",
      "metadata": {
        "id": "nrlSmXPPT5xv",
        "colab": {
          "base_uri": "https://localhost:8080/"
        },
        "outputId": "d20701ac-9e65-4c95-c7e7-cc23115f5ec2"
      },
      "source": [
        "dunif = dist.Uniform(0, 0.1)\n",
        "growthsamples = jnp.prod(1 + dunif.sample(key, (10000, 12)), -1)\n",
        "growthsamples.shape"
      ],
      "execution_count": null,
      "outputs": [
        {
          "output_type": "execute_result",
          "data": {
            "text/plain": [
              "(10000,)"
            ]
          },
          "metadata": {},
          "execution_count": 16
        }
      ]
    },
    {
      "cell_type": "markdown",
      "metadata": {
        "id": "jyoU9EmMO3Uc"
      },
      "source": [
        "## 4.3\n",
        "\n",
        "Log probability bcoz probly its faster. End result is just the probability of each data point assuming they are sampled from a normal dist"
      ]
    },
    {
      "cell_type": "code",
      "metadata": {
        "colab": {
          "base_uri": "https://localhost:8080/",
          "height": 287
        },
        "id": "EY0-VW0fOK7a",
        "outputId": "41668a60-df79-40bc-9a99-874f420635a7"
      },
      "source": [
        "az.plot_density({'growth': growthsamples}, hdi_prob=1)\n",
        "x = jnp.sort(growthsamples)\n",
        "plt.plot(x, jnp.exp(dist.Normal(jnp.mean(x), jnp.std(x)).log_prob(x)), \"--\")\n",
        "plt.show()"
      ],
      "execution_count": null,
      "outputs": [
        {
          "output_type": "display_data",
          "data": {
            "image/png": "[encoded data removed]",
            "text/plain": [
              "<Figure size 432x288 with 1 Axes>"
            ]
          },
          "metadata": {
            "needs_background": "light"
          }
        }
      ]
    },
    {
      "cell_type": "markdown",
      "metadata": {
        "id": "MhVEGyOhTDLz"
      },
      "source": [
        "## 4.4"
      ]
    },
    {
      "cell_type": "code",
      "metadata": {
        "colab": {
          "base_uri": "https://localhost:8080/"
        },
        "id": "VGVZZMoDTYW5",
        "outputId": "fb3209d7-a659-4b05-d0ab-013c574047d2"
      },
      "source": [
        "big = jnp.prod(1 + dist.Uniform(0, 0.5).sample(key, (10000, 12)), -1)\n",
        "small = jnp.prod(1 + dist.Uniform(0, 0.01).sample(key, (10000, 12)), -1)\n",
        "big, small"
      ],
      "execution_count": null,
      "outputs": [
        {
          "output_type": "execute_result",
          "data": {
            "text/plain": [
              "(DeviceArray([18.742033 , 11.604453 , 19.078642 , ...,  7.5537906,\n",
              "              11.295802 , 23.21978  ], dtype=float32),\n",
              " DeviceArray([1.0708382, 1.0577757, 1.0716889, ..., 1.0464755, 1.0573572,\n",
              "              1.076675 ], dtype=float32))"
            ]
          },
          "metadata": {},
          "execution_count": 18
        }
      ]
    },
    {
      "cell_type": "markdown",
      "metadata": {
        "id": "XFRfho0yUGer"
      },
      "source": [
        "## 4.5"
      ]
    },
    {
      "cell_type": "code",
      "metadata": {
        "colab": {
          "base_uri": "https://localhost:8080/",
          "height": 287
        },
        "id": "fqOeykynTohR",
        "outputId": "f8cc5f83-e2e3-4baa-fe05-ebb8b3a45196"
      },
      "source": [
        "logbig = jnp.log(big)\n",
        "az.plot_density({'lb': logbig}, hdi_prob=1)\n",
        "x = jnp.sort(logbig)\n",
        "plt.plot(x, jnp.exp(dist.Normal(jnp.mean(x), jnp.std(x)).log_prob(x)), \"--\")\n",
        "plt.show()"
      ],
      "execution_count": null,
      "outputs": [
        {
          "output_type": "display_data",
          "data": {
            "image/png": "[encoded data removed]",
            "text/plain": [
              "<Figure size 432x288 with 1 Axes>"
            ]
          },
          "metadata": {
            "needs_background": "light"
          }
        }
      ]
    },
    {
      "cell_type": "markdown",
      "metadata": {
        "id": "Y73wgfAjJxJl"
      },
      "source": [
        "## 4.6"
      ]
    },
    {
      "cell_type": "code",
      "metadata": {
        "id": "oitd9ZxCUU2Z"
      },
      "source": [
        "w, n = 6, 9\n",
        "pgrid = jnp.linspace(0, 1, 100)\n",
        "probbin = jnp.exp(dist.Binomial(n, pgrid).log_prob(w))\n",
        "post = probbin * jnp.exp(dist.Uniform(0, 1).log_prob(pgrid))\n",
        "post = post / jnp.sum(post)"
      ],
      "execution_count": null,
      "outputs": []
    },
    {
      "cell_type": "markdown",
      "metadata": {
        "id": "zCpsJKCOtgI6"
      },
      "source": [
        "## 4.7 - 4.11"
      ]
    },
    {
      "cell_type": "code",
      "metadata": {
        "colab": {
          "base_uri": "https://localhost:8080/",
          "height": 518
        },
        "id": "7L_WOKaZJ5F7",
        "outputId": "ddc1e5cf-ec4d-4b4f-8787-424eef41d83d"
      },
      "source": [
        "d = pd.read_csv('https://raw.githubusercontent.com/fehiepsi/rethinking-numpyro/master/data/Howell1.csv', delimiter=';')\n",
        "print(d.info())\n",
        "d.describe()"
      ],
      "execution_count": null,
      "outputs": [
        {
          "output_type": "stream",
          "name": "stdout",
          "text": [
            "<class 'pandas.core.frame.DataFrame'>\n",
            "RangeIndex: 544 entries, 0 to 543\n",
            "Data columns (total 4 columns):\n",
            " #   Column  Non-Null Count  Dtype  \n",
            "---  ------  --------------  -----  \n",
            " 0   height  544 non-null    float64\n",
            " 1   weight  544 non-null    float64\n",
            " 2   age     544 non-null    float64\n",
            " 3   male    544 non-null    int64  \n",
            "dtypes: float64(3), int64(1)\n",
            "memory usage: 17.1 KB\n",
            "None\n"
          ]
        },
        {
          "output_type": "execute_result",
          "data": {
            "text/html": [
              "<div>\n",
              "<style scoped>\n",
              "    .dataframe tbody tr th:only-of-type {\n",
              "        vertical-align: middle;\n",
              "    }\n",
              "\n",
              "    .dataframe tbody tr th {\n",
              "        vertical-align: top;\n",
              "    }\n",
              "\n",
              "    .dataframe thead th {\n",
              "        text-align: right;\n",
              "    }\n",
              "</style>\n",
              "<table border=\"1\" class=\"dataframe\">\n",
              "  <thead>\n",
              "    <tr style=\"text-align: right;\">\n",
              "      <th></th>\n",
              "      <th>height</th>\n",
              "      <th>weight</th>\n",
              "      <th>age</th>\n",
              "      <th>male</th>\n",
              "    </tr>\n",
              "  </thead>\n",
              "  <tbody>\n",
              "    <tr>\n",
              "      <th>count</th>\n",
              "      <td>544.000000</td>\n",
              "      <td>544.000000</td>\n",
              "      <td>544.000000</td>\n",
              "      <td>544.000000</td>\n",
              "    </tr>\n",
              "    <tr>\n",
              "      <th>mean</th>\n",
              "      <td>138.263596</td>\n",
              "      <td>35.610618</td>\n",
              "      <td>29.344393</td>\n",
              "      <td>0.472426</td>\n",
              "    </tr>\n",
              "    <tr>\n",
              "      <th>std</th>\n",
              "      <td>27.602448</td>\n",
              "      <td>14.719178</td>\n",
              "      <td>20.746888</td>\n",
              "      <td>0.499699</td>\n",
              "    </tr>\n",
              "    <tr>\n",
              "      <th>min</th>\n",
              "      <td>53.975000</td>\n",
              "      <td>4.252425</td>\n",
              "      <td>0.000000</td>\n",
              "      <td>0.000000</td>\n",
              "    </tr>\n",
              "    <tr>\n",
              "      <th>25%</th>\n",
              "      <td>125.095000</td>\n",
              "      <td>22.007717</td>\n",
              "      <td>12.000000</td>\n",
              "      <td>0.000000</td>\n",
              "    </tr>\n",
              "    <tr>\n",
              "      <th>50%</th>\n",
              "      <td>148.590000</td>\n",
              "      <td>40.057844</td>\n",
              "      <td>27.000000</td>\n",
              "      <td>0.000000</td>\n",
              "    </tr>\n",
              "    <tr>\n",
              "      <th>75%</th>\n",
              "      <td>157.480000</td>\n",
              "      <td>47.209005</td>\n",
              "      <td>43.000000</td>\n",
              "      <td>1.000000</td>\n",
              "    </tr>\n",
              "    <tr>\n",
              "      <th>max</th>\n",
              "      <td>179.070000</td>\n",
              "      <td>62.992589</td>\n",
              "      <td>88.000000</td>\n",
              "      <td>1.000000</td>\n",
              "    </tr>\n",
              "  </tbody>\n",
              "</table>\n",
              "</div>"
            ],
            "text/plain": [
              "           height      weight         age        male\n",
              "count  544.000000  544.000000  544.000000  544.000000\n",
              "mean   138.263596   35.610618   29.344393    0.472426\n",
              "std     27.602448   14.719178   20.746888    0.499699\n",
              "min     53.975000    4.252425    0.000000    0.000000\n",
              "25%    125.095000   22.007717   12.000000    0.000000\n",
              "50%    148.590000   40.057844   27.000000    0.000000\n",
              "75%    157.480000   47.209005   43.000000    1.000000\n",
              "max    179.070000   62.992589   88.000000    1.000000"
            ]
          },
          "metadata": {},
          "execution_count": 21
        }
      ]
    },
    {
      "cell_type": "code",
      "metadata": {
        "colab": {
          "base_uri": "https://localhost:8080/",
          "height": 424
        },
        "id": "AfT5gdbftxHt",
        "outputId": "ff6e93d6-5e47-4433-8026-5ebb0e5ce71e"
      },
      "source": [
        "d2 = d[d.age >= 18]\n",
        "d2"
      ],
      "execution_count": null,
      "outputs": [
        {
          "output_type": "execute_result",
          "data": {
            "text/html": [
              "<div>\n",
              "<style scoped>\n",
              "    .dataframe tbody tr th:only-of-type {\n",
              "        vertical-align: middle;\n",
              "    }\n",
              "\n",
              "    .dataframe tbody tr th {\n",
              "        vertical-align: top;\n",
              "    }\n",
              "\n",
              "    .dataframe thead th {\n",
              "        text-align: right;\n",
              "    }\n",
              "</style>\n",
              "<table border=\"1\" class=\"dataframe\">\n",
              "  <thead>\n",
              "    <tr style=\"text-align: right;\">\n",
              "      <th></th>\n",
              "      <th>height</th>\n",
              "      <th>weight</th>\n",
              "      <th>age</th>\n",
              "      <th>male</th>\n",
              "    </tr>\n",
              "  </thead>\n",
              "  <tbody>\n",
              "    <tr>\n",
              "      <th>0</th>\n",
              "      <td>151.765</td>\n",
              "      <td>47.825606</td>\n",
              "      <td>63.0</td>\n",
              "      <td>1</td>\n",
              "    </tr>\n",
              "    <tr>\n",
              "      <th>1</th>\n",
              "      <td>139.700</td>\n",
              "      <td>36.485807</td>\n",
              "      <td>63.0</td>\n",
              "      <td>0</td>\n",
              "    </tr>\n",
              "    <tr>\n",
              "      <th>2</th>\n",
              "      <td>136.525</td>\n",
              "      <td>31.864838</td>\n",
              "      <td>65.0</td>\n",
              "      <td>0</td>\n",
              "    </tr>\n",
              "    <tr>\n",
              "      <th>3</th>\n",
              "      <td>156.845</td>\n",
              "      <td>53.041915</td>\n",
              "      <td>41.0</td>\n",
              "      <td>1</td>\n",
              "    </tr>\n",
              "    <tr>\n",
              "      <th>4</th>\n",
              "      <td>145.415</td>\n",
              "      <td>41.276872</td>\n",
              "      <td>51.0</td>\n",
              "      <td>0</td>\n",
              "    </tr>\n",
              "    <tr>\n",
              "      <th>...</th>\n",
              "      <td>...</td>\n",
              "      <td>...</td>\n",
              "      <td>...</td>\n",
              "      <td>...</td>\n",
              "    </tr>\n",
              "    <tr>\n",
              "      <th>534</th>\n",
              "      <td>162.560</td>\n",
              "      <td>47.031821</td>\n",
              "      <td>27.0</td>\n",
              "      <td>0</td>\n",
              "    </tr>\n",
              "    <tr>\n",
              "      <th>537</th>\n",
              "      <td>142.875</td>\n",
              "      <td>34.246196</td>\n",
              "      <td>31.0</td>\n",
              "      <td>0</td>\n",
              "    </tr>\n",
              "    <tr>\n",
              "      <th>540</th>\n",
              "      <td>162.560</td>\n",
              "      <td>52.163080</td>\n",
              "      <td>31.0</td>\n",
              "      <td>1</td>\n",
              "    </tr>\n",
              "    <tr>\n",
              "      <th>541</th>\n",
              "      <td>156.210</td>\n",
              "      <td>54.062496</td>\n",
              "      <td>21.0</td>\n",
              "      <td>0</td>\n",
              "    </tr>\n",
              "    <tr>\n",
              "      <th>543</th>\n",
              "      <td>158.750</td>\n",
              "      <td>52.531624</td>\n",
              "      <td>68.0</td>\n",
              "      <td>1</td>\n",
              "    </tr>\n",
              "  </tbody>\n",
              "</table>\n",
              "<p>352 rows × 4 columns</p>\n",
              "</div>"
            ],
            "text/plain": [
              "      height     weight   age  male\n",
              "0    151.765  47.825606  63.0     1\n",
              "1    139.700  36.485807  63.0     0\n",
              "2    136.525  31.864838  65.0     0\n",
              "3    156.845  53.041915  41.0     1\n",
              "4    145.415  41.276872  51.0     0\n",
              "..       ...        ...   ...   ...\n",
              "534  162.560  47.031821  27.0     0\n",
              "537  142.875  34.246196  31.0     0\n",
              "540  162.560  52.163080  31.0     1\n",
              "541  156.210  54.062496  21.0     0\n",
              "543  158.750  52.531624  68.0     1\n",
              "\n",
              "[352 rows x 4 columns]"
            ]
          },
          "metadata": {},
          "execution_count": 22
        }
      ]
    },
    {
      "cell_type": "markdown",
      "metadata": {
        "id": "xH6UTMsw4Gkb"
      },
      "source": [
        "## 4.12"
      ]
    },
    {
      "cell_type": "code",
      "metadata": {
        "colab": {
          "base_uri": "https://localhost:8080/",
          "height": 265
        },
        "id": "GG9kBsN14Fko",
        "outputId": "e17d2511-2153-4f20-81d0-ec22ec371989"
      },
      "source": [
        "x = jnp.linspace(100, 250, 101)\n",
        "plt.plot(x, jnp.exp(dist.Normal(178, 20).log_prob(x)))\n",
        "plt.show()"
      ],
      "execution_count": null,
      "outputs": [
        {
          "output_type": "display_data",
          "data": {
            "image/png": "[encoded data removed]",
            "text/plain": [
              "<Figure size 432x288 with 1 Axes>"
            ]
          },
          "metadata": {
            "needs_background": "light"
          }
        }
      ]
    },
    {
      "cell_type": "markdown",
      "metadata": {
        "id": "jXtX1BpD7gwY"
      },
      "source": [
        "## 4.13"
      ]
    },
    {
      "cell_type": "code",
      "metadata": {
        "colab": {
          "base_uri": "https://localhost:8080/",
          "height": 321
        },
        "id": "PQ6N9UHL7e9e",
        "outputId": "ed322a64-7744-424d-935b-63257cffc955"
      },
      "source": [
        "x = jnp.linspace(-10, 60, 101)\n",
        "plt.plot(x, jnp.exp(dist.Uniform(0, 50, validate_args=True).log_prob(x)))\n",
        "plt.show()"
      ],
      "execution_count": null,
      "outputs": [
        {
          "output_type": "stream",
          "name": "stderr",
          "text": [
            "/usr/local/lib/python3.7/dist-packages/numpyro/distributions/distribution.py:293: UserWarning: Out-of-support values provided to log prob method. The value argument should be within the support.\n",
            "  \"Out-of-support values provided to log prob method. \"\n"
          ]
        },
        {
          "output_type": "display_data",
          "data": {
            "image/png": "[encoded data removed]",
            "text/plain": [
              "<Figure size 432x288 with 1 Axes>"
            ]
          },
          "metadata": {
            "needs_background": "light"
          }
        }
      ]
    },
    {
      "cell_type": "markdown",
      "metadata": {
        "id": "OtbITXQX70Vo"
      },
      "source": [
        "## 4.14"
      ]
    },
    {
      "cell_type": "code",
      "metadata": {
        "id": "oHNJy3jz7rXv",
        "colab": {
          "base_uri": "https://localhost:8080/",
          "height": 207
        },
        "outputId": "8b23c216-056f-4d58-9984-7391f80e22ab"
      },
      "source": [
        "samplemu = dist.Normal(178, 20).sample(key, (10000,))\n",
        "priorh = dist.Normal(samplemu, samplestd)\n",
        "priorh.sample(key).shape"
      ],
      "execution_count": null,
      "outputs": [
        {
          "output_type": "error",
          "ename": "NameError",
          "evalue": "ignored",
          "traceback": [
            "\u001b[0;31m---------------------------------------------------------------------------\u001b[0m",
            "\u001b[0;31mNameError\u001b[0m                                 Traceback (most recent call last)",
            "\u001b[0;32m<ipython-input-25-36eeff6ff88a>\u001b[0m in \u001b[0;36m<module>\u001b[0;34m()\u001b[0m\n\u001b[1;32m      1\u001b[0m \u001b[0msamplemu\u001b[0m \u001b[0;34m=\u001b[0m \u001b[0mdist\u001b[0m\u001b[0;34m.\u001b[0m\u001b[0mNormal\u001b[0m\u001b[0;34m(\u001b[0m\u001b[0;36m178\u001b[0m\u001b[0;34m,\u001b[0m \u001b[0;36m20\u001b[0m\u001b[0;34m)\u001b[0m\u001b[0;34m.\u001b[0m\u001b[0msample\u001b[0m\u001b[0;34m(\u001b[0m\u001b[0mkey\u001b[0m\u001b[0;34m,\u001b[0m \u001b[0;34m(\u001b[0m\u001b[0;36m10000\u001b[0m\u001b[0;34m,\u001b[0m\u001b[0;34m)\u001b[0m\u001b[0;34m)\u001b[0m\u001b[0;34m\u001b[0m\u001b[0;34m\u001b[0m\u001b[0m\n\u001b[0;32m----> 2\u001b[0;31m \u001b[0mpriorh\u001b[0m \u001b[0;34m=\u001b[0m \u001b[0mdist\u001b[0m\u001b[0;34m.\u001b[0m\u001b[0mNormal\u001b[0m\u001b[0;34m(\u001b[0m\u001b[0msamplemu\u001b[0m\u001b[0;34m,\u001b[0m \u001b[0msamplestd\u001b[0m\u001b[0;34m)\u001b[0m\u001b[0;34m\u001b[0m\u001b[0;34m\u001b[0m\u001b[0m\n\u001b[0m\u001b[1;32m      3\u001b[0m \u001b[0mpriorh\u001b[0m\u001b[0;34m.\u001b[0m\u001b[0msample\u001b[0m\u001b[0;34m(\u001b[0m\u001b[0mkey\u001b[0m\u001b[0;34m)\u001b[0m\u001b[0;34m.\u001b[0m\u001b[0mshape\u001b[0m\u001b[0;34m\u001b[0m\u001b[0;34m\u001b[0m\u001b[0m\n",
            "\u001b[0;31mNameError\u001b[0m: name 'samplestd' is not defined"
          ]
        }
      ]
    },
    {
      "cell_type": "markdown",
      "metadata": {
        "id": "vYpqVAkMIz1u"
      },
      "source": [
        "## 4.15"
      ]
    },
    {
      "cell_type": "code",
      "metadata": {
        "id": "qfQZK1zrAREq"
      },
      "source": [
        "sample_mu = dist.Normal(178, 100).sample(random.PRNGKey(0), (int(1e4),))\n",
        "samplestd = dist.Uniform(0, 50).sample(random.PRNGKey(1), (10000,))\n",
        "prior_h = dist.Normal(sample_mu, samplestd).sample(random.PRNGKey(2))\n",
        "az.plot_kde(prior_h)\n",
        "plt.show()"
      ],
      "execution_count": null,
      "outputs": []
    },
    {
      "cell_type": "markdown",
      "metadata": {
        "id": "9vg7jqRm0bRA"
      },
      "source": [
        "## 4.16\n",
        "\n",
        "Meshgrid returns 2 vars. Now if u iterate thru them, ull get coordinate like results (if not razed, then batch like).\n",
        "\n",
        "If you use\n",
        "the obvious approach, like exp(post\\$prod ), you’ll get a vector full of zeros, which isn’t very helpful. This\n",
        "is a result of R’s rounding very small probabilities to zero. Remember, in large samples, all unique samples are\n",
        "unlikely. This is why you have to work with log-probability. The code in the box dodges this problem by scaling\n",
        "all of the log-products by the maximum log-product. As a result, the values in post$prob are not all zero, but\n",
        "they also aren’t exactly probabilities. Instead they are relative posterior probabilities. But that’s good enough for\n",
        "what we wish to do with these values."
      ]
    },
    {
      "cell_type": "code",
      "metadata": {
        "id": "om0DGLasI2yM"
      },
      "source": [
        "mulist = jnp.linspace(150, 160, 100)\n",
        "siglist = jnp.linspace(7, 9, 100)\n",
        "mesh = jnp.meshgrid(mulist, siglist)\n",
        "post = {'mu': mesh[0].reshape(-1), 'std': mesh[1].reshape(-1)}\n",
        "post['LL'] = vmap(lambda mu, sigma: jnp.sum(dist.Normal(mu, sigma).log_prob(d2.height.values)))(post['mu'], post['std'])\n",
        "lmu = dist.Normal(178, 20).log_prob(post['mu'])\n",
        "lstd = dist.Uniform(0, 50).log_prob(post['std'])\n",
        "post['prob'] = post['LL'] + lmu + lstd\n",
        "post['prob'] = jnp.exp(post['prob'] - jnp.max(post['prob']))\n",
        "post['prob']"
      ],
      "execution_count": null,
      "outputs": []
    },
    {
      "cell_type": "markdown",
      "metadata": {
        "id": "8I4oLpI_F7iL"
      },
      "source": [
        "## 4.17 - 4.18"
      ]
    },
    {
      "cell_type": "code",
      "metadata": {
        "id": "euPURiOfF_RQ"
      },
      "source": [
        "plt.imshow(\n",
        "    post[\"prob\"].reshape(100, 100),\n",
        "    origin=\"lower\",\n",
        "    extent=(150, 160, 7, 9),\n",
        "    aspect=\"auto\",\n",
        ")\n",
        "plt.show()"
      ],
      "execution_count": null,
      "outputs": []
    },
    {
      "cell_type": "markdown",
      "metadata": {
        "id": "MKvsDJTUGf1C"
      },
      "source": [
        "## 4.19\n",
        "\n",
        "Dist Categorical is like sampling with replacement ... til n"
      ]
    },
    {
      "cell_type": "code",
      "metadata": {
        "id": "FxbNL9jAGo7h"
      },
      "source": [
        "prob = post['prob'] / jnp.sum(post['prob'])\n",
        "samplerows = dist.Categorical(probs=prob).sample(key, (10000,))\n",
        "smu = post['mu'][samplerows]\n",
        "sstd = post['std'][samplerows]\n",
        "sstd"
      ],
      "execution_count": null,
      "outputs": []
    },
    {
      "cell_type": "markdown",
      "metadata": {
        "id": "dx9wS-PRVg1k"
      },
      "source": [
        "## 4.20"
      ]
    },
    {
      "cell_type": "code",
      "metadata": {
        "id": "uhfOMpXjTp7_"
      },
      "source": [
        "plt.scatter(smu, sstd, s=64, alpha=0.1, edgecolor=\"none\")\n",
        "plt.show()"
      ],
      "execution_count": null,
      "outputs": []
    },
    {
      "cell_type": "markdown",
      "metadata": {
        "id": "zK1vELcGaDGE"
      },
      "source": [
        "## 4.21 - 4.22"
      ]
    },
    {
      "cell_type": "code",
      "metadata": {
        "id": "fY5iYwxRVps9"
      },
      "source": [
        "az.plot_kde(smu)\n",
        "plt.show()\n",
        "az.plot_kde(sstd)\n",
        "plt.show()\n",
        "print(hpdi(smu, 0.89))\n",
        "print(hpdi(sstd, 0.89))"
      ],
      "execution_count": null,
      "outputs": []
    },
    {
      "cell_type": "markdown",
      "metadata": {
        "id": "jOj3k2uETelq"
      },
      "source": [
        "## 4.23 - 4.25\n",
        "\n",
        "Right tail longer for std bcoz it can never be negative (its only one of the reason tho)"
      ]
    },
    {
      "cell_type": "code",
      "metadata": {
        "id": "Ffz2xeIZaMLb"
      },
      "source": [
        "d3 = d2.height.sample(20)\n",
        "mu_list = jnp.linspace(start=150, stop=170, num=200)\n",
        "sigma_list = jnp.linspace(start=4, stop=20, num=200)\n",
        "mesh = jnp.meshgrid(mu_list, sigma_list)\n",
        "post2 = {\"mu\": mesh[0].reshape(-1), \"sigma\": mesh[1].reshape(-1)}\n",
        "post2[\"LL\"] = vmap(\n",
        "    lambda mu, sigma: jnp.sum(dist.Normal(mu, sigma).log_prob(d3.values))\n",
        ")(post2[\"mu\"], post2[\"sigma\"])\n",
        "logprob_mu = dist.Normal(178, 20).log_prob(post2[\"mu\"])\n",
        "logprob_sigma = dist.Uniform(0, 50).log_prob(post2[\"sigma\"])\n",
        "post2[\"prob\"] = post2[\"LL\"] + logprob_mu + logprob_sigma\n",
        "post2[\"prob\"] = jnp.exp(post2[\"prob\"] - jnp.max(post2[\"prob\"]))\n",
        "prob = post2[\"prob\"] / jnp.sum(post2[\"prob\"])\n",
        "sample2_rows = dist.Categorical(probs=prob).sample(random.PRNGKey(0), (int(1e4),))\n",
        "sample2_mu = post2[\"mu\"][sample2_rows]\n",
        "sample2_sigma = post2[\"sigma\"][sample2_rows]\n",
        "plt.scatter(sample2_mu, sample2_sigma, s=64, alpha=0.1, edgecolor=\"none\")\n",
        "plt.show()\n",
        "az.plot_kde(sample2_sigma)\n",
        "x = jnp.sort(sample2_sigma)\n",
        "plt.plot(x, jnp.exp(dist.Normal(jnp.mean(x), jnp.std(x)).log_prob(x)), \"--\")\n",
        "plt.show()"
      ],
      "execution_count": null,
      "outputs": []
    },
    {
      "cell_type": "markdown",
      "metadata": {
        "id": "1v94A0T-UXaR"
      },
      "source": [
        "## 4.26 - 4.29\n",
        "\n",
        "flist is the model\n",
        "\n",
        "it seems the m4_1 is the quap approx or guide\n",
        "\n",
        "RN treat it as blackbox"
      ]
    },
    {
      "cell_type": "code",
      "metadata": {
        "id": "yf3zZRd5UQDB"
      },
      "source": [
        "def flist(height=None):\n",
        "    mu = numpyro.sample(\"mu\", dist.Normal(178, 20), rng_key=key)\n",
        "    sigma = numpyro.sample(\"sigma\", dist.Uniform(0, 50), rng_key=key)\n",
        "    numpyro.sample(\"height\", dist.Normal(mu, sigma), obs=height)"
      ],
      "execution_count": null,
      "outputs": []
    },
    {
      "cell_type": "code",
      "metadata": {
        "id": "Hcwyf1JH1aXj"
      },
      "source": [
        "m4_1 = AutoLaplaceApproximation(flist)\n",
        "svi = SVI(flist, m4_1, optim.Adam(1), Trace_ELBO(), height=d2.height.values)\n",
        "svi_result = svi.run(random.PRNGKey(0), 2000)\n",
        "p4_1 = svi_result.params"
      ],
      "execution_count": null,
      "outputs": []
    },
    {
      "cell_type": "code",
      "metadata": {
        "id": "BZIr5VTb4AAE"
      },
      "source": [
        "samples = m4_1.sample_posterior(random.PRNGKey(1), p4_1, (1000,))\n",
        "print_summary(samples, 0.89, False)"
      ],
      "execution_count": null,
      "outputs": []
    },
    {
      "cell_type": "markdown",
      "metadata": {
        "id": "WLvPS9x-70DF"
      },
      "source": [
        "## 4.30"
      ]
    },
    {
      "cell_type": "code",
      "metadata": {
        "id": "pm-FlMuJ4rzU"
      },
      "source": [
        "start = {\"mu\": d2.height.mean(), \"sigma\": d2.height.std()}\n",
        "m4_1 = AutoLaplaceApproximation(flist, init_loc_fn=init_to_value(values=start))\n",
        "svi = SVI(flist, m4_1, optim.Adam(0.1), Trace_ELBO(), height=d2.height.values)\n",
        "svi_result = svi.run(random.PRNGKey(0), 2000)\n",
        "p4_1 = svi_result.params"
      ],
      "execution_count": null,
      "outputs": []
    },
    {
      "cell_type": "markdown",
      "metadata": {
        "id": "nCO0wjrS9Mrc"
      },
      "source": [
        "## 4.31"
      ]
    },
    {
      "cell_type": "code",
      "metadata": {
        "id": "fPni_jf18aI0"
      },
      "source": [
        "def model(height):\n",
        "    mu = numpyro.sample(\"mu\", dist.Normal(178, 0.1))\n",
        "    sigma = numpyro.sample(\"sigma\", dist.Uniform(0, 50))\n",
        "    numpyro.sample(\"height\", dist.Normal(mu, sigma), obs=height)\n",
        "\n",
        "\n",
        "m4_2 = AutoLaplaceApproximation(model)\n",
        "svi = SVI(model, m4_2, optim.Adam(1), Trace_ELBO(), height=d2.height.values)\n",
        "svi_result = svi.run(random.PRNGKey(0), 2000)\n",
        "p4_2 = svi_result.params\n",
        "samples = m4_2.sample_posterior(random.PRNGKey(1), p4_2, (1000,))\n",
        "print_summary(samples, 0.89, False)"
      ],
      "execution_count": null,
      "outputs": []
    },
    {
      "cell_type": "markdown",
      "metadata": {
        "id": "ZcFVAUyuyAnO"
      },
      "source": [
        "## 4.32 "
      ]
    },
    {
      "cell_type": "code",
      "metadata": {
        "id": "yzH8BKov99t0"
      },
      "source": [
        "SP = m4_1.sample_posterior(key, p4_1, (1000,))\n",
        "vcov = jnp.cov(jnp.stack(list(SP.values()), axis=0))\n",
        "vcov"
      ],
      "execution_count": null,
      "outputs": []
    },
    {
      "cell_type": "markdown",
      "metadata": {
        "id": "a96pXPCWXM_0"
      },
      "source": [
        "## 4.33"
      ]
    },
    {
      "cell_type": "code",
      "metadata": {
        "id": "kGUxZ6MiV83z"
      },
      "source": [
        "var = jnp.diag(vcov)\n",
        "corr = vcov / jnp.sqrt(jnp.outer(var, var))\n",
        "print(var)\n",
        "print(corr)"
      ],
      "execution_count": null,
      "outputs": []
    },
    {
      "cell_type": "markdown",
      "metadata": {
        "id": "aBICVx0hsXfD"
      },
      "source": [
        "## 4.34 - 4.35"
      ]
    },
    {
      "cell_type": "code",
      "metadata": {
        "id": "VEZ_T6DdX9qR"
      },
      "source": [
        "post = m4_1.sample_posterior(key, p4_1, (1000,))\n",
        "print_summary(post, 0.89, False)"
      ],
      "execution_count": null,
      "outputs": []
    },
    {
      "cell_type": "markdown",
      "metadata": {
        "id": "wRc7_3u6u_xS"
      },
      "source": [
        "## 4.36"
      ]
    },
    {
      "cell_type": "code",
      "metadata": {
        "id": "Ez_EmXhGtJ5h"
      },
      "source": [
        "flat = jnp.stack(list(post.values()))\n",
        "print(flat.shape)\n",
        "mu, sigma = jnp.mean(flat, axis=1), jnp.cov(flat)\n",
        "print(mu)\n",
        "print(sigma)\n",
        "PD = dist.MultivariateNormal(mu, sigma).sample(key, (1000,))\n",
        "PD"
      ],
      "execution_count": null,
      "outputs": []
    },
    {
      "cell_type": "markdown",
      "metadata": {
        "id": "6nUxl5mTPfeO"
      },
      "source": [
        "## 4.37"
      ]
    },
    {
      "cell_type": "code",
      "metadata": {
        "id": "9SB0yLdnvGeK"
      },
      "source": [
        "az.plot_pair(d2[[\"weight\", \"height\"]].to_dict(orient=\"list\"))\n",
        "plt.show()"
      ],
      "execution_count": null,
      "outputs": []
    },
    {
      "cell_type": "markdown",
      "metadata": {
        "id": "fDpbSRFoHC0t"
      },
      "source": [
        "## 4.38\n",
        "\n",
        "expand is like setting up individual sample size\n",
        "and numpyro sample returns a single sample"
      ]
    },
    {
      "cell_type": "code",
      "metadata": {
        "id": "9Jehd06THEqj"
      },
      "source": [
        "with numpyro.handlers.seed(rng_seed=2971):\n",
        "    N = 100\n",
        "    a = numpyro.sample(\"a\", dist.Normal(178, 20).expand([N]))\n",
        "    b = numpyro.sample(\"b\", dist.Normal(0, 10).expand([N]))\n",
        "b"
      ],
      "execution_count": null,
      "outputs": []
    },
    {
      "cell_type": "markdown",
      "metadata": {
        "id": "4AzRtrscNaSW"
      },
      "source": [
        "## 4.39"
      ]
    },
    {
      "cell_type": "code",
      "metadata": {
        "id": "LSu2V6CMNEzV"
      },
      "source": [
        "plt.subplot(\n",
        "    xlim=(d2.weight.min(), d2.weight.max()),\n",
        "    ylim=(-100, 400),\n",
        "    xlabel='weight',\n",
        "    ylabel='height'\n",
        ")\n",
        "\n",
        "plt.axhline(y=0, c=\"k\", ls=\"--\")\n",
        "plt.axhline(y=272, c=\"k\", ls=\"-\", lw=0.5)\n",
        "plt.title(\"b ~ Normal(0, 10)\")\n",
        "xbar = d2.weight.mean()\n",
        "x = jnp.linspace(d2.weight.min(), d2.weight.max(), 101)\n",
        "\n",
        "for i in range(N):\n",
        "    plt.plot(x, a[i] + b[i] * (x - xbar), \"k\", alpha=0.2)\n",
        "plt.show()"
      ],
      "execution_count": null,
      "outputs": []
    },
    {
      "cell_type": "markdown",
      "metadata": {
        "id": "Zon0aMVeQcmE"
      },
      "source": [
        "## 4.40"
      ]
    },
    {
      "cell_type": "code",
      "metadata": {
        "id": "4l7teYIBN83U"
      },
      "source": [
        "b = dist.LogNormal(0, 1).sample(key, (1000,))\n",
        "az.plot_kde(b)\n",
        "plt.show()"
      ],
      "execution_count": null,
      "outputs": []
    },
    {
      "cell_type": "markdown",
      "metadata": {
        "id": "a5oafftbRE9-"
      },
      "source": [
        "## 4.41"
      ]
    },
    {
      "cell_type": "code",
      "metadata": {
        "id": "CxfYAuZzQaBF"
      },
      "source": [
        "with numpyro.handlers.seed(rng_seed=2971):\n",
        "    N = 100  # 100 lines\n",
        "    a = numpyro.sample(\"a\", dist.Normal(178, 20).expand([N]))\n",
        "    b = numpyro.sample(\"b\", dist.LogNormal(0, 1).expand([N]))"
      ],
      "execution_count": null,
      "outputs": []
    },
    {
      "cell_type": "markdown",
      "metadata": {
        "id": "yFlC7_mcIgM6"
      },
      "source": [
        "## 4.42"
      ]
    },
    {
      "cell_type": "code",
      "metadata": {
        "id": "heHPNcfIRl4m"
      },
      "source": [
        " xbar = d2.weight.mean()\n",
        " def model(weight, height):\n",
        "     a = numpyro.sample('a', dist.Normal(178, 20))\n",
        "     b = numpyro.sample('b', dist.LogNormal(0, 1))\n",
        "     sigma = numpyro.sample('sigma', dist.Uniform(0, 50))\n",
        "     mu = numpyro.deterministic('mu', a + b * (weight - xbar))\n",
        "     numpyro.sample('height', dist.Normal(mu, sigma), obs=height)\n",
        "\n",
        "m4_3 = AutoLaplaceApproximation(model)\n",
        "\n",
        "svi = SVI(model, m4_3, optim.Adam(1), Trace_ELBO(), weight=d2.weight.values, height=d2.height.values)\n",
        "p4_3 = svi.run(key, 2000).params"
      ],
      "execution_count": null,
      "outputs": []
    },
    {
      "cell_type": "markdown",
      "metadata": {
        "id": "c0caJvvaOUE0"
      },
      "source": [
        "## 4.43"
      ]
    },
    {
      "cell_type": "code",
      "metadata": {
        "id": "u0J9yGlFJjv6"
      },
      "source": [
        "def model(weight, height):\n",
        "    a = numpyro.sample('a', dist.Normal(178, 20))\n",
        "    log_b = numpyro.sample('log_b', dist.Normal(0, 1))\n",
        "    sigma = numpyro.sample('sigma', dist.Uniform(0, 50))\n",
        "    mu = numpyro.deterministic('mu', a + jnp.exp(log_b) * (weight - xbar))\n",
        "    numpyro.sample('height', dist.Normal(mu, sigma), obs=height)\n",
        "\n",
        "m4_3b = AutoLaplaceApproximation(model)\n",
        "svi = SVI(model, m4_3b, optim.Adam(1), Trace_ELBO(), weight=d2.weight.values, height=d2.height.values)\n",
        "p4_3b = svi.run(key, 2000).params"
      ],
      "execution_count": null,
      "outputs": []
    },
    {
      "cell_type": "markdown",
      "metadata": {
        "id": "Q9BR5KqrlLhm"
      },
      "source": [
        "## 4.44"
      ]
    },
    {
      "cell_type": "code",
      "metadata": {
        "id": "lplkVL7bbKlJ"
      },
      "source": [
        "samples = m4_3.sample_posterior(key, p4_3, (1000,))\n",
        "samples.pop('mu')\n",
        "print_summary(samples, 0.89, False)"
      ],
      "execution_count": null,
      "outputs": []
    },
    {
      "cell_type": "markdown",
      "metadata": {
        "id": "Qhw2WTkjnzB8"
      },
      "source": [
        "## 4.45"
      ]
    },
    {
      "cell_type": "code",
      "metadata": {
        "id": "b62KqQgrkz-W"
      },
      "source": [
        "vcov = jnp.cov(jnp.stack(list(samples.values()), axis=0))\n",
        "jnp.round(vcov, 3)"
      ],
      "execution_count": null,
      "outputs": []
    },
    {
      "cell_type": "markdown",
      "metadata": {
        "id": "FMFKvM5wj85C"
      },
      "source": [
        "## 4.46"
      ]
    },
    {
      "cell_type": "code",
      "metadata": {
        "id": "tftJaH0zipNe"
      },
      "source": [
        "az.plot_pair(d2[[\"weight\", \"height\"]].to_dict(orient=\"list\"))\n",
        "post = m4_3.sample_posterior(key, p4_3, (1000,))\n",
        "amap, bmap = jnp.mean(post['a']), jnp.mean(post['b'])\n",
        "x = jnp.linspace(d2.weight.min(), d2.weight.max(), 101)\n",
        "plt.plot(x, amap + bmap * (x - xbar), 'k')\n",
        "plt.show()"
      ],
      "execution_count": null,
      "outputs": []
    },
    {
      "cell_type": "markdown",
      "metadata": {
        "id": "_1G5qIv3n1tz"
      },
      "source": [
        "## 4.47"
      ]
    },
    {
      "cell_type": "code",
      "metadata": {
        "id": "IVFnOqpUkY4S"
      },
      "source": [
        "{k:v[:5] for k, v in post.items()}"
      ],
      "execution_count": null,
      "outputs": []
    },
    {
      "cell_type": "markdown",
      "metadata": {
        "id": "8EMYqyIQutV3"
      },
      "source": [
        "## 4.48"
      ]
    },
    {
      "cell_type": "code",
      "metadata": {
        "id": "W_JdKeVFoC4d"
      },
      "source": [
        "d10 = d2[:10]\n",
        "\n",
        "def model(weight, height):\n",
        "    a = numpyro.sample(\"a\", dist.Normal(178, 20))\n",
        "    b = numpyro.sample(\"b\", dist.LogNormal(0, 50))\n",
        "    sigma = numpyro.sample(\"sigma\", dist.Uniform(0, 50))\n",
        "    mu = a + b * (weight - jnp.mean(weight))\n",
        "    numpyro.sample(\"height\", dist.Normal(mu, sigma), obs=height)\n",
        "\n",
        "m10 = AutoLaplaceApproximation(model)\n",
        "\n",
        "svi = SVI(model, m10, optim.Adam(1), Trace_ELBO(), weight=d10.weight.values, height=d10.height.values)\n",
        "p10 = svi.run(key, 1000).params\n"
      ],
      "execution_count": null,
      "outputs": []
    },
    {
      "cell_type": "markdown",
      "metadata": {
        "id": "LvKlqaqdzref"
      },
      "source": [
        "## 4.49"
      ]
    },
    {
      "cell_type": "code",
      "metadata": {
        "id": "xvND7oQyyNr5"
      },
      "source": [
        "post = m10.sample_posterior(key, p10, (20, ))\n",
        "\n",
        "ax = az.plot_pair(d10[[\"weight\", \"height\"]].to_dict(orient=\"list\"))\n",
        "ax.set(\n",
        "    xlim=(d2.weight.min(), d2.weight.max()),\n",
        "    ylim=(d2.height.min(), d2.height.max()),\n",
        "    title=\"N = {}\".format(10),\n",
        ")\n",
        "\n",
        "# plot the lines, with transparency\n",
        "x = jnp.linspace(d2.weight.min(), d2.weight.max(), 101)\n",
        "for i in range(20):\n",
        "    plt.plot(x, post[\"a\"][i] + post[\"b\"][i] * (x - d10.weight.mean()), \"k\", alpha=0.3)"
      ],
      "execution_count": null,
      "outputs": []
    },
    {
      "cell_type": "markdown",
      "metadata": {
        "id": "soKIvdjd-lYO"
      },
      "source": [
        "## 4.50"
      ]
    },
    {
      "cell_type": "code",
      "metadata": {
        "id": "AbqGQ__Z0Btn"
      },
      "source": [
        "post = m4_3.sample_posterior(key, p4_3, (1000,))\n",
        "mu_at_50 = post['a'] + post['b'] * (50 - xbar)\n",
        "mu_at_50"
      ],
      "execution_count": null,
      "outputs": []
    },
    {
      "cell_type": "markdown",
      "metadata": {
        "id": "lHqtFyOg_1Gd"
      },
      "source": [
        "## 4.51"
      ]
    },
    {
      "cell_type": "code",
      "metadata": {
        "id": "VVPJnD4Q_xY3"
      },
      "source": [
        "az.plot_kde(mu_at_50, label=\"mu|weight=50\")\n",
        "plt.show()"
      ],
      "execution_count": null,
      "outputs": []
    },
    {
      "cell_type": "markdown",
      "metadata": {
        "id": "WHZWBtaLAFce"
      },
      "source": [
        "## 4.52"
      ]
    },
    {
      "cell_type": "code",
      "metadata": {
        "id": "QALrZTKR_811"
      },
      "source": [
        "jnp.percentile(mu_at_50, q=jnp.array([5.5, 94.5]))"
      ],
      "execution_count": null,
      "outputs": []
    },
    {
      "cell_type": "markdown",
      "metadata": {
        "id": "o2k8u7AzBDd-"
      },
      "source": [
        "## 4.53"
      ]
    },
    {
      "cell_type": "code",
      "metadata": {
        "id": "c2Nsbqy3ANQl"
      },
      "source": [
        "mu = Predictive(m4_3.model, post, return_sites=['mu'])(random.PRNGKey(2), d2.weight.values, None)['mu']\n",
        "mu[:5, 0]"
      ],
      "execution_count": null,
      "outputs": []
    },
    {
      "cell_type": "markdown",
      "metadata": {
        "id": "N2rtjMw0IZNx"
      },
      "source": [
        "## 4.54"
      ]
    },
    {
      "cell_type": "code",
      "metadata": {
        "id": "VyNIl3ZFBpru"
      },
      "source": [
        "weight_seq = jnp.arange(start=25, stop=71, step=1)\n",
        "mu = Predictive(m4_3.model, post, return_sites=[\"mu\"])(\n",
        "    random.PRNGKey(2), weight_seq, None\n",
        ")[\"mu\"]\n",
        "mu.shape, list(mu[:5, 0])"
      ],
      "execution_count": null,
      "outputs": []
    },
    {
      "cell_type": "markdown",
      "metadata": {
        "id": "E6tF2s82KGxQ"
      },
      "source": [
        "## 4.55"
      ]
    },
    {
      "cell_type": "code",
      "metadata": {
        "id": "Ljt6V3PVJ1dC"
      },
      "source": [
        "az.plot_pair(\n",
        "    d2[[\"weight\", \"height\"]].to_dict(orient=\"list\"), scatter_kwargs={\"alpha\": 0}\n",
        ")\n",
        "for i in range(100):\n",
        "    plt.plot(weight_seq, mu[i], \"o\", c=\"royalblue\", alpha=0.1)\n",
        "plt.show()"
      ],
      "execution_count": null,
      "outputs": []
    },
    {
      "cell_type": "markdown",
      "metadata": {
        "id": "HW_GejuGPNo5"
      },
      "source": [
        "## 4.56"
      ]
    },
    {
      "cell_type": "code",
      "metadata": {
        "id": "qaANz8J2MqRy"
      },
      "source": [
        "mu_mean = jnp.mean(mu, 0)\n",
        "mu_PI = jnp.percentile(mu, q=jnp.array([5.5, 94.5]), axis=0)\n",
        "mu_mean.shape\n",
        "mu_PI.shape"
      ],
      "execution_count": null,
      "outputs": []
    },
    {
      "cell_type": "markdown",
      "metadata": {
        "id": "sHMHDcBCYyFg"
      },
      "source": [
        "## 4.57"
      ]
    },
    {
      "cell_type": "code",
      "metadata": {
        "id": "Mi5gLV1OYvA6"
      },
      "source": [
        "az.plot_pair(\n",
        "    d2[[\"weight\", \"height\"]].to_dict(orient=\"list\"), scatter_kwargs={\"alpha\": 0.5}\n",
        ")\n",
        "\n",
        "plt.plot(weight_seq, mu_mean, \"k\")\n",
        "\n",
        "plt.fill_between(weight_seq, mu_PI[0], mu_PI[1], color=\"k\", alpha=0.2)\n",
        "plt.show()"
      ],
      "execution_count": null,
      "outputs": []
    },
    {
      "cell_type": "markdown",
      "metadata": {
        "id": "qbHYMwY5a-eh"
      },
      "source": [
        "## 4.59"
      ]
    },
    {
      "cell_type": "code",
      "metadata": {
        "id": "vzlM6a_na4lw"
      },
      "source": [
        "sim_height = Predictive(m4_3.model, post, return_sites=['height'])(random.PRNGKey(2), weight_seq, None)['height']\n",
        "sim_height.shape, list(sim_height[:5, 0])"
      ],
      "execution_count": null,
      "outputs": []
    },
    {
      "cell_type": "markdown",
      "metadata": {
        "id": "AN2pmW3geUlE"
      },
      "source": [
        "## 4.60"
      ]
    },
    {
      "cell_type": "code",
      "metadata": {
        "id": "099C2zgGYvVW"
      },
      "source": [
        "sim_height_PI = jnp.percentile(sim_height, q=jnp.array([5.5, 94.5]), axis=0)\n",
        "sim_height_PI"
      ],
      "execution_count": null,
      "outputs": []
    },
    {
      "cell_type": "markdown",
      "metadata": {
        "id": "v8Hv1WzSe9Fr"
      },
      "source": [
        "## 4.61"
      ]
    },
    {
      "cell_type": "code",
      "metadata": {
        "id": "6B3j_EgPen1U"
      },
      "source": [
        "az.plot_pair(\n",
        "    d2[[\"weight\", \"height\"]].to_dict(orient=\"list\"), scatter_kwargs={\"alpha\": 0.5}\n",
        ")\n",
        "plt.plot(weight_seq, mu_mean, \"k\")\n",
        "plt.fill_between(weight_seq, mu_PI[0], mu_PI[1], color=\"k\", alpha=0.2)\n",
        "plt.fill_between(weight_seq, sim_height_PI[0], sim_height_PI[1], color=\"k\", alpha=0.15)\n",
        "plt.show()"
      ],
      "execution_count": null,
      "outputs": []
    },
    {
      "cell_type": "markdown",
      "metadata": {
        "id": "MgU50SNHizDt"
      },
      "source": [
        "## 4.62"
      ]
    },
    {
      "cell_type": "code",
      "metadata": {
        "id": "WmyM-vYKf9h1"
      },
      "source": [
        "post = m4_3.sample_posterior(key, p4_3, (10000,))\n",
        "sim_height = Predictive(m4_3.model, post, return_sites=['height'])(key, weight_seq, None)['height']\n",
        "height_PI = jnp.percentile(sim_height, q=jnp.array([5.5, 94.5]), axis=0)"
      ],
      "execution_count": null,
      "outputs": []
    },
    {
      "cell_type": "markdown",
      "metadata": {
        "id": "3A5VKUaXjpsE"
      },
      "source": [
        "## 4.63"
      ]
    },
    {
      "cell_type": "code",
      "metadata": {
        "id": "zpW2aSqHg4KU"
      },
      "source": [
        "post = m4_3.sample_posterior(random.PRNGKey(1), p4_3, (1000,))\n",
        "weight_seq = jnp.arange(25, 71)\n",
        "sim_height = vmap(\n",
        "    lambda i, weight: dist.Normal(\n",
        "        post[\"a\"] + post[\"b\"] * (weight - xbar), post[\"sigma\"]\n",
        "    ).sample(random.PRNGKey(i))\n",
        ")(jnp.arange(len(weight_seq)), weight_seq).T\n",
        "height_PI = jnp.percentile(sim_height, q=jnp.array([5.5, 94.5]), axis=0)\n",
        "jnp.arange(len(weight_seq))"
      ],
      "execution_count": null,
      "outputs": []
    },
    {
      "cell_type": "markdown",
      "source": [
        "## 4.64 -4.65"
      ],
      "metadata": {
        "id": "v339v2kuxLC2"
      }
    },
    {
      "cell_type": "code",
      "metadata": {
        "id": "h__IyaNlkX29",
        "colab": {
          "base_uri": "https://localhost:8080/"
        },
        "outputId": "553af712-4b96-4c5d-fc92-044d1f1d84f9"
      },
      "source": [
        "d = pd.read_csv('https://raw.githubusercontent.com/fehiepsi/rethinking-numpyro/master/data/Howell1.csv', delimiter=';')\n",
        "key = random.PRNGKey(0)\n",
        "d['weight_s'] = (d['weight'] -d['weight'].mean()) / d['weight'].std()\n",
        "d['weight_s2'] = d['weight_s']**2\n",
        "\n",
        "def model(weight_s, weight_s2, height):\n",
        "    a = numpyro.sample(\"a\", dist.Normal(178, 20))\n",
        "    b1 = numpyro.sample(\"b1\", dist.LogNormal(0, 1))\n",
        "    b2 = numpyro.sample('b2', dist.Normal(0, 1))\n",
        "    sigma = numpyro.sample('sigma', dist.Uniform(0, 50))\n",
        "    mu = numpyro.deterministic('mu', a + b1 * weight_s + b2 * weight_s2)\n",
        "    numpyro.sample('height', dist.Normal(mu, sigma), obs=height)\n",
        "\n",
        "m4_5 = AutoLaplaceApproximation(model)\n",
        "svi = SVI(model, m4_5, optim.Adam(1), Trace_ELBO(), weight_s=d['weight_s'].values, weight_s2=d['weight_s2'].values, height=d['height'].values)\n",
        "p4_5 = svi.run(key, 3000).params\n",
        "p4_5"
      ],
      "execution_count": null,
      "outputs": [
        {
          "output_type": "stream",
          "name": "stderr",
          "text": [
            "100%|██████████| 3000/3000 [00:03<00:00, 797.40it/s, init loss: 68267.6406, avg. loss [2851-3000]: 1803.5990] \n"
          ]
        },
        {
          "output_type": "execute_result",
          "data": {
            "text/plain": [
              "{'auto_loc': DeviceArray([146.05429  ,   3.0793705,  -7.800374 ,  -2.0350487], dtype=float32)}"
            ]
          },
          "metadata": {},
          "execution_count": 2
        }
      ]
    },
    {
      "cell_type": "markdown",
      "source": [
        "## 4.66"
      ],
      "metadata": {
        "id": "X-AdNT0nLhqN"
      }
    },
    {
      "cell_type": "code",
      "source": [
        "post = m4_5.sample_posterior(key, p4_5, (1000,))\n",
        "print_summary({k: v for k, v in post.items() if k != \"mu\"}, 0.89, False)"
      ],
      "metadata": {
        "id": "HUGRvRlLBjOG",
        "colab": {
          "base_uri": "https://localhost:8080/"
        },
        "outputId": "3fd949af-9525-4fed-887b-cc15e4522ab3"
      },
      "execution_count": null,
      "outputs": [
        {
          "output_type": "stream",
          "name": "stdout",
          "text": [
            "\n",
            "                mean       std    median      5.5%     94.5%     n_eff     r_hat\n",
            "         a    146.06      0.37    146.05    145.54    146.71   1058.54      1.00\n",
            "        b1     21.75      0.28     21.76     21.29     22.19    956.41      1.00\n",
            "        b2     -7.80      0.28     -7.80     -8.22     -7.37    904.73      1.00\n",
            "     sigma      5.77      0.17      5.77      5.47      6.02    889.67      1.00\n",
            "\n"
          ]
        }
      ]
    },
    {
      "cell_type": "markdown",
      "source": [
        "## 4.67"
      ],
      "metadata": {
        "id": "7mQ6FN5WmlqO"
      }
    },
    {
      "cell_type": "code",
      "source": [
        "weight_seq = jnp.linspace(start=-2.2, stop=2, num=30)\n",
        "pred_dat = {'weight_s': weight_seq, 'weight_s2': weight_seq ** 2, 'height': None}\n",
        "predictive = Predictive(m4_5.model, post)\n",
        "mu = predictive(key, **pred_dat)['mu']\n",
        "mu_mean = jnp.mean(mu, 0)\n",
        "mu_PI = jnp.percentile(mu, q=jnp.array([5.5, 94.5]), axis=0)\n",
        "sim_height = predictive(random.PRNGKey(3), **pred_dat)[\"height\"]\n",
        "height_PI = jnp.percentile(sim_height, q=jnp.array([5.5, 94.5]), axis=0)"
      ],
      "metadata": {
        "id": "iiRwYP3SLudG"
      },
      "execution_count": null,
      "outputs": []
    },
    {
      "cell_type": "markdown",
      "source": [
        "## 4.68"
      ],
      "metadata": {
        "id": "dGiDOG69vaQf"
      }
    },
    {
      "cell_type": "code",
      "source": [
        "az.plot_pair(\n",
        "    d[[\"weight_s\", \"height\"]].to_dict(orient=\"list\"), scatter_kwargs={\"alpha\": 0.5}\n",
        ")\n",
        "plt.plot(weight_seq, mu_mean, \"k\")\n",
        "plt.fill_between(weight_seq, mu_PI[0], mu_PI[1], color=\"k\", alpha=0.2)\n",
        "plt.fill_between(weight_seq, height_PI[0], height_PI[1], color=\"k\", alpha=0.15)\n",
        "plt.show()"
      ],
      "metadata": {
        "id": "r2nQ5WoZm2DS",
        "colab": {
          "base_uri": "https://localhost:8080/",
          "height": 290
        },
        "outputId": "9160359e-c072-402d-82c0-f29593ab6385"
      },
      "execution_count": null,
      "outputs": [
        {
          "output_type": "display_data",
          "data": {
            "image/png": "[encoded data removed]",
            "text/plain": [
              "<Figure size 432x288 with 1 Axes>"
            ]
          },
          "metadata": {
            "needs_background": "light"
          }
        }
      ]
    },
    {
      "cell_type": "markdown",
      "source": [
        "## 4.69"
      ],
      "metadata": {
        "id": "n30P8WZu55lj"
      }
    },
    {
      "cell_type": "code",
      "source": [
        "d['weight_s3'] = d.weight_s ** 3\n",
        "\n",
        "def model(weight_s, weight_s2, weight_s3, height):\n",
        "    a = numpyro.sample(\"a\", dist.Normal(178, 20))\n",
        "    b1 = numpyro.sample(\"b1\", dist.LogNormal(0, 1))\n",
        "    b2 = numpyro.sample(\"b2\", dist.Normal(0, 1))\n",
        "    b3 = numpyro.sample(\"b3\", dist.Normal(0, 1))\n",
        "    sigma = numpyro.sample(\"sigma\", dist.Uniform(0, 50))\n",
        "    mu = a + b1 * weight_s + b2 * weight_s2 + b3 * weight_s3\n",
        "    numpyro.sample(\"height\", dist.Normal(mu, sigma), obs=height)\n",
        "\n",
        "m4_6 = AutoLaplaceApproximation(model)\n",
        "svi = SVI(model, m4_6, optim.Adam(0.3), Trace_ELBO(), weight_s=d.weight_s.values, weight_s2=d.weight_s2.values,\n",
        "    weight_s3=d.weight_s3.values,\n",
        "    height=d.height.values)\n",
        "p4_6 = svi.run(key, 1000).params"
      ],
      "metadata": {
        "colab": {
          "base_uri": "https://localhost:8080/"
        },
        "id": "AhDUFd0wuKwH",
        "outputId": "f9d8140e-1018-4b69-e54a-ff00c2b173c2"
      },
      "execution_count": null,
      "outputs": [
        {
          "output_type": "stream",
          "name": "stderr",
          "text": [
            "100%|██████████| 1000/1000 [00:01<00:00, 681.22it/s, init loss: 5544.0449, avg. loss [951-1000]: 1668.3276]\n"
          ]
        }
      ]
    },
    {
      "cell_type": "markdown",
      "source": [
        "## 4.70 - 4.71"
      ],
      "metadata": {
        "id": "Wg4Sdf7x7ygM"
      }
    },
    {
      "cell_type": "code",
      "source": [
        "ax = az.plot_pair(\n",
        "    d[[\"weight_s\", \"height\"]].to_dict(orient=\"list\"), scatter_kwargs={\"alpha\": 0.5}\n",
        ")\n",
        "ax.set(xlabel=\"weight\", ylabel=\"height\", xticks=[])\n",
        "\n",
        "at = jnp.array([-2, -1, 0, 1, 2])\n",
        "labels = at * d.weight.std() + d.weight.mean()\n",
        "ax.set_xticks(at)\n",
        "ax.set_xticklabels([round(label, 1) for label in labels])\n"
      ],
      "metadata": {
        "colab": {
          "base_uri": "https://localhost:8080/",
          "height": 379
        },
        "id": "BUaJabkc64OT",
        "outputId": "fb5709c6-d7d1-4388-9f8d-4118199aebfd"
      },
      "execution_count": null,
      "outputs": [
        {
          "output_type": "execute_result",
          "data": {
            "text/plain": [
              "[Text(0, 0, '6.2'),\n",
              " Text(0, 0, '20.9'),\n",
              " Text(0, 0, '35.6'),\n",
              " Text(0, 0, '50.3'),\n",
              " Text(0, 0, '65.0')]"
            ]
          },
          "metadata": {},
          "execution_count": 10
        },
        {
          "output_type": "display_data",
          "data": {
            "image/png": "[encoded data removed]",
            "text/plain": [
              "<Figure size 432x288 with 1 Axes>"
            ]
          },
          "metadata": {
            "needs_background": "light"
          }
        }
      ]
    },
    {
      "cell_type": "markdown",
      "source": [
        "## 4.72"
      ],
      "metadata": {
        "id": "7V5oApbliymI"
      }
    },
    {
      "cell_type": "code",
      "source": [
        "d = cherryblossoms = pd.read_csv('https://raw.githubusercontent.com/fehiepsi/rethinking-numpyro/master/data/cherry_blossoms.csv', sep=';')\n",
        "print_summary({\"year\": d.year.dropna().values}, 0.89, False)\n",
        "print_summary({\"doy\": d.doy.dropna().values}, 0.89, False)\n",
        "print_summary({\"temp\": d.temp.dropna().values}, 0.89, False)\n",
        "print_summary({\"temp_upper\": d.temp_upper.dropna().values}, 0.89, False)\n",
        "print_summary({\"temp_lower\": d.temp_lower.dropna().values}, 0.89, False)"
      ],
      "metadata": {
        "id": "0uSuWGTN7-li",
        "colab": {
          "base_uri": "https://localhost:8080/"
        },
        "outputId": "86731a91-2916-4fd4-b372-bf6e606e2495"
      },
      "execution_count": null,
      "outputs": [
        {
          "output_type": "stream",
          "name": "stdout",
          "text": [
            "\n",
            "                mean       std    median      5.5%     94.5%     n_eff     r_hat\n",
            "      year   1408.00    350.88   1408.00    801.00   1882.00      2.51      2.65\n",
            "\n",
            "\n",
            "                mean       std    median      5.5%     94.5%     n_eff     r_hat\n",
            "       doy    104.54      6.41    105.00     93.00    113.00    111.98      1.00\n",
            "\n",
            "\n",
            "                mean       std    median      5.5%     94.5%     n_eff     r_hat\n",
            "      temp      6.14      0.66      6.10      5.03      7.13     22.07      1.02\n",
            "\n",
            "\n",
            "                  mean       std    median      5.5%     94.5%     n_eff     r_hat\n",
            "  temp_upper      7.19      0.99      7.04      5.66      8.54     10.11      1.24\n",
            "\n",
            "\n",
            "                  mean       std    median      5.5%     94.5%     n_eff     r_hat\n",
            "  temp_lower      5.10      0.85      5.14      3.79      6.37     21.90      1.11\n",
            "\n"
          ]
        }
      ]
    },
    {
      "cell_type": "markdown",
      "source": [
        "## 4.73"
      ],
      "metadata": {
        "id": "78Y7vNoIpIuD"
      }
    },
    {
      "cell_type": "code",
      "source": [
        "d2 = d[d.doy.notna()]\n",
        "knot_list = jnp.quantile(\n",
        "    d2.year.values.astype(float), q=jnp.linspace(0, 1, num=15)\n",
        ")\n",
        "knot_list"
      ],
      "metadata": {
        "id": "_aWPgps-oypT",
        "colab": {
          "base_uri": "https://localhost:8080/"
        },
        "outputId": "37430902-cf17-47fa-ffa8-1407720d5ed7"
      },
      "execution_count": null,
      "outputs": [
        {
          "output_type": "execute_result",
          "data": {
            "text/plain": [
              "DeviceArray([ 812., 1036., 1174., 1269., 1377., 1454., 1518., 1583.,\n",
              "             1650., 1714., 1774., 1833., 1893., 1956., 2015.],            dtype=float32)"
            ]
          },
          "metadata": {},
          "execution_count": 4
        }
      ]
    },
    {
      "cell_type": "markdown",
      "source": [
        "## 4.74\n",
        "\n",
        "the second arg of BSpline is an N*N identity matrix tharepresnts N knots"
      ],
      "metadata": {
        "id": "hQMT3HVSjuk7"
      }
    },
    {
      "cell_type": "code",
      "source": [
        "knots = jnp.pad(knot_list, (3, 3), mode='edge')\n",
        "B = BSpline(knots, jnp.identity(17), 3)(d2.year.values)\n",
        "B.shape[1:]"
      ],
      "metadata": {
        "id": "fL_6nyEOOUXj",
        "colab": {
          "base_uri": "https://localhost:8080/"
        },
        "outputId": "a51b0e24-593d-4918-a2ac-e00b5cb9741f"
      },
      "execution_count": null,
      "outputs": [
        {
          "output_type": "execute_result",
          "data": {
            "text/plain": [
              "(17,)"
            ]
          },
          "metadata": {},
          "execution_count": 5
        }
      ]
    },
    {
      "cell_type": "markdown",
      "source": [
        "## 4.75"
      ],
      "metadata": {
        "id": "Hrs1ym4vrla6"
      }
    },
    {
      "cell_type": "code",
      "source": [
        "plt.subplot(\n",
        "    xlim=(d2.year.min(), d2.year.max()),\n",
        "    ylim=(0, 1),\n",
        "    xlabel=\"year\",\n",
        "    ylabel=\"basis value\",\n",
        ")\n",
        "for i in range(B.shape[1]):\n",
        "    plt.plot(d2.year, B[:, i], \"k\", alpha=0.5)"
      ],
      "metadata": {
        "colab": {
          "base_uri": "https://localhost:8080/",
          "height": 283
        },
        "id": "ZPNzIq9FkmLn",
        "outputId": "d5717da5-3fed-40b5-8131-f3a5fc29c9ee"
      },
      "execution_count": null,
      "outputs": [
        {
          "output_type": "display_data",
          "data": {
            "image/png": "[encoded data removed]",
            "text/plain": [
              "<Figure size 432x288 with 1 Axes>"
            ]
          },
          "metadata": {
            "needs_background": "light"
          }
        }
      ]
    },
    {
      "cell_type": "markdown",
      "source": [
        "## 4.76"
      ],
      "metadata": {
        "id": "MXRlK-cZYYAJ"
      }
    },
    {
      "cell_type": "code",
      "source": [
        "def model(B, D):\n",
        "    a = numpyro.sample('a', dist.Normal(100, 10))\n",
        "    w = numpyro.sample('w', dist.Normal(0, 10).expand(B.shape[1:]))\n",
        "    sigma = numpyro.sample('sigma', dist.Exponential(1))\n",
        "    mu = numpyro.deterministic('mu', a + B @ w)\n",
        "    numpyro.sample('D', dist.Normal(mu, sigma), obs=D)\n",
        "\n",
        "start = {'w': jnp.zeros(B.shape[1:])}\n",
        "m4_7 = AutoLaplaceApproximation(model, init_loc_fn=init_to_value(values=start))\n",
        "svi = SVI(model, m4_7, optim.Adam(1), Trace_ELBO(), B=B, D=d2.doy.values)\n",
        "p4_7 = svi.run(random.PRNGKey(0), 20000).params"
      ],
      "metadata": {
        "id": "2dfzT8YNsBil",
        "colab": {
          "base_uri": "https://localhost:8080/"
        },
        "outputId": "9dba1ec5-cae3-48c6-9f52-6f1c232b8a27"
      },
      "execution_count": null,
      "outputs": [
        {
          "output_type": "stream",
          "name": "stderr",
          "text": [
            "100%|██████████| 20000/20000 [00:02<00:00, 7633.10it/s, init loss: 2476234.7500, avg. loss [19001-20000]: 2704.7454] \n"
          ]
        }
      ]
    },
    {
      "cell_type": "markdown",
      "source": [
        "# 4.77"
      ],
      "metadata": {
        "id": "wDkR_YnUrgSG"
      }
    },
    {
      "cell_type": "code",
      "source": [
        "post = m4_7.sample_posterior(random.PRNGKey(1), p4_7, (1000, ))\n",
        "w = jnp.mean(post['w'], 0)\n",
        "plt.subplot(xlim=(d2.year.min(), d2.year.max()),\n",
        "    ylim=(-6, 6),\n",
        "    xlabel=\"year\",\n",
        "    ylabel=\"basis * weight\",)\n",
        "for i in range(B.shape[1]):\n",
        "    plt.plot(d2.year, (w[i] * B[:, i]), \"k\", alpha=0.5)"
      ],
      "metadata": {
        "colab": {
          "base_uri": "https://localhost:8080/",
          "height": 283
        },
        "id": "wbXtBNLAb93K",
        "outputId": "40a09c89-4192-40f2-8705-62608371a2fe"
      },
      "execution_count": null,
      "outputs": [
        {
          "output_type": "display_data",
          "data": {
            "image/png": "[encoded data removed]",
            "text/plain": [
              "<Figure size 432x288 with 1 Axes>"
            ]
          },
          "metadata": {
            "needs_background": "light"
          }
        }
      ]
    },
    {
      "cell_type": "markdown",
      "source": [
        "## 4.78"
      ],
      "metadata": {
        "id": "9fR6dg8Bsfpm"
      }
    },
    {
      "cell_type": "code",
      "source": [
        "mu = post[\"mu\"]\n",
        "mu_PI = jnp.percentile(mu, q=jnp.array([1.5, 98.5]), axis=0)\n",
        "az.plot_pair(\n",
        "    d2[[\"year\", \"doy\"]].astype(float).to_dict(orient=\"list\"),\n",
        "    scatter_kwargs={\"c\": \"royalblue\", \"alpha\": 0.3, \"markersize\": 10},\n",
        ")\n",
        "plt.fill_between(d2.year, mu_PI[0], mu_PI[1], color=\"k\", alpha=0.5)\n",
        "plt.show()"
      ],
      "metadata": {
        "colab": {
          "base_uri": "https://localhost:8080/",
          "height": 288
        },
        "id": "urJjWbbrrzmj",
        "outputId": "a613e21a-51fe-44ae-a10d-5991a7f8aea1"
      },
      "execution_count": null,
      "outputs": [
        {
          "output_type": "display_data",
          "data": {
            "image/png": "[encoded data removed]",
            "text/plain": [
              "<Figure size 432x288 with 1 Axes>"
            ]
          },
          "metadata": {
            "needs_background": "light"
          }
        }
      ]
    },
    {
      "cell_type": "markdown",
      "source": [
        "## 4E1\n",
        "$y_i$\n",
        "\n",
        "likelihood is prob. of data given params\n"
      ],
      "metadata": {
        "id": "q7_9naA4uE_Y"
      }
    },
    {
      "cell_type": "markdown",
      "source": [
        "## 4E2\n",
        "\n",
        "μ and σ\n",
        "\n"
      ],
      "metadata": {
        "id": "9fH91yepwSgH"
      }
    },
    {
      "cell_type": "markdown",
      "source": [
        "## 4E3\n",
        "\n",
        "Pr(μ, σ | y) = $\\frac{} {}$"
      ],
      "metadata": {
        "id": "-RUt2i4dR1Bf"
      }
    }
  ]
}