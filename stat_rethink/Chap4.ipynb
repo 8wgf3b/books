{
  "nbformat": 4,
  "nbformat_minor": 0,
  "metadata": {
    "colab": {
      "name": "Chap4.ipynb",
      "provenance": [],
      "collapsed_sections": [],
      "authorship_tag": "ABX9TyPgeuRjMS17jdmHGZNJ6MZE"
    },
    "kernelspec": {
      "name": "python3",
      "display_name": "Python 3"
    },
    "language_info": {
      "name": "python"
    }
  },
  "cells": [
    {
      "cell_type": "markdown",
      "metadata": {
        "id": "ap_GdG3oLs1I"
      },
      "source": [
        "## Imports"
      ]
    },
    {
      "cell_type": "code",
      "metadata": {
        "colab": {
          "base_uri": "https://localhost:8080/"
        },
        "id": "04RczMeALqgB",
        "outputId": "96449398-348e-40d0-d4e5-c8b7d23a2711"
      },
      "source": [
        "import pandas as pd\n",
        "\n",
        "import jax.numpy as jnp\n",
        "from jax import random, vmap\n",
        "\n",
        "!pip3 install numpyro\n",
        "import numpyro\n",
        "import numpyro.distributions as dist\n",
        "\n",
        "!pip3 install arviz\n",
        "import arviz as az\n",
        "import matplotlib.pyplot as plt"
      ],
      "execution_count": 1,
      "outputs": [
        {
          "output_type": "stream",
          "name": "stdout",
          "text": [
            "Collecting numpyro\n",
            "  Downloading numpyro-0.8.0-py3-none-any.whl (264 kB)\n",
            "\u001b[?25l\r\u001b[K     |█▎                              | 10 kB 25.6 MB/s eta 0:00:01\r\u001b[K     |██▌                             | 20 kB 10.3 MB/s eta 0:00:01\r\u001b[K     |███▊                            | 30 kB 8.4 MB/s eta 0:00:01\r\u001b[K     |█████                           | 40 kB 7.2 MB/s eta 0:00:01\r\u001b[K     |██████▏                         | 51 kB 7.8 MB/s eta 0:00:01\r\u001b[K     |███████▍                        | 61 kB 8.4 MB/s eta 0:00:01\r\u001b[K     |████████▊                       | 71 kB 7.6 MB/s eta 0:00:01\r\u001b[K     |██████████                      | 81 kB 8.4 MB/s eta 0:00:01\r\u001b[K     |███████████▏                    | 92 kB 8.3 MB/s eta 0:00:01\r\u001b[K     |████████████▍                   | 102 kB 7.7 MB/s eta 0:00:01\r\u001b[K     |█████████████▋                  | 112 kB 7.7 MB/s eta 0:00:01\r\u001b[K     |██████████████▉                 | 122 kB 7.7 MB/s eta 0:00:01\r\u001b[K     |████████████████▏               | 133 kB 7.7 MB/s eta 0:00:01\r\u001b[K     |█████████████████▍              | 143 kB 7.7 MB/s eta 0:00:01\r\u001b[K     |██████████████████▋             | 153 kB 7.7 MB/s eta 0:00:01\r\u001b[K     |███████████████████▉            | 163 kB 7.7 MB/s eta 0:00:01\r\u001b[K     |█████████████████████           | 174 kB 7.7 MB/s eta 0:00:01\r\u001b[K     |██████████████████████▎         | 184 kB 7.7 MB/s eta 0:00:01\r\u001b[K     |███████████████████████▋        | 194 kB 7.7 MB/s eta 0:00:01\r\u001b[K     |████████████████████████▉       | 204 kB 7.7 MB/s eta 0:00:01\r\u001b[K     |██████████████████████████      | 215 kB 7.7 MB/s eta 0:00:01\r\u001b[K     |███████████████████████████▎    | 225 kB 7.7 MB/s eta 0:00:01\r\u001b[K     |████████████████████████████▌   | 235 kB 7.7 MB/s eta 0:00:01\r\u001b[K     |█████████████████████████████▊  | 245 kB 7.7 MB/s eta 0:00:01\r\u001b[K     |███████████████████████████████ | 256 kB 7.7 MB/s eta 0:00:01\r\u001b[K     |████████████████████████████████| 264 kB 7.7 MB/s \n",
            "\u001b[?25hRequirement already satisfied: jax>=0.2.13 in /usr/local/lib/python3.7/dist-packages (from numpyro) (0.2.21)\n",
            "Requirement already satisfied: jaxlib>=0.1.65 in /usr/local/lib/python3.7/dist-packages (from numpyro) (0.1.71+cuda111)\n",
            "Requirement already satisfied: tqdm in /usr/local/lib/python3.7/dist-packages (from numpyro) (4.62.3)\n",
            "Requirement already satisfied: opt-einsum in /usr/local/lib/python3.7/dist-packages (from jax>=0.2.13->numpyro) (3.3.0)\n",
            "Requirement already satisfied: scipy>=1.2.1 in /usr/local/lib/python3.7/dist-packages (from jax>=0.2.13->numpyro) (1.4.1)\n",
            "Requirement already satisfied: absl-py in /usr/local/lib/python3.7/dist-packages (from jax>=0.2.13->numpyro) (0.12.0)\n",
            "Requirement already satisfied: numpy>=1.18 in /usr/local/lib/python3.7/dist-packages (from jax>=0.2.13->numpyro) (1.19.5)\n",
            "Requirement already satisfied: flatbuffers<3.0,>=1.12 in /usr/local/lib/python3.7/dist-packages (from jaxlib>=0.1.65->numpyro) (2.0)\n",
            "Requirement already satisfied: six in /usr/local/lib/python3.7/dist-packages (from absl-py->jax>=0.2.13->numpyro) (1.15.0)\n",
            "Installing collected packages: numpyro\n",
            "Successfully installed numpyro-0.8.0\n",
            "Requirement already satisfied: arviz in /usr/local/lib/python3.7/dist-packages (0.11.4)\n",
            "Requirement already satisfied: matplotlib>=3.0 in /usr/local/lib/python3.7/dist-packages (from arviz) (3.2.2)\n",
            "Requirement already satisfied: setuptools>=38.4 in /usr/local/lib/python3.7/dist-packages (from arviz) (57.4.0)\n",
            "Requirement already satisfied: packaging in /usr/local/lib/python3.7/dist-packages (from arviz) (21.3)\n",
            "Requirement already satisfied: typing-extensions<4,>=3.7.4.3 in /usr/local/lib/python3.7/dist-packages (from arviz) (3.10.0.2)\n",
            "Requirement already satisfied: numpy>=1.12 in /usr/local/lib/python3.7/dist-packages (from arviz) (1.19.5)\n",
            "Requirement already satisfied: netcdf4 in /usr/local/lib/python3.7/dist-packages (from arviz) (1.5.8)\n",
            "Requirement already satisfied: xarray>=0.16.1 in /usr/local/lib/python3.7/dist-packages (from arviz) (0.18.2)\n",
            "Requirement already satisfied: pandas>=0.23 in /usr/local/lib/python3.7/dist-packages (from arviz) (1.1.5)\n",
            "Requirement already satisfied: scipy>=0.19 in /usr/local/lib/python3.7/dist-packages (from arviz) (1.4.1)\n",
            "Requirement already satisfied: kiwisolver>=1.0.1 in /usr/local/lib/python3.7/dist-packages (from matplotlib>=3.0->arviz) (1.3.2)\n",
            "Requirement already satisfied: python-dateutil>=2.1 in /usr/local/lib/python3.7/dist-packages (from matplotlib>=3.0->arviz) (2.8.2)\n",
            "Requirement already satisfied: cycler>=0.10 in /usr/local/lib/python3.7/dist-packages (from matplotlib>=3.0->arviz) (0.11.0)\n",
            "Requirement already satisfied: pyparsing!=2.0.4,!=2.1.2,!=2.1.6,>=2.0.1 in /usr/local/lib/python3.7/dist-packages (from matplotlib>=3.0->arviz) (3.0.6)\n",
            "Requirement already satisfied: pytz>=2017.2 in /usr/local/lib/python3.7/dist-packages (from pandas>=0.23->arviz) (2018.9)\n",
            "Requirement already satisfied: six>=1.5 in /usr/local/lib/python3.7/dist-packages (from python-dateutil>=2.1->matplotlib>=3.0->arviz) (1.15.0)\n",
            "Requirement already satisfied: cftime in /usr/local/lib/python3.7/dist-packages (from netcdf4->arviz) (1.5.1.1)\n"
          ]
        }
      ]
    },
    {
      "cell_type": "markdown",
      "metadata": {
        "id": "y_mGCE-jMlSw"
      },
      "source": [
        "## 4.1\n",
        "\n",
        "Here uniform is chosen instead off the binomial bcoz the author assumes each step may not be perfect 1 yard. so it can be b/w 0 - 1 yard (left or right). Thus uniform distribution (1, -1)"
      ]
    },
    {
      "cell_type": "code",
      "metadata": {
        "id": "zUiS2_11Mn9P"
      },
      "source": [
        "dunif = dist.Uniform(-1, 1)\n",
        "key = random.PRNGKey(0)\n",
        "samples = dunif.sample(key, (1000, 16))\n",
        "pos = jnp.sum(samples, -1)"
      ],
      "execution_count": 2,
      "outputs": []
    },
    {
      "cell_type": "markdown",
      "metadata": {
        "id": "aNDFMoJ3T30p"
      },
      "source": [
        "## 4.2"
      ]
    },
    {
      "cell_type": "code",
      "metadata": {
        "id": "nrlSmXPPT5xv",
        "colab": {
          "base_uri": "https://localhost:8080/"
        },
        "outputId": "74593eaa-9d65-4987-8a95-1875f1f9b390"
      },
      "source": [
        "dunif = dist.Uniform(0, 0.1)\n",
        "growthsamples = jnp.prod(1 + dunif.sample(key, (10000, 12)), -1)\n",
        "growthsamples.shape"
      ],
      "execution_count": null,
      "outputs": [
        {
          "output_type": "execute_result",
          "data": {
            "text/plain": [
              "(10000,)"
            ]
          },
          "metadata": {},
          "execution_count": 4
        }
      ]
    },
    {
      "cell_type": "markdown",
      "metadata": {
        "id": "jyoU9EmMO3Uc"
      },
      "source": [
        "## 4.3\n",
        "\n",
        "Log probability bcoz probly its faster. End result is just the probability of each data point assuming they are sampled from a normal dist"
      ]
    },
    {
      "cell_type": "code",
      "metadata": {
        "colab": {
          "base_uri": "https://localhost:8080/",
          "height": 287
        },
        "id": "EY0-VW0fOK7a",
        "outputId": "a6fcbd8a-01a0-4254-dd44-5c462ee94de1"
      },
      "source": [
        "az.plot_density({'growth': growthsamples}, hdi_prob=1)\n",
        "x = jnp.sort(growthsamples)\n",
        "plt.plot(x, jnp.exp(dist.Normal(jnp.mean(x), jnp.std(x)).log_prob(x)), \"--\")\n",
        "plt.show()"
      ],
      "execution_count": null,
      "outputs": [
        {
          "output_type": "display_data",
          "data": {
            "image/png": "[encoded data removed]",
            "text/plain": [
              "<Figure size 432x288 with 1 Axes>"
            ]
          },
          "metadata": {
            "needs_background": "light"
          }
        }
      ]
    },
    {
      "cell_type": "markdown",
      "metadata": {
        "id": "MhVEGyOhTDLz"
      },
      "source": [
        "## 4.4"
      ]
    },
    {
      "cell_type": "code",
      "metadata": {
        "colab": {
          "base_uri": "https://localhost:8080/"
        },
        "id": "VGVZZMoDTYW5",
        "outputId": "3155230a-deaf-4785-f317-fac2a9d7ffdf"
      },
      "source": [
        "big = jnp.prod(1 + dist.Uniform(0, 0.5).sample(key, (10000, 12)), -1)\n",
        "small = jnp.prod(1 + dist.Uniform(0, 0.01).sample(key, (10000, 12)), -1)\n",
        "big, small"
      ],
      "execution_count": null,
      "outputs": [
        {
          "output_type": "execute_result",
          "data": {
            "text/plain": [
              "(DeviceArray([18.742033 , 11.604453 , 19.078642 , ...,  7.5537906,\n",
              "              11.295802 , 23.21978  ], dtype=float32),\n",
              " DeviceArray([1.0708382, 1.0577757, 1.0716889, ..., 1.0464755, 1.0573572,\n",
              "              1.076675 ], dtype=float32))"
            ]
          },
          "metadata": {},
          "execution_count": 6
        }
      ]
    },
    {
      "cell_type": "markdown",
      "metadata": {
        "id": "XFRfho0yUGer"
      },
      "source": [
        "## 4.5"
      ]
    },
    {
      "cell_type": "code",
      "metadata": {
        "colab": {
          "base_uri": "https://localhost:8080/",
          "height": 287
        },
        "id": "fqOeykynTohR",
        "outputId": "5f46de55-cb68-42f7-82a5-8f386a6d7511"
      },
      "source": [
        "logbig = jnp.log(big)\n",
        "az.plot_density({'lb': logbig}, hdi_prob=1)\n",
        "x = jnp.sort(logbig)\n",
        "plt.plot(x, jnp.exp(dist.Normal(jnp.mean(x), jnp.std(x)).log_prob(x)), \"--\")\n",
        "plt.show()"
      ],
      "execution_count": null,
      "outputs": [
        {
          "output_type": "display_data",
          "data": {
            "image/png": "[encoded data removed]",
            "text/plain": [
              "<Figure size 432x288 with 1 Axes>"
            ]
          },
          "metadata": {
            "needs_background": "light"
          }
        }
      ]
    },
    {
      "cell_type": "markdown",
      "metadata": {
        "id": "Y73wgfAjJxJl"
      },
      "source": [
        "## 4.6"
      ]
    },
    {
      "cell_type": "code",
      "metadata": {
        "id": "oitd9ZxCUU2Z"
      },
      "source": [
        "w, n = 6, 9\n",
        "pgrid = jnp.linspace(0, 1, 100)\n",
        "probbin = jnp.exp(dist.Binomial(n, pgrid).log_prob(w))\n",
        "post = probbin * jnp.exp(dist.Uniform(0, 1).log_prob(pgrid))\n",
        "post = post / jnp.sum(post)"
      ],
      "execution_count": null,
      "outputs": []
    },
    {
      "cell_type": "markdown",
      "metadata": {
        "id": "zCpsJKCOtgI6"
      },
      "source": [
        "## 4.7 - 4.11"
      ]
    },
    {
      "cell_type": "code",
      "metadata": {
        "colab": {
          "base_uri": "https://localhost:8080/",
          "height": 518
        },
        "id": "7L_WOKaZJ5F7",
        "outputId": "cc8c2416-3c97-4183-d9d3-cce381841c40"
      },
      "source": [
        "d = pd.read_csv('https://raw.githubusercontent.com/fehiepsi/rethinking-numpyro/master/data/Howell1.csv', delimiter=';')\n",
        "print(d.info())\n",
        "d.describe()"
      ],
      "execution_count": 17,
      "outputs": [
        {
          "output_type": "stream",
          "name": "stdout",
          "text": [
            "<class 'pandas.core.frame.DataFrame'>\n",
            "RangeIndex: 544 entries, 0 to 543\n",
            "Data columns (total 4 columns):\n",
            " #   Column  Non-Null Count  Dtype  \n",
            "---  ------  --------------  -----  \n",
            " 0   height  544 non-null    float64\n",
            " 1   weight  544 non-null    float64\n",
            " 2   age     544 non-null    float64\n",
            " 3   male    544 non-null    int64  \n",
            "dtypes: float64(3), int64(1)\n",
            "memory usage: 17.1 KB\n",
            "None\n"
          ]
        },
        {
          "output_type": "execute_result",
          "data": {
            "text/html": [
              "<div>\n",
              "<style scoped>\n",
              "    .dataframe tbody tr th:only-of-type {\n",
              "        vertical-align: middle;\n",
              "    }\n",
              "\n",
              "    .dataframe tbody tr th {\n",
              "        vertical-align: top;\n",
              "    }\n",
              "\n",
              "    .dataframe thead th {\n",
              "        text-align: right;\n",
              "    }\n",
              "</style>\n",
              "<table border=\"1\" class=\"dataframe\">\n",
              "  <thead>\n",
              "    <tr style=\"text-align: right;\">\n",
              "      <th></th>\n",
              "      <th>height</th>\n",
              "      <th>weight</th>\n",
              "      <th>age</th>\n",
              "      <th>male</th>\n",
              "    </tr>\n",
              "  </thead>\n",
              "  <tbody>\n",
              "    <tr>\n",
              "      <th>count</th>\n",
              "      <td>544.000000</td>\n",
              "      <td>544.000000</td>\n",
              "      <td>544.000000</td>\n",
              "      <td>544.000000</td>\n",
              "    </tr>\n",
              "    <tr>\n",
              "      <th>mean</th>\n",
              "      <td>138.263596</td>\n",
              "      <td>35.610618</td>\n",
              "      <td>29.344393</td>\n",
              "      <td>0.472426</td>\n",
              "    </tr>\n",
              "    <tr>\n",
              "      <th>std</th>\n",
              "      <td>27.602448</td>\n",
              "      <td>14.719178</td>\n",
              "      <td>20.746888</td>\n",
              "      <td>0.499699</td>\n",
              "    </tr>\n",
              "    <tr>\n",
              "      <th>min</th>\n",
              "      <td>53.975000</td>\n",
              "      <td>4.252425</td>\n",
              "      <td>0.000000</td>\n",
              "      <td>0.000000</td>\n",
              "    </tr>\n",
              "    <tr>\n",
              "      <th>25%</th>\n",
              "      <td>125.095000</td>\n",
              "      <td>22.007717</td>\n",
              "      <td>12.000000</td>\n",
              "      <td>0.000000</td>\n",
              "    </tr>\n",
              "    <tr>\n",
              "      <th>50%</th>\n",
              "      <td>148.590000</td>\n",
              "      <td>40.057844</td>\n",
              "      <td>27.000000</td>\n",
              "      <td>0.000000</td>\n",
              "    </tr>\n",
              "    <tr>\n",
              "      <th>75%</th>\n",
              "      <td>157.480000</td>\n",
              "      <td>47.209005</td>\n",
              "      <td>43.000000</td>\n",
              "      <td>1.000000</td>\n",
              "    </tr>\n",
              "    <tr>\n",
              "      <th>max</th>\n",
              "      <td>179.070000</td>\n",
              "      <td>62.992589</td>\n",
              "      <td>88.000000</td>\n",
              "      <td>1.000000</td>\n",
              "    </tr>\n",
              "  </tbody>\n",
              "</table>\n",
              "</div>"
            ],
            "text/plain": [
              "           height      weight         age        male\n",
              "count  544.000000  544.000000  544.000000  544.000000\n",
              "mean   138.263596   35.610618   29.344393    0.472426\n",
              "std     27.602448   14.719178   20.746888    0.499699\n",
              "min     53.975000    4.252425    0.000000    0.000000\n",
              "25%    125.095000   22.007717   12.000000    0.000000\n",
              "50%    148.590000   40.057844   27.000000    0.000000\n",
              "75%    157.480000   47.209005   43.000000    1.000000\n",
              "max    179.070000   62.992589   88.000000    1.000000"
            ]
          },
          "metadata": {},
          "execution_count": 17
        }
      ]
    },
    {
      "cell_type": "code",
      "metadata": {
        "colab": {
          "base_uri": "https://localhost:8080/",
          "height": 424
        },
        "id": "AfT5gdbftxHt",
        "outputId": "0aadee3a-1e63-40d3-db45-4d2bffa5c7b2"
      },
      "source": [
        "d2 = d[d.age >= 18]\n",
        "d2"
      ],
      "execution_count": 18,
      "outputs": [
        {
          "output_type": "execute_result",
          "data": {
            "text/html": [
              "<div>\n",
              "<style scoped>\n",
              "    .dataframe tbody tr th:only-of-type {\n",
              "        vertical-align: middle;\n",
              "    }\n",
              "\n",
              "    .dataframe tbody tr th {\n",
              "        vertical-align: top;\n",
              "    }\n",
              "\n",
              "    .dataframe thead th {\n",
              "        text-align: right;\n",
              "    }\n",
              "</style>\n",
              "<table border=\"1\" class=\"dataframe\">\n",
              "  <thead>\n",
              "    <tr style=\"text-align: right;\">\n",
              "      <th></th>\n",
              "      <th>height</th>\n",
              "      <th>weight</th>\n",
              "      <th>age</th>\n",
              "      <th>male</th>\n",
              "    </tr>\n",
              "  </thead>\n",
              "  <tbody>\n",
              "    <tr>\n",
              "      <th>0</th>\n",
              "      <td>151.765</td>\n",
              "      <td>47.825606</td>\n",
              "      <td>63.0</td>\n",
              "      <td>1</td>\n",
              "    </tr>\n",
              "    <tr>\n",
              "      <th>1</th>\n",
              "      <td>139.700</td>\n",
              "      <td>36.485807</td>\n",
              "      <td>63.0</td>\n",
              "      <td>0</td>\n",
              "    </tr>\n",
              "    <tr>\n",
              "      <th>2</th>\n",
              "      <td>136.525</td>\n",
              "      <td>31.864838</td>\n",
              "      <td>65.0</td>\n",
              "      <td>0</td>\n",
              "    </tr>\n",
              "    <tr>\n",
              "      <th>3</th>\n",
              "      <td>156.845</td>\n",
              "      <td>53.041915</td>\n",
              "      <td>41.0</td>\n",
              "      <td>1</td>\n",
              "    </tr>\n",
              "    <tr>\n",
              "      <th>4</th>\n",
              "      <td>145.415</td>\n",
              "      <td>41.276872</td>\n",
              "      <td>51.0</td>\n",
              "      <td>0</td>\n",
              "    </tr>\n",
              "    <tr>\n",
              "      <th>...</th>\n",
              "      <td>...</td>\n",
              "      <td>...</td>\n",
              "      <td>...</td>\n",
              "      <td>...</td>\n",
              "    </tr>\n",
              "    <tr>\n",
              "      <th>534</th>\n",
              "      <td>162.560</td>\n",
              "      <td>47.031821</td>\n",
              "      <td>27.0</td>\n",
              "      <td>0</td>\n",
              "    </tr>\n",
              "    <tr>\n",
              "      <th>537</th>\n",
              "      <td>142.875</td>\n",
              "      <td>34.246196</td>\n",
              "      <td>31.0</td>\n",
              "      <td>0</td>\n",
              "    </tr>\n",
              "    <tr>\n",
              "      <th>540</th>\n",
              "      <td>162.560</td>\n",
              "      <td>52.163080</td>\n",
              "      <td>31.0</td>\n",
              "      <td>1</td>\n",
              "    </tr>\n",
              "    <tr>\n",
              "      <th>541</th>\n",
              "      <td>156.210</td>\n",
              "      <td>54.062496</td>\n",
              "      <td>21.0</td>\n",
              "      <td>0</td>\n",
              "    </tr>\n",
              "    <tr>\n",
              "      <th>543</th>\n",
              "      <td>158.750</td>\n",
              "      <td>52.531624</td>\n",
              "      <td>68.0</td>\n",
              "      <td>1</td>\n",
              "    </tr>\n",
              "  </tbody>\n",
              "</table>\n",
              "<p>352 rows × 4 columns</p>\n",
              "</div>"
            ],
            "text/plain": [
              "      height     weight   age  male\n",
              "0    151.765  47.825606  63.0     1\n",
              "1    139.700  36.485807  63.0     0\n",
              "2    136.525  31.864838  65.0     0\n",
              "3    156.845  53.041915  41.0     1\n",
              "4    145.415  41.276872  51.0     0\n",
              "..       ...        ...   ...   ...\n",
              "534  162.560  47.031821  27.0     0\n",
              "537  142.875  34.246196  31.0     0\n",
              "540  162.560  52.163080  31.0     1\n",
              "541  156.210  54.062496  21.0     0\n",
              "543  158.750  52.531624  68.0     1\n",
              "\n",
              "[352 rows x 4 columns]"
            ]
          },
          "metadata": {},
          "execution_count": 18
        }
      ]
    },
    {
      "cell_type": "markdown",
      "metadata": {
        "id": "xH6UTMsw4Gkb"
      },
      "source": [
        "## 4.12"
      ]
    },
    {
      "cell_type": "code",
      "metadata": {
        "colab": {
          "base_uri": "https://localhost:8080/",
          "height": 265
        },
        "id": "GG9kBsN14Fko",
        "outputId": "f2c013fb-4fc2-4b92-aef8-8710f61a7b2a"
      },
      "source": [
        "x = jnp.linspace(100, 250, 101)\n",
        "plt.plot(x, jnp.exp(dist.Normal(178, 20).log_prob(x)))\n",
        "plt.show()"
      ],
      "execution_count": null,
      "outputs": [
        {
          "output_type": "display_data",
          "data": {
            "image/png": "[encoded data removed]",
            "text/plain": [
              "<Figure size 432x288 with 1 Axes>"
            ]
          },
          "metadata": {
            "needs_background": "light"
          }
        }
      ]
    },
    {
      "cell_type": "markdown",
      "metadata": {
        "id": "jXtX1BpD7gwY"
      },
      "source": [
        "## 4.13"
      ]
    },
    {
      "cell_type": "code",
      "metadata": {
        "colab": {
          "base_uri": "https://localhost:8080/",
          "height": 321
        },
        "id": "PQ6N9UHL7e9e",
        "outputId": "7f64b10d-7b06-4c31-e29d-b28c04302d26"
      },
      "source": [
        "x = jnp.linspace(-10, 60, 101)\n",
        "plt.plot(x, jnp.exp(dist.Uniform(0, 50, validate_args=True).log_prob(x)))\n",
        "plt.show()"
      ],
      "execution_count": null,
      "outputs": [
        {
          "output_type": "stream",
          "name": "stderr",
          "text": [
            "/usr/local/lib/python3.7/dist-packages/numpyro/distributions/distribution.py:293: UserWarning: Out-of-support values provided to log prob method. The value argument should be within the support.\n",
            "  \"Out-of-support values provided to log prob method. \"\n"
          ]
        },
        {
          "output_type": "display_data",
          "data": {
            "image/png": "[encoded data removed]",
            "text/plain": [
              "<Figure size 432x288 with 1 Axes>"
            ]
          },
          "metadata": {
            "needs_background": "light"
          }
        }
      ]
    },
    {
      "cell_type": "markdown",
      "metadata": {
        "id": "OtbITXQX70Vo"
      },
      "source": [
        "## 4.14"
      ]
    },
    {
      "cell_type": "code",
      "metadata": {
        "colab": {
          "base_uri": "https://localhost:8080/",
          "height": 225
        },
        "id": "oHNJy3jz7rXv",
        "outputId": "41a4487b-de31-4574-a499-dfe3a1eea924"
      },
      "source": [
        "samplemu = dist.Normal(178, 20).sample(key, (10000,))\n",
        "priorh = dist.Normal(samplemu, samplestd)\n",
        "priorh.sample(key).shape"
      ],
      "execution_count": null,
      "outputs": [
        {
          "output_type": "error",
          "ename": "NameError",
          "evalue": "ignored",
          "traceback": [
            "\u001b[0;31m---------------------------------------------------------------------------\u001b[0m",
            "\u001b[0;31mNameError\u001b[0m                                 Traceback (most recent call last)",
            "\u001b[0;32m<ipython-input-4-e532c756aaa7>\u001b[0m in \u001b[0;36m<module>\u001b[0;34m()\u001b[0m\n\u001b[0;32m----> 1\u001b[0;31m \u001b[0msamplemu\u001b[0m \u001b[0;34m=\u001b[0m \u001b[0mdist\u001b[0m\u001b[0;34m.\u001b[0m\u001b[0mNormal\u001b[0m\u001b[0;34m(\u001b[0m\u001b[0;36m178\u001b[0m\u001b[0;34m,\u001b[0m \u001b[0;36m20\u001b[0m\u001b[0;34m)\u001b[0m\u001b[0;34m.\u001b[0m\u001b[0msample\u001b[0m\u001b[0;34m(\u001b[0m\u001b[0mkey\u001b[0m\u001b[0;34m,\u001b[0m \u001b[0;34m(\u001b[0m\u001b[0;36m10000\u001b[0m\u001b[0;34m,\u001b[0m\u001b[0;34m)\u001b[0m\u001b[0;34m)\u001b[0m\u001b[0;34m\u001b[0m\u001b[0;34m\u001b[0m\u001b[0m\n\u001b[0m\u001b[1;32m      2\u001b[0m \u001b[0msamplestd\u001b[0m \u001b[0;34m=\u001b[0m \u001b[0mdist\u001b[0m\u001b[0;34m.\u001b[0m\u001b[0mUniform\u001b[0m\u001b[0;34m(\u001b[0m\u001b[0;36m0\u001b[0m\u001b[0;34m,\u001b[0m \u001b[0;36m50\u001b[0m\u001b[0;34m)\u001b[0m\u001b[0;34m.\u001b[0m\u001b[0msample\u001b[0m\u001b[0;34m(\u001b[0m\u001b[0mkey\u001b[0m\u001b[0;34m,\u001b[0m \u001b[0;34m(\u001b[0m\u001b[0;36m10000\u001b[0m\u001b[0;34m,\u001b[0m\u001b[0;34m)\u001b[0m\u001b[0;34m)\u001b[0m\u001b[0;34m\u001b[0m\u001b[0;34m\u001b[0m\u001b[0m\n\u001b[1;32m      3\u001b[0m \u001b[0mpriorh\u001b[0m \u001b[0;34m=\u001b[0m \u001b[0mdist\u001b[0m\u001b[0;34m.\u001b[0m\u001b[0mNormal\u001b[0m\u001b[0;34m(\u001b[0m\u001b[0msamplemu\u001b[0m\u001b[0;34m,\u001b[0m \u001b[0msamplestd\u001b[0m\u001b[0;34m)\u001b[0m\u001b[0;34m\u001b[0m\u001b[0;34m\u001b[0m\u001b[0m\n\u001b[1;32m      4\u001b[0m \u001b[0mpriorh\u001b[0m\u001b[0;34m.\u001b[0m\u001b[0msample\u001b[0m\u001b[0;34m(\u001b[0m\u001b[0mkey\u001b[0m\u001b[0;34m)\u001b[0m\u001b[0;34m.\u001b[0m\u001b[0mshape\u001b[0m\u001b[0;34m\u001b[0m\u001b[0;34m\u001b[0m\u001b[0m\n",
            "\u001b[0;31mNameError\u001b[0m: name 'key' is not defined"
          ]
        }
      ]
    },
    {
      "cell_type": "markdown",
      "metadata": {
        "id": "vYpqVAkMIz1u"
      },
      "source": [
        "## 4.15"
      ]
    },
    {
      "cell_type": "code",
      "metadata": {
        "colab": {
          "base_uri": "https://localhost:8080/",
          "height": 1000
        },
        "id": "qfQZK1zrAREq",
        "outputId": "883ea9f7-b5f8-4f70-b43c-85dc85bf3ba6"
      },
      "source": [
        "sample_mu = dist.Normal(178, 100).sample(random.PRNGKey(0), (int(1e4),))\n",
        "samplestd = dist.Uniform(0, 50).sample(random.PRNGKey(1), (10000,))\n",
        "prior_h = dist.Normal(sample_mu, samplestd).sample(random.PRNGKey(2))\n",
        "az.plot_kde(prior_h)\n",
        "plt.show()"
      ],
      "execution_count": null,
      "outputs": [
        {
          "output_type": "stream",
          "name": "stderr",
          "text": [
            "/usr/local/lib/python3.7/dist-packages/arviz/stats/density_utils.py:955: NumbaWarning: \n",
            "Compilation is falling back to object mode WITH looplifting enabled because Function \"histogram\" failed type inference due to: No implementation of function Function(<function histogram at 0x7ff7afe748c0>) found for signature:\n",
            " \n",
            " >>> histogram(readonly buffer(float32, 1d, C), bins=int64, range=UniTuple(readonly buffer(float32, 0d, C) x 2))\n",
            " \n",
            "There are 2 candidate implementations:\n",
            "  - Of which 2 did not match due to:\n",
            "  Overload in function 'np_histogram': File: numba/np/arraymath.py: Line 3700.\n",
            "    With argument(s): '(readonly buffer(float32, 1d, C), bins=int64, range=UniTuple(readonly buffer(float32, 0d, C) x 2))':\n",
            "   Rejected as the implementation raised a specific error:\n",
            "     TypingError: Failed in nopython mode pipeline (step: nopython frontend)\n",
            "   No implementation of function Function(<function linspace at 0x7ff7b015b7a0>) found for signature:\n",
            "    \n",
            "    >>> linspace(readonly buffer(float32, 0d, C), readonly buffer(float32, 0d, C), int64)\n",
            "    \n",
            "   There are 2 candidate implementations:\n",
            "         - Of which 2 did not match due to:\n",
            "         Overload of function 'linspace': File: numba/core/typing/npydecl.py: Line 615.\n",
            "           With argument(s): '(readonly buffer(float32, 0d, C), readonly buffer(float32, 0d, C), int64)':\n",
            "          No match.\n",
            "   \n",
            "   During: resolving callee type: Function(<function linspace at 0x7ff7b015b7a0>)\n",
            "   During: typing of call at /usr/local/lib/python3.7/dist-packages/numba/np/arraymath.py (3741)\n",
            "   \n",
            "   \n",
            "   File \"../usr/local/lib/python3.7/dist-packages/numba/np/arraymath.py\", line 3741:\n",
            "               def histogram_impl(a, bins=10, range=None):\n",
            "                   <source elided>\n",
            "   \n",
            "                   bins_array = np.linspace(bin_min, bin_max, bins + 1)\n",
            "                   ^\n",
            "\n",
            "  raised from /usr/local/lib/python3.7/dist-packages/numba/core/typeinfer.py:1071\n",
            "\n",
            "During: resolving callee type: Function(<function histogram at 0x7ff7afe748c0>)\n",
            "During: typing of call at /usr/local/lib/python3.7/dist-packages/arviz/stats/density_utils.py (977)\n",
            "\n",
            "\n",
            "File \"../usr/local/lib/python3.7/dist-packages/arviz/stats/density_utils.py\", line 977:\n",
            "def histogram(data, bins, range_hist=None):\n",
            "    <source elided>\n",
            "    \"\"\"\n",
            "    hist, bin_edges = np.histogram(data, bins=bins, range=range_hist)\n",
            "    ^\n",
            "\n",
            "  @conditional_jit(cache=True)\n",
            "/usr/local/lib/python3.7/dist-packages/numba/core/object_mode_passes.py:178: NumbaWarning: Function \"histogram\" was compiled in object mode without forceobj=True.\n",
            "\n",
            "File \"../usr/local/lib/python3.7/dist-packages/arviz/stats/density_utils.py\", line 956:\n",
            "@conditional_jit(cache=True)\n",
            "def histogram(data, bins, range_hist=None):\n",
            "^\n",
            "\n",
            "  state.func_ir.loc))\n",
            "/usr/local/lib/python3.7/dist-packages/numba/core/object_mode_passes.py:188: NumbaDeprecationWarning: \n",
            "Fall-back from the nopython compilation path to the object mode compilation path has been detected, this is deprecated behaviour.\n",
            "\n",
            "For more information visit https://numba.pydata.org/numba-doc/latest/reference/deprecation.html#deprecation-of-object-mode-fall-back-behaviour-when-using-jit\n",
            "\n",
            "File \"../usr/local/lib/python3.7/dist-packages/arviz/stats/density_utils.py\", line 956:\n",
            "@conditional_jit(cache=True)\n",
            "def histogram(data, bins, range_hist=None):\n",
            "^\n",
            "\n",
            "  state.func_ir.loc))\n"
          ]
        },
        {
          "output_type": "display_data",
          "data": {
            "image/png": "[encoded data removed]",
            "text/plain": [
              "<Figure size 432x288 with 1 Axes>"
            ]
          },
          "metadata": {
            "needs_background": "light"
          }
        }
      ]
    },
    {
      "cell_type": "markdown",
      "metadata": {
        "id": "9vg7jqRm0bRA"
      },
      "source": [
        "## 4.16\n",
        "\n",
        "Meshgrid returns 2 vars. Now if u iterate thru them, ull get coordinate like results (if not razed, then batch like).\n",
        "\n",
        "If you use\n",
        "the obvious approach, like exp(post\\$prod ), you’ll get a vector full of zeros, which isn’t very helpful. This\n",
        "is a result of R’s rounding very small probabilities to zero. Remember, in large samples, all unique samples are\n",
        "unlikely. This is why you have to work with log-probability. The code in the box dodges this problem by scaling\n",
        "all of the log-products by the maximum log-product. As a result, the values in post$prob are not all zero, but\n",
        "they also aren’t exactly probabilities. Instead they are relative posterior probabilities. But that’s good enough for\n",
        "what we wish to do with these values."
      ]
    },
    {
      "cell_type": "code",
      "metadata": {
        "id": "om0DGLasI2yM",
        "colab": {
          "base_uri": "https://localhost:8080/"
        },
        "outputId": "986deb78-7f76-4886-a7d6-210583444eb2"
      },
      "source": [
        "mulist = jnp.linspace(150, 160, 100)\n",
        "siglist = jnp.linspace(7, 9, 100)\n",
        "mesh = jnp.meshgrid(mulist, siglist)\n",
        "post = {'mu': mesh[0].reshape(-1), 'std': mesh[1].reshape(-1)}\n",
        "post['LL'] = vmap(lambda mu, sigma: jnp.sum(dist.Normal(mu, sigma).log_prob(d2.height.values)))(post['mu'], post['std'])\n",
        "lmu = dist.Normal(178, 20).log_prob(post['mu'])\n",
        "lstd = dist.Uniform(0, 50).log_prob(post['std'])\n",
        "post['prob'] = post['LL'] + lmu + lstd\n",
        "post['prob'] = jnp.exp(post['prob'] - jnp.max(post['prob']))\n",
        "post['prob']"
      ],
      "execution_count": 26,
      "outputs": [
        {
          "output_type": "execute_result",
          "data": {
            "text/plain": [
              "DeviceArray(1., dtype=float32)"
            ]
          },
          "metadata": {},
          "execution_count": 26
        }
      ]
    },
    {
      "cell_type": "markdown",
      "metadata": {
        "id": "8I4oLpI_F7iL"
      },
      "source": [
        "## 4.17 - 4.18"
      ]
    },
    {
      "cell_type": "code",
      "metadata": {
        "colab": {
          "base_uri": "https://localhost:8080/",
          "height": 269
        },
        "id": "euPURiOfF_RQ",
        "outputId": "7fbf61e2-6c58-4832-b17e-9c121bd617eb"
      },
      "source": [
        "plt.imshow(\n",
        "    post[\"prob\"].reshape(100, 100),\n",
        "    origin=\"lower\",\n",
        "    extent=(150, 160, 7, 9),\n",
        "    aspect=\"auto\",\n",
        ")\n",
        "plt.show()"
      ],
      "execution_count": 29,
      "outputs": [
        {
          "output_type": "display_data",
          "data": {
            "image/png": "[encoded data removed]",
            "text/plain": [
              "<Figure size 432x288 with 1 Axes>"
            ]
          },
          "metadata": {
            "needs_background": "light"
          }
        }
      ]
    },
    {
      "cell_type": "code",
      "metadata": {
        "id": "FxbNL9jAGo7h"
      },
      "source": [
        ""
      ],
      "execution_count": null,
      "outputs": []
    }
  ]
}