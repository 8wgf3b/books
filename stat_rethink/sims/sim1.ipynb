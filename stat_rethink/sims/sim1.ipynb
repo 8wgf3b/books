{
  "nbformat": 4,
  "nbformat_minor": 0,
  "metadata": {
    "colab": {
      "provenance": [],
      "authorship_tag": "ABX9TyNAWdMSrxoPeaDAEdbETA7V"
    },
    "kernelspec": {
      "name": "python3",
      "display_name": "Python 3"
    },
    "language_info": {
      "name": "python"
    }
  },
  "cells": [
    {
      "cell_type": "markdown",
      "source": [
        "# imports"
      ],
      "metadata": {
        "id": "cQQhtZnEAqR9"
      }
    },
    {
      "cell_type": "code",
      "execution_count": 15,
      "metadata": {
        "colab": {
          "base_uri": "https://localhost:8080/"
        },
        "id": "jbtdW3DGAEj-",
        "outputId": "53c6e802-132a-4011-9729-f726f1e47b43"
      },
      "outputs": [
        {
          "output_type": "stream",
          "name": "stdout",
          "text": [
            "Looking in indexes: https://pypi.org/simple, https://us-python.pkg.dev/colab-wheels/public/simple/\n",
            "Requirement already satisfied: arviz in /usr/local/lib/python3.8/dist-packages (0.12.1)\n",
            "Requirement already satisfied: netcdf4 in /usr/local/lib/python3.8/dist-packages (from arviz) (1.6.2)\n",
            "Requirement already satisfied: pandas>=0.23 in /usr/local/lib/python3.8/dist-packages (from arviz) (1.3.5)\n",
            "Requirement already satisfied: typing-extensions>=3.7.4.3 in /usr/local/lib/python3.8/dist-packages (from arviz) (4.4.0)\n",
            "Requirement already satisfied: matplotlib>=3.0 in /usr/local/lib/python3.8/dist-packages (from arviz) (3.2.2)\n",
            "Requirement already satisfied: xarray>=0.16.1 in /usr/local/lib/python3.8/dist-packages (from arviz) (2022.12.0)\n",
            "Requirement already satisfied: xarray-einstats>=0.2 in /usr/local/lib/python3.8/dist-packages (from arviz) (0.5.1)\n",
            "Requirement already satisfied: scipy>=0.19 in /usr/local/lib/python3.8/dist-packages (from arviz) (1.7.3)\n",
            "Requirement already satisfied: packaging in /usr/local/lib/python3.8/dist-packages (from arviz) (23.0)\n",
            "Requirement already satisfied: setuptools>=38.4 in /usr/local/lib/python3.8/dist-packages (from arviz) (57.4.0)\n",
            "Requirement already satisfied: numpy>=1.12 in /usr/local/lib/python3.8/dist-packages (from arviz) (1.21.6)\n",
            "Requirement already satisfied: pyparsing!=2.0.4,!=2.1.2,!=2.1.6,>=2.0.1 in /usr/local/lib/python3.8/dist-packages (from matplotlib>=3.0->arviz) (3.0.9)\n",
            "Requirement already satisfied: python-dateutil>=2.1 in /usr/local/lib/python3.8/dist-packages (from matplotlib>=3.0->arviz) (2.8.2)\n",
            "Requirement already satisfied: kiwisolver>=1.0.1 in /usr/local/lib/python3.8/dist-packages (from matplotlib>=3.0->arviz) (1.4.4)\n",
            "Requirement already satisfied: cycler>=0.10 in /usr/local/lib/python3.8/dist-packages (from matplotlib>=3.0->arviz) (0.11.0)\n",
            "Requirement already satisfied: pytz>=2017.3 in /usr/local/lib/python3.8/dist-packages (from pandas>=0.23->arviz) (2022.7.1)\n",
            "Requirement already satisfied: cftime in /usr/local/lib/python3.8/dist-packages (from netcdf4->arviz) (1.6.2)\n",
            "Requirement already satisfied: six>=1.5 in /usr/local/lib/python3.8/dist-packages (from python-dateutil>=2.1->matplotlib>=3.0->arviz) (1.15.0)\n",
            "Looking in indexes: https://pypi.org/simple, https://us-python.pkg.dev/colab-wheels/public/simple/\n",
            "Requirement already satisfied: numpyro in /usr/local/lib/python3.8/dist-packages (0.11.0)\n",
            "Requirement already satisfied: jax>=0.4 in /usr/local/lib/python3.8/dist-packages (from numpyro) (0.4.2)\n",
            "Requirement already satisfied: jaxlib>=0.4 in /usr/local/lib/python3.8/dist-packages (from numpyro) (0.4.2)\n",
            "Requirement already satisfied: multipledispatch in /usr/local/lib/python3.8/dist-packages (from numpyro) (0.6.0)\n",
            "Requirement already satisfied: tqdm in /usr/local/lib/python3.8/dist-packages (from numpyro) (4.64.1)\n",
            "Requirement already satisfied: numpy in /usr/local/lib/python3.8/dist-packages (from numpyro) (1.21.6)\n",
            "Requirement already satisfied: scipy>=1.5 in /usr/local/lib/python3.8/dist-packages (from jax>=0.4->numpyro) (1.7.3)\n",
            "Requirement already satisfied: opt-einsum in /usr/local/lib/python3.8/dist-packages (from jax>=0.4->numpyro) (3.3.0)\n",
            "Requirement already satisfied: six in /usr/local/lib/python3.8/dist-packages (from multipledispatch->numpyro) (1.15.0)\n"
          ]
        }
      ],
      "source": [
        "from graphviz import Digraph\n",
        "\n",
        "!pip3 install arviz\n",
        "import arviz as az\n",
        "\n",
        "!pip3 install numpyro\n",
        "import numpyro\n",
        "import numpyro.distributions as dist\n",
        "\n",
        "from jax.random import PRNGKey as PK"
      ]
    },
    {
      "cell_type": "markdown",
      "source": [
        "# Source"
      ],
      "metadata": {
        "id": "WmncqX5AAt_s"
      }
    },
    {
      "cell_type": "markdown",
      "source": [
        "## DAG"
      ],
      "metadata": {
        "id": "KAfSD3TWDf6F"
      }
    },
    {
      "cell_type": "code",
      "source": [
        "dot = Digraph()\n",
        "dot.node('A', 'a')\n",
        "dot.node('B', 'b')\n",
        "dot.node('C', 'c')\n",
        "dot.node('U', 'u')\n",
        "\n",
        "dot.edges(['AB', 'AC', 'BC', 'UB'])\n",
        "dot"
      ],
      "metadata": {
        "colab": {
          "base_uri": "https://localhost:8080/",
          "height": 272
        },
        "id": "a8sM96T7Axy8",
        "outputId": "58b396f1-9be4-4f99-d390-4f25b0b6926a"
      },
      "execution_count": 9,
      "outputs": [
        {
          "output_type": "execute_result",
          "data": {
            "text/plain": [
              "<graphviz.dot.Digraph at 0x7f5da73d95b0>"
            ],
            "image/svg+xml": "<?xml version=\"1.0\" encoding=\"UTF-8\" standalone=\"no\"?>\n<!DOCTYPE svg PUBLIC \"-//W3C//DTD SVG 1.1//EN\"\n \"http://www.w3.org/Graphics/SVG/1.1/DTD/svg11.dtd\">\n<!-- Generated by graphviz version 2.43.0 (0)\n -->\n<!-- Title: %3 Pages: 1 -->\n<svg width=\"134pt\" height=\"188pt\"\n viewBox=\"0.00 0.00 134.00 188.00\" xmlns=\"http://www.w3.org/2000/svg\" xmlns:xlink=\"http://www.w3.org/1999/xlink\">\n<g id=\"graph0\" class=\"graph\" transform=\"scale(1 1) rotate(0) translate(4 184)\">\n<title>%3</title>\n<polygon fill=\"white\" stroke=\"transparent\" points=\"-4,4 -4,-184 130,-184 130,4 -4,4\"/>\n<!-- A -->\n<g id=\"node1\" class=\"node\">\n<title>A</title>\n<ellipse fill=\"none\" stroke=\"black\" cx=\"99\" cy=\"-162\" rx=\"27\" ry=\"18\"/>\n<text text-anchor=\"middle\" x=\"99\" y=\"-158.3\" font-family=\"Times,serif\" font-size=\"14.00\">a</text>\n</g>\n<!-- B -->\n<g id=\"node2\" class=\"node\">\n<title>B</title>\n<ellipse fill=\"none\" stroke=\"black\" cx=\"44\" cy=\"-90\" rx=\"27\" ry=\"18\"/>\n<text text-anchor=\"middle\" x=\"44\" y=\"-86.3\" font-family=\"Times,serif\" font-size=\"14.00\">b</text>\n</g>\n<!-- A&#45;&gt;B -->\n<g id=\"edge1\" class=\"edge\">\n<title>A&#45;&gt;B</title>\n<path fill=\"none\" stroke=\"black\" d=\"M87.07,-145.81C79.79,-136.55 70.34,-124.52 62.15,-114.09\"/>\n<polygon fill=\"black\" stroke=\"black\" points=\"64.84,-111.86 55.91,-106.16 59.34,-116.18 64.84,-111.86\"/>\n</g>\n<!-- C -->\n<g id=\"node3\" class=\"node\">\n<title>C</title>\n<ellipse fill=\"none\" stroke=\"black\" cx=\"71\" cy=\"-18\" rx=\"27\" ry=\"18\"/>\n<text text-anchor=\"middle\" x=\"71\" y=\"-14.3\" font-family=\"Times,serif\" font-size=\"14.00\">c</text>\n</g>\n<!-- A&#45;&gt;C -->\n<g id=\"edge2\" class=\"edge\">\n<title>A&#45;&gt;C</title>\n<path fill=\"none\" stroke=\"black\" d=\"M95.62,-143.87C90.83,-119.56 82.01,-74.82 76.33,-46.01\"/>\n<polygon fill=\"black\" stroke=\"black\" points=\"79.76,-45.32 74.39,-36.19 72.89,-46.68 79.76,-45.32\"/>\n</g>\n<!-- B&#45;&gt;C -->\n<g id=\"edge3\" class=\"edge\">\n<title>B&#45;&gt;C</title>\n<path fill=\"none\" stroke=\"black\" d=\"M50.4,-72.41C53.51,-64.34 57.33,-54.43 60.83,-45.35\"/>\n<polygon fill=\"black\" stroke=\"black\" points=\"64.13,-46.55 64.46,-35.96 57.6,-44.03 64.13,-46.55\"/>\n</g>\n<!-- U -->\n<g id=\"node4\" class=\"node\">\n<title>U</title>\n<ellipse fill=\"none\" stroke=\"black\" cx=\"27\" cy=\"-162\" rx=\"27\" ry=\"18\"/>\n<text text-anchor=\"middle\" x=\"27\" y=\"-158.3\" font-family=\"Times,serif\" font-size=\"14.00\">u</text>\n</g>\n<!-- U&#45;&gt;B -->\n<g id=\"edge4\" class=\"edge\">\n<title>U&#45;&gt;B</title>\n<path fill=\"none\" stroke=\"black\" d=\"M31.12,-144.05C33.01,-136.26 35.3,-126.82 37.42,-118.08\"/>\n<polygon fill=\"black\" stroke=\"black\" points=\"40.85,-118.82 39.8,-108.28 34.04,-117.17 40.85,-118.82\"/>\n</g>\n</g>\n</svg>\n"
          },
          "metadata": {},
          "execution_count": 9
        }
      ]
    },
    {
      "cell_type": "markdown",
      "source": [
        "## Data generation"
      ],
      "metadata": {
        "id": "fK-Qysy0Dk1E"
      }
    },
    {
      "cell_type": "code",
      "source": [
        "dist.Binomial(3, 0.5).sample(PK(1), (1,1000))"
      ],
      "metadata": {
        "colab": {
          "base_uri": "https://localhost:8080/"
        },
        "id": "7VVUlytCBr4M",
        "outputId": "6da0da6d-6e9a-4e61-abc2-3aee8908bab4"
      },
      "execution_count": 18,
      "outputs": [
        {
          "output_type": "execute_result",
          "data": {
            "text/plain": [
              "Array([[0, 1, 2, 2, 1, 1, 2, 1, 1, 2, 1, 2, 1, 0, 3, 2, 2, 2, 1, 0, 2, 3,\n",
              "        3, 1, 1, 1, 0, 3, 1, 2, 1, 2, 2, 0, 3, 2, 1, 1, 2, 2, 1, 2, 1, 3,\n",
              "        0, 1, 1, 2, 1, 1, 3, 2, 1, 1, 1, 1, 0, 1, 1, 2, 2, 2, 2, 1, 2, 0,\n",
              "        0, 2, 2, 1, 2, 0, 0, 2, 1, 3, 1, 2, 1, 3, 0, 2, 0, 0, 2, 1, 1, 2,\n",
              "        2, 1, 1, 2, 0, 0, 2, 3, 1, 1, 2, 1, 1, 2, 1, 0, 2, 2, 1, 1, 1, 1,\n",
              "        2, 1, 1, 2, 1, 0, 1, 3, 1, 2, 2, 2, 1, 1, 3, 1, 2, 2, 0, 2, 1, 2,\n",
              "        2, 3, 2, 1, 0, 1, 3, 2, 2, 1, 2, 2, 1, 1, 2, 2, 0, 2, 1, 2, 1, 2,\n",
              "        2, 3, 2, 2, 0, 0, 0, 3, 1, 2, 1, 2, 0, 1, 3, 1, 2, 2, 2, 1, 3, 0,\n",
              "        2, 1, 2, 1, 2, 3, 1, 2, 2, 2, 2, 2, 3, 3, 1, 2, 3, 3, 1, 1, 1, 2,\n",
              "        2, 1, 0, 2, 1, 0, 1, 2, 0, 1, 0, 0, 1, 1, 1, 2, 1, 0, 1, 0, 2, 2,\n",
              "        2, 3, 1, 0, 1, 1, 2, 0, 3, 2, 2, 3, 3, 0, 2, 1, 2, 2, 3, 1, 2, 0,\n",
              "        1, 2, 2, 1, 2, 1, 2, 1, 2, 2, 0, 1, 2, 1, 1, 1, 3, 1, 0, 2, 1, 2,\n",
              "        0, 2, 3, 2, 1, 1, 2, 3, 1, 1, 1, 3, 0, 1, 1, 2, 2, 2, 1, 0, 1, 2,\n",
              "        1, 2, 3, 2, 3, 1, 1, 3, 1, 2, 2, 3, 2, 2, 2, 1, 1, 1, 2, 1, 2, 2,\n",
              "        2, 3, 2, 1, 1, 2, 2, 1, 2, 1, 1, 2, 1, 2, 2, 2, 0, 1, 2, 0, 0, 2,\n",
              "        0, 2, 1, 2, 2, 1, 1, 1, 3, 2, 3, 2, 3, 2, 1, 2, 2, 1, 1, 1, 1, 2,\n",
              "        3, 2, 2, 2, 1, 3, 1, 1, 3, 2, 2, 2, 0, 2, 1, 1, 1, 1, 1, 1, 2, 1,\n",
              "        2, 2, 1, 1, 2, 3, 2, 1, 2, 2, 2, 1, 1, 1, 1, 2, 1, 0, 1, 3, 0, 1,\n",
              "        2, 1, 1, 2, 2, 1, 2, 1, 2, 2, 2, 2, 0, 1, 0, 2, 3, 2, 3, 1, 3, 0,\n",
              "        1, 2, 2, 1, 1, 2, 2, 2, 0, 1, 1, 2, 2, 2, 0, 1, 3, 1, 1, 2, 2, 2,\n",
              "        2, 1, 1, 3, 1, 2, 2, 1, 1, 1, 2, 2, 2, 1, 2, 3, 1, 1, 2, 3, 0, 2,\n",
              "        2, 2, 1, 1, 2, 1, 1, 3, 1, 3, 2, 2, 2, 2, 2, 0, 1, 0, 2, 3, 1, 0,\n",
              "        3, 0, 1, 2, 1, 2, 2, 2, 2, 2, 2, 0, 2, 1, 1, 2, 0, 1, 2, 2, 3, 2,\n",
              "        2, 3, 1, 1, 2, 0, 1, 2, 1, 1, 2, 0, 1, 2, 0, 2, 1, 1, 2, 1, 1, 0,\n",
              "        2, 2, 2, 2, 1, 2, 3, 2, 2, 2, 3, 2, 1, 1, 1, 1, 2, 2, 2, 2, 2, 2,\n",
              "        1, 1, 3, 2, 3, 1, 1, 1, 3, 2, 2, 1, 3, 2, 1, 1, 1, 3, 1, 1, 2, 0,\n",
              "        1, 1, 1, 2, 1, 2, 1, 2, 1, 2, 1, 2, 3, 1, 0, 2, 0, 1, 1, 1, 1, 1,\n",
              "        1, 0, 1, 2, 2, 2, 3, 2, 1, 1, 2, 2, 1, 2, 2, 3, 2, 2, 2, 1, 3, 1,\n",
              "        3, 0, 1, 2, 1, 2, 0, 2, 2, 2, 3, 1, 2, 1, 1, 3, 2, 3, 2, 2, 2, 1,\n",
              "        2, 1, 1, 2, 1, 1, 2, 1, 0, 1, 3, 1, 1, 1, 3, 2, 1, 2, 3, 2, 2, 0,\n",
              "        0, 3, 0, 0, 1, 0, 2, 1, 1, 3, 2, 0, 2, 2, 1, 1, 2, 2, 1, 1, 3, 2,\n",
              "        1, 0, 1, 2, 0, 1, 0, 1, 1, 1, 1, 2, 1, 2, 1, 2, 1, 2, 2, 0, 3, 3,\n",
              "        1, 1, 0, 2, 1, 2, 3, 0, 1, 1, 2, 1, 1, 1, 2, 2, 2, 2, 2, 3, 1, 3,\n",
              "        2, 1, 2, 1, 2, 1, 0, 1, 1, 2, 0, 1, 1, 2, 2, 2, 1, 2, 2, 2, 1, 2,\n",
              "        2, 2, 0, 1, 1, 3, 2, 0, 1, 0, 0, 1, 2, 1, 1, 1, 1, 1, 2, 1, 3, 0,\n",
              "        2, 2, 2, 2, 2, 1, 1, 1, 1, 2, 2, 0, 2, 1, 1, 2, 3, 2, 1, 2, 1, 1,\n",
              "        3, 2, 3, 2, 3, 2, 3, 0, 2, 3, 2, 2, 1, 2, 2, 2, 2, 1, 1, 1, 2, 1,\n",
              "        2, 1, 1, 1, 1, 0, 1, 2, 3, 1, 2, 1, 1, 1, 2, 2, 1, 0, 1, 0, 1, 1,\n",
              "        1, 2, 2, 0, 0, 1, 2, 0, 2, 3, 2, 1, 1, 1, 3, 0, 3, 2, 2, 2, 3, 1,\n",
              "        1, 1, 1, 1, 0, 2, 2, 2, 2, 2, 2, 1, 1, 3, 1, 1, 1, 1, 2, 2, 1, 2,\n",
              "        1, 0, 2, 2, 0, 2, 0, 1, 1, 2, 2, 1, 1, 1, 0, 1, 2, 2, 3, 1, 1, 1,\n",
              "        3, 2, 2, 2, 2, 1, 0, 3, 1, 2, 1, 2, 1, 0, 2, 3, 3, 2, 3, 2, 1, 1,\n",
              "        2, 1, 2, 1, 1, 0, 2, 1, 1, 1, 1, 1, 0, 1, 1, 1, 2, 2, 3, 1, 1, 2,\n",
              "        1, 2, 1, 2, 1, 3, 1, 2, 2, 3, 2, 1, 2, 2, 1, 2, 2, 1, 0, 1, 1, 0,\n",
              "        0, 1, 0, 1, 2, 1, 1, 2, 1, 1, 1, 2, 2, 2, 1, 3, 0, 0, 2, 1, 2, 1,\n",
              "        2, 3, 1, 1, 3, 2, 2, 2, 2, 2]], dtype=int32, weak_type=True)"
            ]
          },
          "metadata": {},
          "execution_count": 18
        }
      ]
    },
    {
      "cell_type": "markdown",
      "source": [
        "# Location"
      ],
      "metadata": {
        "id": "KKMpe4R-ENQv"
      }
    },
    {
      "cell_type": "markdown",
      "source": [
        "stat_rethink/sims/sim1.ipynb"
      ],
      "metadata": {
        "id": "hajtqvzIERwW"
      }
    }
  ]
}