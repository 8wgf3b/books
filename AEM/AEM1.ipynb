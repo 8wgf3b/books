{
  "nbformat": 4,
  "nbformat_minor": 0,
  "metadata": {
    "colab": {
      "provenance": [],
      "authorship_tag": "ABX9TyNSLK+o0Twa/jqaqeeZ88a9"
    },
    "kernelspec": {
      "name": "python3",
      "display_name": "Python 3"
    },
    "language_info": {
      "name": "python"
    }
  },
  "cells": [
    {
      "cell_type": "code",
      "execution_count": 10,
      "metadata": {
        "colab": {
          "base_uri": "https://localhost:8080/",
          "height": 286
        },
        "id": "sIDwypo2egoM",
        "outputId": "30a0f7a4-9b7e-4317-ae72-2266f5453994"
      },
      "outputs": [
        {
          "output_type": "execute_result",
          "data": {
            "text/plain": [
              "<matplotlib.lines.Line2D at 0x7fb06d300b20>"
            ]
          },
          "metadata": {},
          "execution_count": 10
        },
        {
          "output_type": "display_data",
          "data": {
            "text/plain": [
              "<Figure size 432x288 with 1 Axes>"
            ],
            "image/png": "[encoded data removed]"
          },
          "metadata": {
            "needs_background": "light"
          }
        }
      ],
      "source": [
        "import sympy as smp\n",
        "%matplotlib inline\n",
        "import numpy as np\n",
        "import matplotlib.pyplot as plt\n",
        "from scipy.integrate import quad, quad_vec, odeint, solve_ivp\n",
        "from scipy.interpolate import interp1d, interp2d\n",
        "plt.grid(True, which='both')\n",
        "plt.axhline(y=0, color='k')\n",
        "plt.axvline(x=0, color='k')"
      ]
    },
    {
      "cell_type": "code",
      "source": [
        "x, y, t = smp.symbols('x y t')"
      ],
      "metadata": {
        "id": "cjYbImz3e0L-"
      },
      "execution_count": 2,
      "outputs": []
    },
    {
      "cell_type": "code",
      "source": [
        "class DE:\n",
        "    def __init__(self, dS, S0, x, *args, **kwargs):\n",
        "        pass"
      ],
      "metadata": {
        "id": "cdlmCuhkc5uB"
      },
      "execution_count": 11,
      "outputs": []
    },
    {
      "cell_type": "code",
      "source": [
        "def DES(dS, S0, x):\n",
        "    return solve_ivp(dS, t_span=(min(x), max(x)), y0=S0, t_eval=x)"
      ],
      "metadata": {
        "id": "WhHv1X6liqMb"
      },
      "execution_count": 7,
      "outputs": []
    },
    {
      "cell_type": "code",
      "source": [
        "def dsdx(x, y):\n",
        "    return 1 + x**2\n",
        "\n",
        "DES(dsdx, [1], np.linspace(0, 10, 100))"
      ],
      "metadata": {
        "colab": {
          "base_uri": "https://localhost:8080/"
        },
        "id": "tY6-iWsYD9o5",
        "outputId": "860268a6-b10e-4e0d-abe0-15e3068966ae"
      },
      "execution_count": 8,
      "outputs": [
        {
          "output_type": "execute_result",
          "data": {
            "text/plain": [
              "  message: 'The solver successfully reached the end of the integration interval.'\n",
              "     nfev: 20\n",
              "     njev: 0\n",
              "      nlu: 0\n",
              "      sol: None\n",
              "   status: 0\n",
              "  success: True\n",
              "        t: array([ 0.        ,  0.1010101 ,  0.2020202 ,  0.3030303 ,  0.4040404 ,\n",
              "        0.50505051,  0.60606061,  0.70707071,  0.80808081,  0.90909091,\n",
              "        1.01010101,  1.11111111,  1.21212121,  1.31313131,  1.41414141,\n",
              "        1.51515152,  1.61616162,  1.71717172,  1.81818182,  1.91919192,\n",
              "        2.02020202,  2.12121212,  2.22222222,  2.32323232,  2.42424242,\n",
              "        2.52525253,  2.62626263,  2.72727273,  2.82828283,  2.92929293,\n",
              "        3.03030303,  3.13131313,  3.23232323,  3.33333333,  3.43434343,\n",
              "        3.53535354,  3.63636364,  3.73737374,  3.83838384,  3.93939394,\n",
              "        4.04040404,  4.14141414,  4.24242424,  4.34343434,  4.44444444,\n",
              "        4.54545455,  4.64646465,  4.74747475,  4.84848485,  4.94949495,\n",
              "        5.05050505,  5.15151515,  5.25252525,  5.35353535,  5.45454545,\n",
              "        5.55555556,  5.65656566,  5.75757576,  5.85858586,  5.95959596,\n",
              "        6.06060606,  6.16161616,  6.26262626,  6.36363636,  6.46464646,\n",
              "        6.56565657,  6.66666667,  6.76767677,  6.86868687,  6.96969697,\n",
              "        7.07070707,  7.17171717,  7.27272727,  7.37373737,  7.47474747,\n",
              "        7.57575758,  7.67676768,  7.77777778,  7.87878788,  7.97979798,\n",
              "        8.08080808,  8.18181818,  8.28282828,  8.38383838,  8.48484848,\n",
              "        8.58585859,  8.68686869,  8.78787879,  8.88888889,  8.98989899,\n",
              "        9.09090909,  9.19191919,  9.29292929,  9.39393939,  9.49494949,\n",
              "        9.5959596 ,  9.6969697 ,  9.7979798 ,  9.8989899 , 10.        ])\n",
              " t_events: None\n",
              "        y: array([[  1.        ,   1.10135364,   1.2047685 ,   1.31230579,\n",
              "          1.42602675,   1.54799259,   1.68026454,   1.8249038 ,\n",
              "          1.98397161,   2.15952918,   2.35363773,   2.56835848,\n",
              "          2.80575266,   3.06788148,   3.35680617,   3.67458794,\n",
              "          4.02328801,   4.40496761,   4.82168795,   5.27551026,\n",
              "          5.76849576,   6.30270566,   6.88020119,   7.50304356,\n",
              "          8.17329401,   8.89301373,   9.66426397,  10.48910594,\n",
              "         11.36960085,  12.30780993,  13.3057944 ,  14.36561548,\n",
              "         15.48933439,  16.67901235,  17.93671057,  19.26449029,\n",
              "         20.66441272,  22.13853908,  23.68893059,  25.31764848,\n",
              "         27.02675395,  28.81830824,  30.69437256,  32.65700813,\n",
              "         34.70827618,  36.85023792,  39.08495457,  41.41448736,\n",
              "         43.8408975 ,  46.36624621,  48.99259472,  51.72200425,\n",
              "         54.55653601,  57.49825123,  60.54921112,  63.71147691,\n",
              "         66.98710982,  70.37817106,  73.88672186,  77.51482344,\n",
              "         81.26453701,  85.13792381,  89.13704504,  93.26396193,\n",
              "         97.5207357 , 101.90942758, 106.43209877, 111.0908105 ,\n",
              "        115.88762399, 120.82460046, 125.90380113, 131.12728722,\n",
              "        136.49711996, 142.01536056, 147.68407024, 153.50531022,\n",
              "        159.48114172, 165.61362597, 171.90482418, 178.35679758,\n",
              "        184.97160738, 191.7513148 , 198.69798107, 205.8136674 ,\n",
              "        213.10043502, 220.56034514, 228.19545899, 236.00783779,\n",
              "        243.99954275, 252.1726351 , 260.52917606, 269.07122684,\n",
              "        277.80084867, 286.72010277, 295.83105036, 305.13575266,\n",
              "        314.63627088, 324.33466626, 334.233     , 344.33333333]])\n",
              " y_events: None"
            ]
          },
          "metadata": {},
          "execution_count": 8
        }
      ]
    },
    {
      "cell_type": "code",
      "source": [],
      "metadata": {
        "id": "RQ8FA6mDECUT",
        "colab": {
          "base_uri": "https://localhost:8080/"
        },
        "outputId": "ebaa79f1-23cb-4cf6-8ca2-302856884b20"
      },
      "execution_count": 4,
      "outputs": [
        {
          "output_type": "execute_result",
          "data": {
            "text/plain": [
              "array([ 0.78539816,  1.80924281,  2.83308746,  3.85693211,  4.88077676,\n",
              "        5.90462141,  6.92846605,  7.9523107 ,  8.97615535, 10.        ])"
            ]
          },
          "metadata": {},
          "execution_count": 4
        }
      ]
    },
    {
      "cell_type": "code",
      "source": [],
      "metadata": {
        "id": "31JWymfkcfQ6"
      },
      "execution_count": null,
      "outputs": []
    }
  ]
}