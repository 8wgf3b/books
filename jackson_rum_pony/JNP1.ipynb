{
  "nbformat": 4,
  "nbformat_minor": 0,
  "metadata": {
    "colab": {
      "provenance": [],
      "authorship_tag": "ABX9TyPOzr8BKvkzDxfed0uDXbA1"
    },
    "kernelspec": {
      "name": "python3",
      "display_name": "Python 3"
    },
    "language_info": {
      "name": "python"
    }
  },
  "cells": [
    {
      "cell_type": "code",
      "execution_count": 1,
      "metadata": {
        "id": "7DA9q2ofq6vG"
      },
      "outputs": [],
      "source": [
        "import jax\n",
        "%matplotlib inline\n",
        "%config InlineBackend.figure_format = 'retina'"
      ]
    },
    {
      "cell_type": "code",
      "source": [],
      "metadata": {
        "id": "sBDTTM24bUPu"
      },
      "execution_count": null,
      "outputs": []
    }
  ]
}