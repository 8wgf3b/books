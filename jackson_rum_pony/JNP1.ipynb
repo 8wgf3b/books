{
  "nbformat": 4,
  "nbformat_minor": 0,
  "metadata": {
    "colab": {
      "provenance": [],
      "authorship_tag": "ABX9TyO6oN4W4IyReIYCN3XoPTBc"
    },
    "kernelspec": {
      "name": "python3",
      "display_name": "Python 3"
    },
    "language_info": {
      "name": "python"
    }
  },
  "cells": [
    {
      "cell_type": "code",
      "execution_count": 14,
      "metadata": {
        "id": "7DA9q2ofq6vG"
      },
      "outputs": [],
      "source": [
        "import jax\n",
        "import jax.numpy as jnp\n",
        "from jax import grad, jit, vmap, pmap, jacfwd, jacrev\n",
        "\n",
        "import numpy as np\n",
        "import time\n",
        "\n",
        "import matplotlib.pyplot as plt\n",
        "%matplotlib inline\n",
        "%config InlineBackend.figure_format = 'retina'"
      ]
    },
    {
      "cell_type": "code",
      "source": [
        "def f(x):\n",
        "    return abs(x**3)\n",
        "\n",
        "f(-3)"
      ],
      "metadata": {
        "id": "sBDTTM24bUPu",
        "colab": {
          "base_uri": "https://localhost:8080/"
        },
        "outputId": "ab1d3f4e-487b-4f82-dcab-26a7774a31c4"
      },
      "execution_count": 2,
      "outputs": [
        {
          "output_type": "execute_result",
          "data": {
            "text/plain": [
              "27"
            ]
          },
          "metadata": {},
          "execution_count": 2
        }
      ]
    },
    {
      "cell_type": "code",
      "source": [
        "df = grad(f)\n",
        "df(-3.0)"
      ],
      "metadata": {
        "colab": {
          "base_uri": "https://localhost:8080/"
        },
        "id": "UDwZihk2fmHy",
        "outputId": "1a971eeb-94cf-4a68-a6f9-13a7f5d53d91"
      },
      "execution_count": 7,
      "outputs": [
        {
          "output_type": "execute_result",
          "data": {
            "text/plain": [
              "DeviceArray(-27., dtype=float32, weak_type=True)"
            ]
          },
          "metadata": {},
          "execution_count": 7
        }
      ]
    },
    {
      "cell_type": "code",
      "source": [
        "def mapping(v):\n",
        "  x = v[0]\n",
        "  y = v[1]\n",
        "  z = v[2]\n",
        "  return jnp.array([x*x, y*z])\n",
        "\n",
        "ff = jacfwd(mapping)\n",
        "fr = jacrev(mapping)\n",
        "v = jnp.array([4., 5., 6.])"
      ],
      "metadata": {
        "id": "PHnvyn2_fsg6"
      },
      "execution_count": 20,
      "outputs": []
    },
    {
      "cell_type": "code",
      "source": [
        "ff(v)"
      ],
      "metadata": {
        "colab": {
          "base_uri": "https://localhost:8080/"
        },
        "id": "-HLjGl1BjENx",
        "outputId": "e75b0354-69f2-4828-a514-3970ff4277cc"
      },
      "execution_count": 21,
      "outputs": [
        {
          "output_type": "execute_result",
          "data": {
            "text/plain": [
              "DeviceArray([[8., 0., 0.],\n",
              "             [0., 6., 5.]], dtype=float32)"
            ]
          },
          "metadata": {},
          "execution_count": 21
        }
      ]
    },
    {
      "cell_type": "code",
      "source": [
        "fr(v)"
      ],
      "metadata": {
        "colab": {
          "base_uri": "https://localhost:8080/"
        },
        "id": "Cu9oEIOTjUQ5",
        "outputId": "c4c77aa8-6f23-44c1-c15e-ab00f8e2f6a8"
      },
      "execution_count": 22,
      "outputs": [
        {
          "output_type": "execute_result",
          "data": {
            "text/plain": [
              "DeviceArray([[8., 0., 0.],\n",
              "             [0., 6., 5.]], dtype=float32)"
            ]
          },
          "metadata": {},
          "execution_count": 22
        }
      ]
    },
    {
      "cell_type": "code",
      "source": [],
      "metadata": {
        "id": "5lboEpxUjezh"
      },
      "execution_count": null,
      "outputs": []
    }
  ]
}