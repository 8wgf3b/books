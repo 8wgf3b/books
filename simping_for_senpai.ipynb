{
  "nbformat": 4,
  "nbformat_minor": 0,
  "metadata": {
    "colab": {
      "name": "simping_for_senpai",
      "provenance": [],
      "authorship_tag": "ABX9TyPu8iR7as1+doeLnWfLdRkn"
    },
    "kernelspec": {
      "name": "python3",
      "display_name": "Python 3"
    },
    "language_info": {
      "name": "python"
    }
  },
  "cells": [
    {
      "cell_type": "code",
      "execution_count": null,
      "metadata": {
        "id": "pKlti5BvZu2q"
      },
      "outputs": [],
      "source": [
        ""
      ]
    }
  ]
}