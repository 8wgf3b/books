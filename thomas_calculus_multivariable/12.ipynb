{
  "nbformat": 4,
  "nbformat_minor": 0,
  "metadata": {
    "colab": {
      "provenance": [],
      "authorship_tag": "ABX9TyPnFZpaAg3Fl8hL7hJY/My4"
    },
    "kernelspec": {
      "name": "python3",
      "display_name": "Python 3"
    },
    "language_info": {
      "name": "python"
    }
  },
  "cells": [
    {
      "cell_type": "code",
      "execution_count": 1,
      "metadata": {
        "colab": {
          "base_uri": "https://localhost:8080/",
          "height": 286
        },
        "id": "wuN4ORZTDf9l",
        "outputId": "18890db3-9d0c-439b-ae37-1e92c42c8737"
      },
      "outputs": [
        {
          "output_type": "execute_result",
          "data": {
            "text/plain": [
              "<matplotlib.lines.Line2D at 0x7f34c373bf90>"
            ]
          },
          "metadata": {},
          "execution_count": 1
        },
        {
          "output_type": "display_data",
          "data": {
            "text/plain": [
              "<Figure size 432x288 with 1 Axes>"
            ],
            "image/png": "[encoded data removed]"
          },
          "metadata": {
            "needs_background": "light"
          }
        }
      ],
      "source": [
        "import sympy as smp\n",
        "%matplotlib inline\n",
        "import numpy as np\n",
        "import matplotlib.pyplot as plt\n",
        "from scipy.integrate import quad\n",
        "from scipy.integrate import quad_vec\n",
        "plt.grid(True, which='both')\n",
        "plt.axhline(y=0, color='k')\n",
        "plt.axvline(x=0, color='k')"
      ]
    },
    {
      "cell_type": "code",
      "source": [
        "t = smp.symbols('t')"
      ],
      "metadata": {
        "id": "mJVmDYfqkOHt"
      },
      "execution_count": 4,
      "outputs": []
    },
    {
      "cell_type": "code",
      "source": [
        "def li2np(*args):\n",
        "    return [np.array(i) if isinstance(i, list) else i for i in args ]\n",
        "\n",
        "def uxv(u, v):\n",
        "    u, v = li2np(u, v)\n",
        "    return np.cross(u, v)\n",
        "\n",
        "def fstsec(u, v):\n",
        "    V = uxv(u, v)\n",
        "    L = np.linalg.norm(V)\n",
        "    return (V/L, -V/L) if L else L"
      ],
      "metadata": {
        "id": "Jro9UTnyDpLO"
      },
      "execution_count": 16,
      "outputs": []
    },
    {
      "cell_type": "code",
      "source": [
        "fstsec([1, 0, 0], [1, 0, 0])"
      ],
      "metadata": {
        "colab": {
          "base_uri": "https://localhost:8080/"
        },
        "id": "pxIqHVMoxmLb",
        "outputId": "f7eaca5b-5344-4945-dbcf-71ea3f7cbd7d"
      },
      "execution_count": null,
      "outputs": [
        {
          "output_type": "execute_result",
          "data": {
            "text/plain": [
              "0.0"
            ]
          },
          "metadata": {},
          "execution_count": 6
        }
      ]
    },
    {
      "cell_type": "code",
      "source": [
        "fstsec([2, -2, -1], [1, 0, -1])"
      ],
      "metadata": {
        "colab": {
          "base_uri": "https://localhost:8080/"
        },
        "id": "T9zkFlX4xtxK",
        "outputId": "526d931b-f213-4414-bc67-16b3003b2094"
      },
      "execution_count": null,
      "outputs": [
        {
          "output_type": "execute_result",
          "data": {
            "text/plain": [
              "(array([0.66666667, 0.33333333, 0.66666667]),\n",
              " array([-0.66666667, -0.33333333, -0.66666667]))"
            ]
          },
          "metadata": {},
          "execution_count": 7
        }
      ]
    },
    {
      "cell_type": "code",
      "source": [
        "fstsec([2, -2, 4], [-1, 1, -2])"
      ],
      "metadata": {
        "colab": {
          "base_uri": "https://localhost:8080/"
        },
        "id": "tJqFR7mR0iba",
        "outputId": "338f4aa4-ddfa-4712-a3f6-eadb30a905ed"
      },
      "execution_count": null,
      "outputs": [
        {
          "output_type": "execute_result",
          "data": {
            "text/plain": [
              "0.0"
            ]
          },
          "metadata": {},
          "execution_count": 8
        }
      ]
    },
    {
      "cell_type": "code",
      "source": [
        "def triar(p, q, r):\n",
        "    p, q, r = li2np(p, q, r)\n",
        "    pq = q - p\n",
        "    pr = r - p\n",
        "    V = uxv(pq, pr)\n",
        "    L = np.linalg.norm(V)\n",
        "    return L/2 , V/L"
      ],
      "metadata": {
        "id": "2Za-YV4A062C"
      },
      "execution_count": null,
      "outputs": []
    },
    {
      "cell_type": "code",
      "source": [
        "triar([2, -2, 1], [3, -1, 2], [3, -1, 1])"
      ],
      "metadata": {
        "colab": {
          "base_uri": "https://localhost:8080/"
        },
        "id": "H9iGhJF02Qq8",
        "outputId": "0efd0c71-a1c8-4cb9-dc9a-a7508c6df9a8"
      },
      "execution_count": null,
      "outputs": [
        {
          "output_type": "execute_result",
          "data": {
            "text/plain": [
              "(0.7071067811865476, array([-0.70710678,  0.70710678,  0.        ]))"
            ]
          },
          "metadata": {},
          "execution_count": 10
        }
      ]
    },
    {
      "cell_type": "code",
      "source": [
        "def boxprod(p, q, r):\n",
        "    p, q, r = li2np(p, q, r)\n",
        "    return np.linalg.det(np.stack([p, q, r]))"
      ],
      "metadata": {
        "id": "kLcukTKJ2jlY"
      },
      "execution_count": null,
      "outputs": []
    },
    {
      "cell_type": "code",
      "source": [
        "boxprod([2, 0, 0], [0, 2, 0], [0, 0, 2])"
      ],
      "metadata": {
        "colab": {
          "base_uri": "https://localhost:8080/"
        },
        "id": "C109BBRx0frL",
        "outputId": "dfb8f057-5d47-4864-c516-7966e7e99676"
      },
      "execution_count": null,
      "outputs": [
        {
          "output_type": "execute_result",
          "data": {
            "text/plain": [
              "7.999999999999998"
            ]
          },
          "metadata": {},
          "execution_count": 22
        }
      ]
    },
    {
      "cell_type": "code",
      "source": [
        "boxprod([2, 1, 0], [2, -1, 1], [1, 0, 2])"
      ],
      "metadata": {
        "colab": {
          "base_uri": "https://localhost:8080/"
        },
        "id": "O8AnSzxA0pby",
        "outputId": "d5548c80-cbd0-4984-d250-d0aca724ee4c"
      },
      "execution_count": null,
      "outputs": [
        {
          "output_type": "execute_result",
          "data": {
            "text/plain": [
              "-6.999999999999999"
            ]
          },
          "metadata": {},
          "execution_count": 24
        }
      ]
    },
    {
      "cell_type": "code",
      "source": [
        "def lineqn(p0, v):\n",
        "    return smp.Matrix(p0) + t*smp.Matrix(v)\n",
        "\n",
        "lineqn([1,1,1], [1,1,1])"
      ],
      "metadata": {
        "id": "d04b-P8l2Aq7",
        "colab": {
          "base_uri": "https://localhost:8080/",
          "height": 78
        },
        "outputId": "65768a8b-c68b-471a-a645-85fb4d3ac410"
      },
      "execution_count": 6,
      "outputs": [
        {
          "output_type": "execute_result",
          "data": {
            "text/plain": [
              "Matrix([\n",
              "[t + 1],\n",
              "[t + 1],\n",
              "[t + 1]])"
            ],
            "text/latex": "$\\displaystyle \\left[\\begin{matrix}t + 1\\\\t + 1\\\\t + 1\\end{matrix}\\right]$"
          },
          "metadata": {},
          "execution_count": 6
        }
      ]
    },
    {
      "cell_type": "code",
      "source": [
        "isinstance(lineqn([-2,0,3], [3, 5, -2]), smp.Matrix)"
      ],
      "metadata": {
        "colab": {
          "base_uri": "https://localhost:8080/"
        },
        "id": "NiZ3fRCEkr5D",
        "outputId": "fa3a0dc3-a2f2-4792-a62a-2e336395f6bd"
      },
      "execution_count": 10,
      "outputs": [
        {
          "output_type": "execute_result",
          "data": {
            "text/plain": [
              "True"
            ]
          },
          "metadata": {},
          "execution_count": 10
        }
      ]
    },
    {
      "cell_type": "code",
      "source": [
        "def smpvec(*args):\n",
        "    return [smp.Matrix(x) if isinstance(x, list) else x for x in args]\n",
        "\n"
      ],
      "metadata": {
        "colab": {
          "base_uri": "https://localhost:8080/"
        },
        "id": "vRpwDpovljjD",
        "outputId": "ed6a8018-70e8-4c7f-b281-5defff6166f4"
      },
      "execution_count": 13,
      "outputs": [
        {
          "output_type": "execute_result",
          "data": {
            "text/plain": [
              "[Matrix([\n",
              " [1],\n",
              " [2],\n",
              " [3]]), Matrix([\n",
              " [  t],\n",
              " [2*t],\n",
              " [  3]])]"
            ]
          },
          "metadata": {},
          "execution_count": 13
        }
      ]
    },
    {
      "cell_type": "code",
      "source": [
        "def vmod(x):\n",
        "    return np.linalg.norm(x)\n",
        "\n",
        "def distpt2l(p, s, v):\n",
        "    p, s, v = li2np(p, s, v)\n",
        "    ps = p - s\n",
        "    psxv = uxv(ps, v)\n",
        "    return vmod(psxv)/vmod(v)"
      ],
      "metadata": {
        "id": "ITBl_vmTo1EU"
      },
      "execution_count": 14,
      "outputs": []
    },
    {
      "cell_type": "code",
      "source": [
        "distpt2l([0,0,12], [0,0,0], [4,-2,2])"
      ],
      "metadata": {
        "colab": {
          "base_uri": "https://localhost:8080/"
        },
        "id": "DOx10UqFqVDE",
        "outputId": "7ff7b16a-5276-465d-bcf6-dd1362eb2f48"
      },
      "execution_count": 17,
      "outputs": [
        {
          "output_type": "execute_result",
          "data": {
            "text/plain": [
              "10.954451150103324"
            ]
          },
          "metadata": {},
          "execution_count": 17
        }
      ]
    },
    {
      "cell_type": "code",
      "source": [
        "2 * np.sqrt(30)"
      ],
      "metadata": {
        "colab": {
          "base_uri": "https://localhost:8080/"
        },
        "id": "ieEA24scqek7",
        "outputId": "6adbd0c0-6838-4b10-d504-f176fbc8a49e"
      },
      "execution_count": 18,
      "outputs": [
        {
          "output_type": "execute_result",
          "data": {
            "text/plain": [
              "10.954451150103322"
            ]
          },
          "metadata": {},
          "execution_count": 18
        }
      ]
    },
    {
      "cell_type": "code",
      "source": [],
      "metadata": {
        "id": "wNsyGdiZqr3E"
      },
      "execution_count": null,
      "outputs": []
    }
  ]
}