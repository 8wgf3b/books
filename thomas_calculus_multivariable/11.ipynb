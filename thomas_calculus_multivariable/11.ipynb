{
  "nbformat": 4,
  "nbformat_minor": 0,
  "metadata": {
    "colab": {
      "name": "11",
      "provenance": [],
      "authorship_tag": "ABX9TyMLQUB8GM/58l/JaTJEvIki"
    },
    "kernelspec": {
      "name": "python3",
      "display_name": "Python 3"
    },
    "language_info": {
      "name": "python"
    }
  },
  "cells": [
    {
      "cell_type": "code",
      "source": [
        "import sympy as smp"
      ],
      "metadata": {
        "id": "v6zMhIt4X1gE"
      },
      "execution_count": 1,
      "outputs": []
    },
    {
      "cell_type": "markdown",
      "source": [
        "1.39"
      ],
      "metadata": {
        "id": "ybFvpgHxXmEl"
      }
    },
    {
      "cell_type": "code",
      "execution_count": null,
      "metadata": {
        "colab": {
          "base_uri": "https://localhost:8080/"
        },
        "id": "icm3zCMYS3cS",
        "outputId": "e385a4c1-094f-4005-c2b0-3fa3a5dab0fe"
      },
      "outputs": [
        {
          "output_type": "execute_result",
          "data": {
            "text/plain": [
              "(1.00000000000000, 1.00000000000000)"
            ]
          },
          "metadata": {},
          "execution_count": 15
        }
      ],
      "source": [
        "t = smp.symbols('t', real=True)\n",
        "x = t\n",
        "y = t ** 2\n",
        "dist = smp.sqrt((x - 2)**2 + (y - 0.5)**2)\n",
        "tsols = smp.solve(smp.diff(dist, t), t)[0]\n",
        "x.subs([(t, tsols)]), y.subs([(t, tsols)])"
      ]
    },
    {
      "cell_type": "markdown",
      "source": [
        "1.40"
      ],
      "metadata": {
        "id": "O74DDcN0Zf-8"
      }
    },
    {
      "cell_type": "code",
      "source": [
        "t = smp.symbols('t', real=True)\n",
        "x = 2 * smp.cos(t)\n",
        "y = smp.sin(t)\n",
        "dist = smp.sqrt((x - 0.75)**2 + (y - 0)**2)\n",
        "tsols = smp.solve(smp.diff(dist, t), t)[0]\n",
        "x.subs([(t, tsols)]), y.subs([(t, tsols)])"
      ],
      "metadata": {
        "colab": {
          "base_uri": "https://localhost:8080/"
        },
        "id": "3PMow2AVXuhu",
        "outputId": "425e7323-aa54-4554-f391-bc2c5046679f"
      },
      "execution_count": null,
      "outputs": [
        {
          "output_type": "execute_result",
          "data": {
            "text/plain": [
              "(1.00000000000000, -0.866025403784439)"
            ]
          },
          "metadata": {},
          "execution_count": 17
        }
      ]
    },
    {
      "cell_type": "markdown",
      "source": [
        "11.2 1 + til 14"
      ],
      "metadata": {
        "id": "ojekkmLL99Wf"
      }
    },
    {
      "cell_type": "code",
      "source": [
        "x, y, t = smp.symbols('x y t', real=True)\n",
        "def tangentleq(xt, yt, tval):\n",
        "    dy = smp.diff(yt)\n",
        "    dx = smp.diff(xt)\n",
        "    tan = (y - yt - (x - xt) * dy/dx).subs([(t, tval)]).simplify()\n",
        "    d2ydx2 = (smp.diff(dy/dx)/dx).subs([(t, tval)]).simplify()\n",
        "    return tan, d2ydx2"
      ],
      "metadata": {
        "id": "iDwrwlgcZqFE"
      },
      "execution_count": 33,
      "outputs": []
    },
    {
      "cell_type": "code",
      "source": [
        "probs = [(2 * smp.cos(t), 2 * smp.sin(t), smp.pi / 4),\n",
        "         (smp.sin(2 * smp.pi * t), smp.cos(2 * smp.pi * t), - 1 / 6),\n",
        "         (4 * smp.sin(t), 2 * smp.cos(t), smp.pi / 4),\n",
        "         (1 / (1 + t), t / (t - 1), 2)\n",
        "         ]"
      ],
      "metadata": {
        "id": "I0zvLKX_-yYh"
      },
      "execution_count": 43,
      "outputs": []
    },
    {
      "cell_type": "code",
      "source": [
        "for p in probs:\n",
        "    print(tangentleq(*p))"
      ],
      "metadata": {
        "colab": {
          "base_uri": "https://localhost:8080/"
        },
        "id": "8IsR5gbN-_xg",
        "outputId": "8b869555-eca7-466d-d7b9-7a7c93cb3b7e"
      },
      "execution_count": 44,
      "outputs": [
        {
          "output_type": "stream",
          "name": "stdout",
          "text": [
            "(x + y - 2*sqrt(2), -sqrt(2))\n",
            "(-x/tan(0.166666666666667*pi) + y - 1/sin(0.166666666666667*pi), -1/cos(0.333333333333333*pi)**3)\n",
            "(x/2 + y - 2*sqrt(2), -sqrt(2)/4)\n",
            "(-9*x + y + 1, 108)\n"
          ]
        }
      ]
    },
    {
      "cell_type": "code",
      "source": [
        ""
      ],
      "metadata": {
        "id": "Bc7Xr9OWGLKB"
      },
      "execution_count": null,
      "outputs": []
    }
  ]
}