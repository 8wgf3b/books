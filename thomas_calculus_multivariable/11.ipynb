{
  "nbformat": 4,
  "nbformat_minor": 0,
  "metadata": {
    "colab": {
      "name": "11",
      "provenance": [],
      "authorship_tag": "ABX9TyNQKckBiEN85lyDh4I/MMTE"
    },
    "kernelspec": {
      "name": "python3",
      "display_name": "Python 3"
    },
    "language_info": {
      "name": "python"
    }
  },
  "cells": [
    {
      "cell_type": "code",
      "source": [
        "import sympy as smp\n",
        "%matplotlib inline\n",
        "import numpy as np\n",
        "import matplotlib.pyplot as plt\n",
        "from scipy.integrate import quad\n",
        "from scipy.integrate import quad_vec\n",
        "plt.grid(True, which='both')\n",
        "plt.axhline(y=0, color='k')\n",
        "plt.axvline(x=0, color='k')"
      ],
      "metadata": {
        "id": "v6zMhIt4X1gE",
        "colab": {
          "base_uri": "https://localhost:8080/",
          "height": 286
        },
        "outputId": "b2b60d4c-86f7-4598-c869-b1951ac2dd65"
      },
      "execution_count": 1,
      "outputs": [
        {
          "output_type": "execute_result",
          "data": {
            "text/plain": [
              "<matplotlib.lines.Line2D at 0x7fd2d674d390>"
            ]
          },
          "metadata": {},
          "execution_count": 1
        },
        {
          "output_type": "display_data",
          "data": {
            "text/plain": [
              "<Figure size 432x288 with 1 Axes>"
            ],
            "image/png": "[encoded data removed]"
          },
          "metadata": {
            "needs_background": "light"
          }
        }
      ]
    },
    {
      "cell_type": "markdown",
      "source": [
        "1.39"
      ],
      "metadata": {
        "id": "ybFvpgHxXmEl"
      }
    },
    {
      "cell_type": "code",
      "execution_count": null,
      "metadata": {
        "colab": {
          "base_uri": "https://localhost:8080/"
        },
        "id": "icm3zCMYS3cS",
        "outputId": "3fd71bf0-e8e6-4193-b239-2887dec881fd"
      },
      "outputs": [
        {
          "output_type": "execute_result",
          "data": {
            "text/plain": [
              "(1.00000000000000, 1.00000000000000)"
            ]
          },
          "metadata": {},
          "execution_count": 2
        }
      ],
      "source": [
        "t = smp.symbols('t', real=True)\n",
        "x = t\n",
        "y = t ** 2\n",
        "dist = smp.sqrt((x - 2)**2 + (y - 0.5)**2)\n",
        "tsols = smp.solve(smp.diff(dist, t), t)[0]\n",
        "x.subs([(t, tsols)]), y.subs([(t, tsols)])"
      ]
    },
    {
      "cell_type": "markdown",
      "source": [
        "1.40"
      ],
      "metadata": {
        "id": "O74DDcN0Zf-8"
      }
    },
    {
      "cell_type": "code",
      "source": [
        "t = smp.symbols('t', real=True)\n",
        "x = 2 * smp.cos(t)\n",
        "y = smp.sin(t)\n",
        "dist = smp.sqrt((x - 0.75)**2 + (y - 0)**2)\n",
        "tsols = smp.solve(smp.diff(dist, t), t)[0]\n",
        "x.subs([(t, tsols)]), y.subs([(t, tsols)])"
      ],
      "metadata": {
        "colab": {
          "base_uri": "https://localhost:8080/"
        },
        "id": "3PMow2AVXuhu",
        "outputId": "58ec71a1-bf91-4683-f6cb-c7aeba28414f"
      },
      "execution_count": null,
      "outputs": [
        {
          "output_type": "execute_result",
          "data": {
            "text/plain": [
              "(1.00000000000000, -0.866025403784439)"
            ]
          },
          "metadata": {},
          "execution_count": 26
        }
      ]
    },
    {
      "cell_type": "markdown",
      "source": [
        "11.2 1 + til 14"
      ],
      "metadata": {
        "id": "ojekkmLL99Wf"
      }
    },
    {
      "cell_type": "code",
      "source": [
        "x, y, t = smp.symbols('x y t', real=True)\n",
        "def tangentleq(xt, yt, tval):\n",
        "    dy = smp.diff(yt)\n",
        "    dx = smp.diff(xt)\n",
        "    tan = (y - yt - (x - xt) * dy/dx).subs([(t, tval)]).simplify()\n",
        "    d2ydx2 = (smp.diff(dy/dx)/dx).subs([(t, tval)]).simplify()\n",
        "    return tan, d2ydx2"
      ],
      "metadata": {
        "id": "iDwrwlgcZqFE"
      },
      "execution_count": null,
      "outputs": []
    },
    {
      "cell_type": "code",
      "source": [
        "probs = [(2 * smp.cos(t), 2 * smp.sin(t), smp.pi / 4),\n",
        "         (smp.sin(2 * smp.pi * t), smp.cos(2 * smp.pi * t), - 1 / 6),\n",
        "         (4 * smp.sin(t), 2 * smp.cos(t), smp.pi / 4),\n",
        "         (1 / (1 + t), t / (t - 1), 2)\n",
        "         ]"
      ],
      "metadata": {
        "id": "I0zvLKX_-yYh"
      },
      "execution_count": null,
      "outputs": []
    },
    {
      "cell_type": "code",
      "source": [
        "for p in probs:\n",
        "    print(tangentleq(*p))"
      ],
      "metadata": {
        "colab": {
          "base_uri": "https://localhost:8080/"
        },
        "id": "8IsR5gbN-_xg",
        "outputId": "7c1c0fcd-e421-4604-b0d9-b56458bcbc58"
      },
      "execution_count": null,
      "outputs": [
        {
          "output_type": "stream",
          "name": "stdout",
          "text": [
            "(x + y - 2*sqrt(2), -sqrt(2))\n",
            "(-x/tan(0.166666666666667*pi) + y - 1/sin(0.166666666666667*pi), -1/cos(0.333333333333333*pi)**3)\n",
            "(x/2 + y - 2*sqrt(2), -sqrt(2)/4)\n",
            "(-9*x + y + 1, 108)\n"
          ]
        }
      ]
    },
    {
      "cell_type": "markdown",
      "source": [
        "11.2 15 + til 6"
      ],
      "metadata": {
        "id": "pMQVXpN5qYz-"
      }
    },
    {
      "cell_type": "code",
      "source": [
        "f, g = smp.symbols('f g', cls=smp.Function)\n",
        "x = f(t)\n",
        "y = g(t)\n",
        "def p2(xe, ye, tval):\n",
        "    xt = smp.solve(xe, x)[0]\n",
        "    yt = smp.solve(ye, y)[0]\n",
        "    return (smp.diff(yt) / smp.diff(xt)).subs([(t, tval)])"
      ],
      "metadata": {
        "id": "Bc7Xr9OWGLKB"
      },
      "execution_count": null,
      "outputs": []
    },
    {
      "cell_type": "code",
      "source": [
        "probs = [(x**3 + 2*t**2 - 9, 2*y**3 - 3*t**2 - 4, 2),\n",
        "         (x + 2 * smp.sqrt(x) ** 3 - t**2 - t, y*smp.sqrt(t + 1) + 2*t*smp.sqrt(y) - 4 , 0)\n",
        "]\n",
        "\n",
        "p2(*probs[1])"
      ],
      "metadata": {
        "id": "sM5hx32FrHxA"
      },
      "execution_count": null,
      "outputs": []
    },
    {
      "cell_type": "code",
      "source": [
        "smp.diff(x + 2 * smp.sqrt(x) ** 3 - t**2 - t, t)\n",
        "smp.diff(y*smp.sqrt(t + 1) + 2*t*smp.sqrt(y) - 4, t)"
      ],
      "metadata": {
        "colab": {
          "base_uri": "https://localhost:8080/",
          "height": 64
        },
        "id": "lS-0SbmntjNO",
        "outputId": "52e4e2db-3c46-4a62-920e-c43e50a0cd78"
      },
      "execution_count": null,
      "outputs": [
        {
          "output_type": "execute_result",
          "data": {
            "text/plain": [
              "t*Derivative(g(t), t)/sqrt(g(t)) + sqrt(t + 1)*Derivative(g(t), t) + 2*sqrt(g(t)) + g(t)/(2*sqrt(t + 1))"
            ],
            "text/latex": "$\\displaystyle \\frac{t \\frac{d}{d t} g{\\left(t \\right)}}{\\sqrt{g{\\left(t \\right)}}} + \\sqrt{t + 1} \\frac{d}{d t} g{\\left(t \\right)} + 2 \\sqrt{g{\\left(t \\right)}} + \\frac{g{\\left(t \\right)}}{2 \\sqrt{t + 1}}$"
          },
          "metadata": {},
          "execution_count": 5
        }
      ]
    },
    {
      "cell_type": "code",
      "source": [
        "smp.solve(t + 2 * t **1.5, t)"
      ],
      "metadata": {
        "id": "H44qmVuWuqFt",
        "colab": {
          "base_uri": "https://localhost:8080/"
        },
        "outputId": "ff2f35dd-6632-4124-ff5f-c27994f5ce8d"
      },
      "execution_count": null,
      "outputs": [
        {
          "output_type": "execute_result",
          "data": {
            "text/plain": [
              "[0.0]"
            ]
          },
          "metadata": {},
          "execution_count": 6
        }
      ]
    },
    {
      "cell_type": "markdown",
      "source": [
        "11.2. 21 - 24"
      ],
      "metadata": {
        "id": "VerQOu7HKRRs"
      }
    },
    {
      "cell_type": "code",
      "source": [
        ""
      ],
      "metadata": {
        "id": "WWtiZcaxoUJd",
        "colab": {
          "base_uri": "https://localhost:8080/",
          "height": 286
        },
        "outputId": "d0db47a6-ccae-4dc9-f516-9dcc79386421"
      },
      "execution_count": null,
      "outputs": [
        {
          "output_type": "execute_result",
          "data": {
            "text/plain": [
              "<matplotlib.lines.Line2D at 0x7f66abe68f10>"
            ]
          },
          "metadata": {},
          "execution_count": 4
        },
        {
          "output_type": "display_data",
          "data": {
            "text/plain": [
              "<Figure size 432x288 with 1 Axes>"
            ],
            "image/png": "[encoded data removed]"
          },
          "metadata": {
            "needs_background": "light"
          }
        }
      ]
    },
    {
      "cell_type": "code",
      "source": [
        "def graph(x, y, l, h):\n",
        "    tval = np.linspace(l, h, 100)\n",
        "    xl = smp.lambdify([t], x)\n",
        "    yl = smp.lambdify([t], y)\n",
        "    plt.grid(True, which='both')\n",
        "    plt.axhline(y=0, color='k')\n",
        "    plt.axvline(x=0, color='k')\n",
        "    plt.plot(xl(tval), yl(tval))\n"
      ],
      "metadata": {
        "id": "EhEXP_gcKfEg"
      },
      "execution_count": null,
      "outputs": []
    },
    {
      "cell_type": "code",
      "source": [
        "graph(t, t - t**2, 0, 10)"
      ],
      "metadata": {
        "colab": {
          "base_uri": "https://localhost:8080/",
          "height": 265
        },
        "id": "sywA5GQSL1O7",
        "outputId": "7b8d04cc-caf3-4656-9e5e-ac3d2402d0a2"
      },
      "execution_count": null,
      "outputs": [
        {
          "output_type": "display_data",
          "data": {
            "text/plain": [
              "<Figure size 432x288 with 1 Axes>"
            ],
            "image/png": "[encoded data removed]"
          },
          "metadata": {
            "needs_background": "light"
          }
        }
      ]
    },
    {
      "cell_type": "code",
      "source": [
        "graph(3 * (t - smp.sin(t)), 3 * (1 - smp.cos(t)), -2 * np.pi, 2 * np.pi)"
      ],
      "metadata": {
        "colab": {
          "base_uri": "https://localhost:8080/",
          "height": 265
        },
        "id": "evcCgCPvL5kJ",
        "outputId": "46e38a16-722a-47bc-8530-ee6507444482"
      },
      "execution_count": null,
      "outputs": [
        {
          "output_type": "display_data",
          "data": {
            "text/plain": [
              "<Figure size 432x288 with 1 Axes>"
            ],
            "image/png": "[encoded data removed]"
          },
          "metadata": {
            "needs_background": "light"
          }
        }
      ]
    },
    {
      "cell_type": "code",
      "source": [
        "graph(3 * smp.cos(t), smp.sin(t), 0, 0.5 * np.pi)"
      ],
      "metadata": {
        "colab": {
          "base_uri": "https://localhost:8080/",
          "height": 265
        },
        "id": "2tTg3v3XMbfJ",
        "outputId": "d0ce6bf4-43be-4c95-def0-a62f9c68e8a4"
      },
      "execution_count": null,
      "outputs": [
        {
          "output_type": "display_data",
          "data": {
            "text/plain": [
              "<Figure size 432x288 with 1 Axes>"
            ],
            "image/png": "[encoded data removed]"
          },
          "metadata": {
            "needs_background": "light"
          }
        }
      ]
    },
    {
      "cell_type": "code",
      "source": [
        "graph(t - t**2, 1 + smp.E ** (- t), -3, 3)"
      ],
      "metadata": {
        "colab": {
          "base_uri": "https://localhost:8080/",
          "height": 265
        },
        "id": "WBHyTTTqN9EX",
        "outputId": "db7b3c8c-857c-42b8-8030-2d76c0d64b2e"
      },
      "execution_count": null,
      "outputs": [
        {
          "output_type": "display_data",
          "data": {
            "text/plain": [
              "<Figure size 432x288 with 1 Axes>"
            ],
            "image/png": "[encoded data removed]"
          },
          "metadata": {
            "needs_background": "light"
          }
        }
      ]
    },
    {
      "cell_type": "code",
      "source": [
        "x, y, t, a, b = smp.symbols('x y t a b', real=True)\n"
      ],
      "metadata": {
        "id": "STxLP0JajXGn"
      },
      "execution_count": null,
      "outputs": []
    },
    {
      "cell_type": "code",
      "source": [
        "smp.integrate((a**2) * (1 - smp.cos(t)) * smp.diff(t - smp.sin(t)), (t, 0, 2*smp.pi))"
      ],
      "metadata": {
        "colab": {
          "base_uri": "https://localhost:8080/",
          "height": 39
        },
        "id": "4qrJBunQanWo",
        "outputId": "f17e4e0e-6ce8-4eca-8d82-1dc4e06feef1"
      },
      "execution_count": null,
      "outputs": [
        {
          "output_type": "execute_result",
          "data": {
            "text/plain": [
              "3*pi*a**2"
            ],
            "text/latex": "$\\displaystyle 3 \\pi a^{2}$"
          },
          "metadata": {},
          "execution_count": 11
        }
      ]
    },
    {
      "cell_type": "code",
      "source": [
        "smp.integrate((t - t**2)*(1 + smp.E** (- t)), (t, 0, 1))"
      ],
      "metadata": {
        "colab": {
          "base_uri": "https://localhost:8080/",
          "height": 51
        },
        "id": "DDVn_xxekepO",
        "outputId": "b8789f20-bdc7-4c33-ec71-8eb9648626f2"
      },
      "execution_count": null,
      "outputs": [
        {
          "output_type": "execute_result",
          "data": {
            "text/plain": [
              "-5/6 + 3*exp(-1)"
            ],
            "text/latex": "$\\displaystyle - \\frac{5}{6} + \\frac{3}{e}$"
          },
          "metadata": {},
          "execution_count": 15
        }
      ]
    },
    {
      "cell_type": "code",
      "source": [
        "smp.integrate(b * smp.sin(t) * smp.diff(a * smp.cos(t), t), (t, 0, 0.5 * smp.pi))"
      ],
      "metadata": {
        "colab": {
          "base_uri": "https://localhost:8080/",
          "height": 39
        },
        "id": "9qi3Qo5olvad",
        "outputId": "0f3e81e7-6407-4573-e8eb-703a1f79e373"
      },
      "execution_count": null,
      "outputs": [
        {
          "output_type": "execute_result",
          "data": {
            "text/plain": [
              "-0.25*pi*a*b"
            ],
            "text/latex": "$\\displaystyle - 0.25 \\pi a b$"
          },
          "metadata": {},
          "execution_count": 18
        }
      ]
    },
    {
      "cell_type": "code",
      "source": [
        "graph(smp.cos(t), t + smp.sin(t), 0, 2 * np.pi)"
      ],
      "metadata": {
        "colab": {
          "base_uri": "https://localhost:8080/",
          "height": 265
        },
        "id": "HE5unzRAmVRu",
        "outputId": "88822f72-86fe-4481-95a8-65d0f7c5406c"
      },
      "execution_count": null,
      "outputs": [
        {
          "output_type": "display_data",
          "data": {
            "text/plain": [
              "<Figure size 432x288 with 1 Axes>"
            ],
            "image/png": "[encoded data removed]"
          },
          "metadata": {
            "needs_background": "light"
          }
        }
      ]
    },
    {
      "cell_type": "code",
      "source": [
        "def dist(x, y, l, h):\n",
        "    f = smp.lambdify([t], ((smp.diff(x)**2 + smp.diff(y)**2)**0.5).simplify())\n",
        "    return quad(f, l, h)[0]"
      ],
      "metadata": {
        "id": "OJ3l5MWjnuot"
      },
      "execution_count": null,
      "outputs": []
    },
    {
      "cell_type": "code",
      "source": [
        "dist(smp.cos(t), t + smp.sin(t), 0, np.pi)"
      ],
      "metadata": {
        "colab": {
          "base_uri": "https://localhost:8080/"
        },
        "id": "GCPkOYobA7SV",
        "outputId": "f73d0bd3-9ed2-43ab-d101-790ec198d728"
      },
      "execution_count": null,
      "outputs": [
        {
          "output_type": "execute_result",
          "data": {
            "text/plain": [
              "4.000000000000013"
            ]
          },
          "metadata": {},
          "execution_count": 37
        }
      ]
    },
    {
      "cell_type": "code",
      "source": [
        "dist(0.5*t**2, 1/3 * (2*t + 1)**1.5, 0, 4)"
      ],
      "metadata": {
        "colab": {
          "base_uri": "https://localhost:8080/"
        },
        "id": "5wqLuescBGrE",
        "outputId": "15def518-d7c8-4f41-9c92-2bd2f1179a22"
      },
      "execution_count": null,
      "outputs": [
        {
          "output_type": "execute_result",
          "data": {
            "text/plain": [
              "12.0"
            ]
          },
          "metadata": {},
          "execution_count": 38
        }
      ]
    },
    {
      "cell_type": "code",
      "source": [
        "dist(8*smp.cos(t) + 8 * t * smp.sin(t), 8*smp.sin(t) - 8 * t * smp.cos(t), 0, np.pi / 2)"
      ],
      "metadata": {
        "colab": {
          "base_uri": "https://localhost:8080/"
        },
        "id": "ZiteKh7FC8B0",
        "outputId": "b2726945-a6ba-4763-dd86-575d205250dd"
      },
      "execution_count": null,
      "outputs": [
        {
          "output_type": "execute_result",
          "data": {
            "text/plain": [
              "9.869604401089358"
            ]
          },
          "metadata": {},
          "execution_count": 39
        }
      ]
    },
    {
      "cell_type": "code",
      "source": [
        "np.pi ** 2"
      ],
      "metadata": {
        "colab": {
          "base_uri": "https://localhost:8080/"
        },
        "id": "lknPP63SGOMz",
        "outputId": "5de74a36-a7a5-45e1-e5d0-e7e567f3b533"
      },
      "execution_count": null,
      "outputs": [
        {
          "output_type": "execute_result",
          "data": {
            "text/plain": [
              "9.869604401089358"
            ]
          },
          "metadata": {},
          "execution_count": 40
        }
      ]
    },
    {
      "cell_type": "code",
      "source": [
        "def rdist(x, y, l, h, xa):\n",
        "    f = 2 * smp.pi * (smp.diff(x)**2 + smp.diff(y)**2)**0.5\n",
        "    f = f*y if xa else f*x\n",
        "    f = smp.lambdify([t], f.simplify())\n",
        "    return quad(f, l, h)[0]"
      ],
      "metadata": {
        "id": "5-J8TpUIGRfa"
      },
      "execution_count": null,
      "outputs": []
    },
    {
      "cell_type": "code",
      "source": [
        "rdist(smp.cos(t), 2 + smp.sin(t), 0, 2 * np.pi, True)"
      ],
      "metadata": {
        "colab": {
          "base_uri": "https://localhost:8080/"
        },
        "id": "qFietkY3HKxT",
        "outputId": "e4584a51-88cc-4228-a13e-c45747c8d407"
      },
      "execution_count": null,
      "outputs": [
        {
          "output_type": "execute_result",
          "data": {
            "text/plain": [
              "78.95683520871486"
            ]
          },
          "metadata": {},
          "execution_count": 52
        }
      ]
    },
    {
      "cell_type": "code",
      "source": [
        "8 * np.pi ** 2"
      ],
      "metadata": {
        "colab": {
          "base_uri": "https://localhost:8080/"
        },
        "id": "wiX-VaJsHYG6",
        "outputId": "1a04422a-6894-42d4-d15f-ca1906610155"
      },
      "execution_count": null,
      "outputs": [
        {
          "output_type": "execute_result",
          "data": {
            "text/plain": [
              "78.95683520871486"
            ]
          },
          "metadata": {},
          "execution_count": 53
        }
      ]
    },
    {
      "cell_type": "code",
      "source": [
        "rdist(2 *t, t + 1, 0 , 1, True)"
      ],
      "metadata": {
        "colab": {
          "base_uri": "https://localhost:8080/"
        },
        "id": "AfwMT9CMINlb",
        "outputId": "ef72244f-4f41-40ff-b8d9-a7813c3ec26f"
      },
      "execution_count": null,
      "outputs": [
        {
          "output_type": "execute_result",
          "data": {
            "text/plain": [
              "21.07444419312218"
            ]
          },
          "metadata": {},
          "execution_count": 54
        }
      ]
    },
    {
      "cell_type": "code",
      "source": [
        "3 * np.pi * np.sqrt(5)"
      ],
      "metadata": {
        "colab": {
          "base_uri": "https://localhost:8080/"
        },
        "id": "jKbWx_P4KItx",
        "outputId": "c40598d6-2f82-438b-9a98-5aba51258f00"
      },
      "execution_count": null,
      "outputs": [
        {
          "output_type": "execute_result",
          "data": {
            "text/plain": [
              "21.07444419312218"
            ]
          },
          "metadata": {},
          "execution_count": 55
        }
      ]
    },
    {
      "cell_type": "code",
      "source": [
        "def centroid(x, y, l, h):\n",
        "    dl = (smp.diff(x)**2 + smp.diff(y)**2)**0.5\n",
        "    L = dist(x, y, l, h)\n",
        "    xl = smp.lambdify([t], (x * dl).simplify())\n",
        "    yl = smp.lambdify([t], (y * dl).simplify())\n",
        "    return np.array([quad(xl, l, h)[0], quad(yl, l, h)[0]]) / L"
      ],
      "metadata": {
        "id": "36Zu5LCNKhsJ"
      },
      "execution_count": null,
      "outputs": []
    },
    {
      "cell_type": "code",
      "source": [
        "centroid(smp.cos(t) + t * smp.sin(t), smp.sin(t) - t * smp.cos(t), 0, np.pi * 0.5)"
      ],
      "metadata": {
        "colab": {
          "base_uri": "https://localhost:8080/"
        },
        "id": "wXbj38lOLHUS",
        "outputId": "57fb317f-01de-4a61-cdf7-7ec4a51446b3"
      },
      "execution_count": null,
      "outputs": [
        {
          "output_type": "execute_result",
          "data": {
            "text/plain": [
              "array([1.38801023, 0.43170841])"
            ]
          },
          "metadata": {},
          "execution_count": 66
        }
      ]
    },
    {
      "cell_type": "code",
      "source": [
        "12/np.pi*(1 - 2/np.pi)"
      ],
      "metadata": {
        "colab": {
          "base_uri": "https://localhost:8080/"
        },
        "id": "4gHeny-fLJoo",
        "outputId": "d51d5972-99f4-4dd5-f095-796e909eb044"
      },
      "execution_count": null,
      "outputs": [
        {
          "output_type": "execute_result",
          "data": {
            "text/plain": [
              "1.3880102267893815"
            ]
          },
          "metadata": {},
          "execution_count": 67
        }
      ]
    },
    {
      "cell_type": "code",
      "source": [
        "-2 + 24/np.pi**2"
      ],
      "metadata": {
        "colab": {
          "base_uri": "https://localhost:8080/"
        },
        "id": "5rQTVnxYMjiQ",
        "outputId": "cf68d2b0-d22f-41e6-e318-521ab32508b4"
      },
      "execution_count": null,
      "outputs": [
        {
          "output_type": "execute_result",
          "data": {
            "text/plain": [
              "0.4317084074161066"
            ]
          },
          "metadata": {},
          "execution_count": 68
        }
      ]
    },
    {
      "cell_type": "code",
      "source": [
        "centroid(smp.cos(t), t + smp.sin(t), 0, np.pi)"
      ],
      "metadata": {
        "colab": {
          "base_uri": "https://localhost:8080/"
        },
        "id": "E4zmgBQmMobR",
        "outputId": "8ef2e681-c2a0-4ffe-e680-9a55ae987395"
      },
      "execution_count": null,
      "outputs": [
        {
          "output_type": "execute_result",
          "data": {
            "text/plain": [
              "array([0.33333333, 1.80825932])"
            ]
          },
          "metadata": {},
          "execution_count": 69
        }
      ]
    },
    {
      "cell_type": "code",
      "source": [
        "dist(smp.cos(2 * t), smp.sin(2 * t), 0, np.pi/2)"
      ],
      "metadata": {
        "colab": {
          "base_uri": "https://localhost:8080/"
        },
        "id": "YOjUonhiNJT_",
        "outputId": "1d98f5b2-8061-4681-fbca-99dd0e9ddb6d"
      },
      "execution_count": null,
      "outputs": [
        {
          "output_type": "execute_result",
          "data": {
            "text/plain": [
              "3.141592653589793"
            ]
          },
          "metadata": {},
          "execution_count": 71
        }
      ]
    },
    {
      "cell_type": "code",
      "source": [
        "dist(smp.sin(np.pi * t), smp.cos(np.pi * t), -0.5, 1/2)"
      ],
      "metadata": {
        "colab": {
          "base_uri": "https://localhost:8080/"
        },
        "id": "e_JBQ2jyZ8Oc",
        "outputId": "337bb720-0a8c-43bd-8a15-c63450a06326"
      },
      "execution_count": null,
      "outputs": [
        {
          "output_type": "execute_result",
          "data": {
            "text/plain": [
              "3.1415926535897896"
            ]
          },
          "metadata": {},
          "execution_count": 72
        }
      ]
    },
    {
      "cell_type": "code",
      "source": [
        "graph((1 + 2 * smp.sin(t)) *smp.cos(t), (1 + 2 * smp.sin(t)) *smp.sin(t), 0, 2 * np.pi)"
      ],
      "metadata": {
        "colab": {
          "base_uri": "https://localhost:8080/",
          "height": 265
        },
        "id": "DGmBeEifaJpM",
        "outputId": "2d4c4bc9-20b6-4a0e-bbb4-b4edee4eba2c"
      },
      "execution_count": null,
      "outputs": [
        {
          "output_type": "display_data",
          "data": {
            "text/plain": [
              "<Figure size 432x288 with 1 Axes>"
            ],
            "image/png": "[encoded data removed]"
          },
          "metadata": {
            "needs_background": "light"
          }
        }
      ]
    },
    {
      "cell_type": "code",
      "source": [
        "tangentleq((1 + 2 * smp.sin(t)) *smp.cos(t), (1 + 2 * smp.sin(t)) *smp.sin(t), 4 * smp.pi/3)"
      ],
      "metadata": {
        "colab": {
          "base_uri": "https://localhost:8080/"
        },
        "id": "jWq18-_ra2Ck",
        "outputId": "7c162d70-f1d5-4851-8441-59bc2150a1a0"
      },
      "execution_count": null,
      "outputs": [
        {
          "output_type": "execute_result",
          "data": {
            "text/plain": [
              "(4*x + 3*sqrt(3)*x + y - 4, -792 - 456*sqrt(3))"
            ]
          },
          "metadata": {},
          "execution_count": 81
        }
      ]
    },
    {
      "cell_type": "code",
      "source": [
        "x, y, th = smp.symbols('x y theta', real=True)\n",
        "r = smp.symbols('r', cls=smp.Function)\n",
        "x = r(th) * smp.cos(th)\n",
        "y = r(th) * smp.sin(th)\n",
        "y.subs([(r(th), th)]).doit()"
      ],
      "metadata": {
        "id": "MOw9T-CBbbb7",
        "colab": {
          "base_uri": "https://localhost:8080/",
          "height": 39
        },
        "outputId": "bd15db9f-d607-4dc2-9cfa-b52ce2a57034"
      },
      "execution_count": 2,
      "outputs": [
        {
          "output_type": "execute_result",
          "data": {
            "text/plain": [
              "theta*sin(theta)"
            ],
            "text/latex": "$\\displaystyle \\theta \\sin{\\left(\\theta \\right)}$"
          },
          "metadata": {},
          "execution_count": 2
        }
      ]
    },
    {
      "cell_type": "code",
      "source": [
        "def DP(rexp, l=0, h=2*np.pi):\n",
        "    tval = np.linspace(l, h, 100)\n",
        "    xl = smp.lambdify([th], rexp * smp.cos(th))\n",
        "    yl = smp.lambdify([th], rexp * smp.sin(th))\n",
        "    plt.grid(True, which='both')\n",
        "    plt.axhline(y=0, color='k')\n",
        "    plt.axvline(x=0, color='k')\n",
        "    plt.plot(xl(tval), yl(tval))"
      ],
      "metadata": {
        "id": "WBt0N0mYJx-b"
      },
      "execution_count": 4,
      "outputs": []
    },
    {
      "cell_type": "code",
      "source": [
        "DP(th, 0, np.pi)"
      ],
      "metadata": {
        "colab": {
          "base_uri": "https://localhost:8080/",
          "height": 265
        },
        "id": "dxZcnBeEL0YO",
        "outputId": "11f38b05-ba06-4779-89b3-de4ca0b1488f"
      },
      "execution_count": 5,
      "outputs": [
        {
          "output_type": "display_data",
          "data": {
            "text/plain": [
              "<Figure size 432x288 with 1 Axes>"
            ],
            "image/png": "[encoded data removed]"
          },
          "metadata": {
            "needs_background": "light"
          }
        }
      ]
    },
    {
      "cell_type": "code",
      "source": [
        "def PArea(rexp, l=0, h=2*np.pi):\n",
        "    ig = 0.5 * rexp ** 2\n",
        "    ig = smp.lambdify([th], ig.simplify())\n",
        "    return quad(ig, l, h)[0]"
      ],
      "metadata": {
        "id": "8hTZXaGEL7wq"
      },
      "execution_count": 6,
      "outputs": []
    },
    {
      "cell_type": "code",
      "source": [
        "PArea(th, 0, np.pi)"
      ],
      "metadata": {
        "colab": {
          "base_uri": "https://localhost:8080/"
        },
        "id": "WauaPd49MZDS",
        "outputId": "2a62e03c-02fa-4027-b727-febe00ec00eb"
      },
      "execution_count": null,
      "outputs": [
        {
          "output_type": "execute_result",
          "data": {
            "text/plain": [
              "5.167712780049969"
            ]
          },
          "metadata": {},
          "execution_count": 20
        }
      ]
    },
    {
      "cell_type": "code",
      "source": [
        "(np.pi ** 3) / 6"
      ],
      "metadata": {
        "colab": {
          "base_uri": "https://localhost:8080/"
        },
        "id": "bJy6yERvMbzb",
        "outputId": "4e05cb4d-89ce-408f-92ff-8ffeebaca9a5"
      },
      "execution_count": null,
      "outputs": [
        {
          "output_type": "execute_result",
          "data": {
            "text/plain": [
              "5.167712780049969"
            ]
          },
          "metadata": {},
          "execution_count": 21
        }
      ]
    },
    {
      "cell_type": "code",
      "source": [
        "DP(4 + 2 * smp.cos(th), 0, 2 * np.pi)"
      ],
      "metadata": {
        "colab": {
          "base_uri": "https://localhost:8080/",
          "height": 265
        },
        "id": "sXXU6Xs3NkMK",
        "outputId": "6120fe9e-2097-4cf1-9f30-f3498cfd6ff4"
      },
      "execution_count": null,
      "outputs": [
        {
          "output_type": "display_data",
          "data": {
            "text/plain": [
              "<Figure size 432x288 with 1 Axes>"
            ],
            "image/png": "[encoded data removed]"
          },
          "metadata": {
            "needs_background": "light"
          }
        }
      ]
    },
    {
      "cell_type": "code",
      "source": [
        "2 * PArea(4 + 2 * smp.cos(th), 0, np.pi)"
      ],
      "metadata": {
        "colab": {
          "base_uri": "https://localhost:8080/"
        },
        "id": "COVcpLXtOH1j",
        "outputId": "d094f4e1-204c-4c5f-c9a7-57b68cd08633"
      },
      "execution_count": null,
      "outputs": [
        {
          "output_type": "execute_result",
          "data": {
            "text/plain": [
              "56.548667764616276"
            ]
          },
          "metadata": {},
          "execution_count": 27
        }
      ]
    },
    {
      "cell_type": "code",
      "source": [
        "18 * np.pi"
      ],
      "metadata": {
        "colab": {
          "base_uri": "https://localhost:8080/"
        },
        "id": "yPgZUdyVOawy",
        "outputId": "8e8ced66-29cc-411f-de8f-c95afb49c795"
      },
      "execution_count": null,
      "outputs": [
        {
          "output_type": "execute_result",
          "data": {
            "text/plain": [
              "56.548667764616276"
            ]
          },
          "metadata": {},
          "execution_count": 28
        }
      ]
    },
    {
      "cell_type": "code",
      "source": [
        "DP(smp.cos(2 * th), 0,2*  np.pi)"
      ],
      "metadata": {
        "colab": {
          "base_uri": "https://localhost:8080/",
          "height": 265
        },
        "id": "QujPGnX1OiCr",
        "outputId": "88edecd9-7c5f-494f-df58-bae68cfb3679"
      },
      "execution_count": null,
      "outputs": [
        {
          "output_type": "display_data",
          "data": {
            "text/plain": [
              "<Figure size 432x288 with 1 Axes>"
            ],
            "image/png": "[encoded data removed]"
          },
          "metadata": {
            "needs_background": "light"
          }
        }
      ]
    },
    {
      "cell_type": "code",
      "source": [
        "PArea(smp.cos(2 * th), -0.25 * np.pi, 0.25 * np.pi)"
      ],
      "metadata": {
        "colab": {
          "base_uri": "https://localhost:8080/"
        },
        "id": "4m4Esn23O8Wa",
        "outputId": "24f7aafc-1175-417f-d2e6-2f5d50f9670e"
      },
      "execution_count": null,
      "outputs": [
        {
          "output_type": "execute_result",
          "data": {
            "text/plain": [
              "0.39269908169872414"
            ]
          },
          "metadata": {},
          "execution_count": 32
        }
      ]
    },
    {
      "cell_type": "code",
      "source": [
        "0.125 * np.pi"
      ],
      "metadata": {
        "colab": {
          "base_uri": "https://localhost:8080/"
        },
        "id": "h2lweovOPXAz",
        "outputId": "e9d85f8b-9fad-4498-9e29-d64de707a1fa"
      },
      "execution_count": null,
      "outputs": [
        {
          "output_type": "execute_result",
          "data": {
            "text/plain": [
              "0.39269908169872414"
            ]
          },
          "metadata": {},
          "execution_count": 33
        }
      ]
    },
    {
      "cell_type": "code",
      "source": [
        "DP( 2 * smp.sin(2 * th) **0.5, 0, 0.5 * np.pi)"
      ],
      "metadata": {
        "colab": {
          "base_uri": "https://localhost:8080/",
          "height": 265
        },
        "id": "apliTELUPgWL",
        "outputId": "cf229137-afba-43a6-c392-d54c69df7995"
      },
      "execution_count": null,
      "outputs": [
        {
          "output_type": "display_data",
          "data": {
            "text/plain": [
              "<Figure size 432x288 with 1 Axes>"
            ],
            "image/png": "[encoded data removed]"
          },
          "metadata": {
            "needs_background": "light"
          }
        }
      ]
    },
    {
      "cell_type": "code",
      "source": [
        "PArea(2 * smp.sin(2 * th) **0.5, 0, 0.5 * np.pi)"
      ],
      "metadata": {
        "colab": {
          "base_uri": "https://localhost:8080/"
        },
        "id": "DqEaHldOQ98K",
        "outputId": "d3d63918-b9b3-4d7b-d2b3-4190d087f7ab"
      },
      "execution_count": null,
      "outputs": [
        {
          "output_type": "execute_result",
          "data": {
            "text/plain": [
              "2.0"
            ]
          },
          "metadata": {},
          "execution_count": 42
        }
      ]
    },
    {
      "cell_type": "code",
      "source": [
        "DP( 2 * smp.sin(3 * th) **0.5, 0, np.pi / 3)"
      ],
      "metadata": {
        "colab": {
          "base_uri": "https://localhost:8080/",
          "height": 265
        },
        "id": "_TKEte9dRbAp",
        "outputId": "8897c86e-95fc-4846-a304-ee178d9cc03e"
      },
      "execution_count": null,
      "outputs": [
        {
          "output_type": "display_data",
          "data": {
            "text/plain": [
              "<Figure size 432x288 with 1 Axes>"
            ],
            "image/png": "[encoded data removed]"
          },
          "metadata": {
            "needs_background": "light"
          }
        }
      ]
    },
    {
      "cell_type": "code",
      "source": [
        "PArea(2 * smp.sin(3 * th) **0.5, 0, np.pi / 3)"
      ],
      "metadata": {
        "colab": {
          "base_uri": "https://localhost:8080/"
        },
        "id": "hAYs_zejRmuT",
        "outputId": "af96d110-9bc4-4e13-c4d9-3eb20fb60ac6"
      },
      "execution_count": null,
      "outputs": [
        {
          "output_type": "execute_result",
          "data": {
            "text/plain": [
              "1.3333333333333333"
            ]
          },
          "metadata": {},
          "execution_count": 46
        }
      ]
    },
    {
      "cell_type": "code",
      "source": [
        "DP(2 * smp.sin(3 * th) **0.5, 2 * np.pi / 3, np.pi)"
      ],
      "metadata": {
        "colab": {
          "base_uri": "https://localhost:8080/",
          "height": 300
        },
        "id": "2DN_hiHjSB8i",
        "outputId": "5599c9a5-d3b2-4658-c0e2-9ebc11daa916"
      },
      "execution_count": null,
      "outputs": [
        {
          "output_type": "stream",
          "name": "stderr",
          "text": [
            "<string>:2: RuntimeWarning: invalid value encountered in sqrt\n",
            "<string>:2: RuntimeWarning: invalid value encountered in sqrt\n"
          ]
        },
        {
          "output_type": "display_data",
          "data": {
            "text/plain": [
              "<Figure size 432x288 with 1 Axes>"
            ],
            "image/png": "[encoded data removed]"
          },
          "metadata": {
            "needs_background": "light"
          }
        }
      ]
    },
    {
      "cell_type": "code",
      "source": [
        "DP(2 * smp.cos(th), 0.25 * np.pi, 0.5 * np.pi)\n",
        "DP(2 * smp.sin(th), 0, 0.25 * np.pi)"
      ],
      "metadata": {
        "id": "VSkSDGv2SIaK",
        "colab": {
          "base_uri": "https://localhost:8080/",
          "height": 265
        },
        "outputId": "3bdb5077-959c-4cc9-ac9e-55b63e39a674"
      },
      "execution_count": null,
      "outputs": [
        {
          "output_type": "display_data",
          "data": {
            "text/plain": [
              "<Figure size 432x288 with 1 Axes>"
            ],
            "image/png": "[encoded data removed]"
          },
          "metadata": {
            "needs_background": "light"
          }
        }
      ]
    },
    {
      "cell_type": "code",
      "source": [
        "PArea(2 * smp.cos(th), 0.25 * np.pi, 0.5 * np.pi) + PArea(2 * smp.sin(th), 0, 0.25 * np.pi)"
      ],
      "metadata": {
        "colab": {
          "base_uri": "https://localhost:8080/"
        },
        "id": "96WPwjFz_7rg",
        "outputId": "2634e240-50d8-4da6-c298-e3df02a26b7d"
      },
      "execution_count": null,
      "outputs": [
        {
          "output_type": "execute_result",
          "data": {
            "text/plain": [
              "0.5707963267948967"
            ]
          },
          "metadata": {},
          "execution_count": 13
        }
      ]
    },
    {
      "cell_type": "code",
      "source": [
        "np.pi/2 - 1"
      ],
      "metadata": {
        "colab": {
          "base_uri": "https://localhost:8080/"
        },
        "id": "8V-E3kWEA9la",
        "outputId": "1309f5f1-0da9-4f06-f6fe-3c1675623428"
      },
      "execution_count": null,
      "outputs": [
        {
          "output_type": "execute_result",
          "data": {
            "text/plain": [
              "0.5707963267948966"
            ]
          },
          "metadata": {},
          "execution_count": 14
        }
      ]
    },
    {
      "cell_type": "code",
      "source": [
        "DP(2)\n",
        "DP(2*(1 - smp.cos(th)))"
      ],
      "metadata": {
        "colab": {
          "base_uri": "https://localhost:8080/",
          "height": 265
        },
        "id": "qQ1dcvB9BHvh",
        "outputId": "336abc81-0283-48e7-9695-4775b7f6abfe"
      },
      "execution_count": null,
      "outputs": [
        {
          "output_type": "display_data",
          "data": {
            "text/plain": [
              "<Figure size 432x288 with 1 Axes>"
            ],
            "image/png": "[encoded data removed]"
          },
          "metadata": {
            "needs_background": "light"
          }
        }
      ]
    },
    {
      "cell_type": "code",
      "source": [
        "DP(2, 0.5*np.pi, 1.5*np.pi)\n",
        "DP(2*(1 - smp.cos(th)), -0.5*np.pi, 0.5*np.pi)"
      ],
      "metadata": {
        "colab": {
          "base_uri": "https://localhost:8080/",
          "height": 265
        },
        "id": "2YjMAkkqCSVx",
        "outputId": "362d5c72-ea6f-44f0-ca36-80c650786491"
      },
      "execution_count": null,
      "outputs": [
        {
          "output_type": "display_data",
          "data": {
            "text/plain": [
              "<Figure size 432x288 with 1 Axes>"
            ],
            "image/png": "[encoded data removed]"
          },
          "metadata": {
            "needs_background": "light"
          }
        }
      ]
    },
    {
      "cell_type": "code",
      "source": [
        "PArea(2 + 0 * th, 0.5*np.pi, 1.5*np.pi) + PArea(2*(1 - smp.cos(th)), -0.5*np.pi, 0.5*np.pi)"
      ],
      "metadata": {
        "colab": {
          "base_uri": "https://localhost:8080/"
        },
        "id": "X00OiNPYClzZ",
        "outputId": "7d58c321-082d-4615-b799-33ad63f6bc29"
      },
      "execution_count": null,
      "outputs": [
        {
          "output_type": "execute_result",
          "data": {
            "text/plain": [
              "7.707963267948966"
            ]
          },
          "metadata": {},
          "execution_count": 26
        }
      ]
    },
    {
      "cell_type": "code",
      "source": [
        "5 * np.pi - 8"
      ],
      "metadata": {
        "colab": {
          "base_uri": "https://localhost:8080/"
        },
        "id": "B1Zeas3WCsS4",
        "outputId": "d74e345a-48b7-49fb-8183-1e3aa3a95a7e"
      },
      "execution_count": null,
      "outputs": [
        {
          "output_type": "execute_result",
          "data": {
            "text/plain": [
              "7.707963267948966"
            ]
          },
          "metadata": {},
          "execution_count": 27
        }
      ]
    },
    {
      "cell_type": "code",
      "source": [
        "DP((6 * smp.cos(2*th))**0.5, 0, 0.25 * np.pi)\n",
        "DP((6 * smp.cos(2*th))**0.5, 0.75 * np.pi, np.pi)\n",
        "DP(-(6 * smp.cos(2*th))**0.5, 0, 0.25 * np.pi)\n",
        "DP(-(6 * smp.cos(2*th))**0.5, 0.75 * np.pi, np.pi)\n",
        "DP((3 + 0 * th)**0.5)"
      ],
      "metadata": {
        "id": "-n9PPsXpETCh",
        "colab": {
          "base_uri": "https://localhost:8080/",
          "height": 334
        },
        "outputId": "7e317b09-8b43-426c-b13a-0854b6b232be"
      },
      "execution_count": 14,
      "outputs": [
        {
          "output_type": "stream",
          "name": "stderr",
          "text": [
            "<string>:2: RuntimeWarning: invalid value encountered in sqrt\n",
            "<string>:2: RuntimeWarning: invalid value encountered in sqrt\n",
            "<string>:2: RuntimeWarning: invalid value encountered in sqrt\n",
            "<string>:2: RuntimeWarning: invalid value encountered in sqrt\n"
          ]
        },
        {
          "output_type": "display_data",
          "data": {
            "text/plain": [
              "<Figure size 432x288 with 1 Axes>"
            ],
            "image/png": "[encoded data removed]"
          },
          "metadata": {
            "needs_background": "light"
          }
        }
      ]
    },
    {
      "cell_type": "code",
      "source": [
        "4 * (PArea((6 * smp.cos(2*th))**0.5, 0, np.pi/6) - PArea((3 + 0 * th)**0.5, 0, np.pi/6))"
      ],
      "metadata": {
        "colab": {
          "base_uri": "https://localhost:8080/"
        },
        "id": "8okCp2GgWX0d",
        "outputId": "5d33cd43-94e6-4533-838b-35b7cd6ed2cb"
      },
      "execution_count": 15,
      "outputs": [
        {
          "output_type": "execute_result",
          "data": {
            "text/plain": [
              "2.054559769116838"
            ]
          },
          "metadata": {},
          "execution_count": 15
        }
      ]
    },
    {
      "cell_type": "code",
      "source": [
        "3 * 3 ** 0.5 - np.pi"
      ],
      "metadata": {
        "colab": {
          "base_uri": "https://localhost:8080/"
        },
        "id": "f3hmG_1YZkkS",
        "outputId": "b57686ab-ad24-4305-c87f-7e1090a80f5d"
      },
      "execution_count": 17,
      "outputs": [
        {
          "output_type": "execute_result",
          "data": {
            "text/plain": [
              "2.054559769116839"
            ]
          },
          "metadata": {},
          "execution_count": 17
        }
      ]
    },
    {
      "cell_type": "code",
      "source": [
        ""
      ],
      "metadata": {
        "id": "CC0BIV2YZt_j"
      },
      "execution_count": null,
      "outputs": []
    }
  ]
}