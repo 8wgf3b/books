{
  "nbformat": 4,
  "nbformat_minor": 0,
  "metadata": {
    "colab": {
      "name": "11",
      "provenance": [],
      "authorship_tag": "ABX9TyNDRNNUSL0j2Fk+Z6iGE631"
    },
    "kernelspec": {
      "name": "python3",
      "display_name": "Python 3"
    },
    "language_info": {
      "name": "python"
    }
  },
  "cells": [
    {
      "cell_type": "code",
      "source": [
        "import sympy as smp\n",
        "%matplotlib inline\n",
        "import numpy as np\n",
        "import matplotlib.pyplot as plt\n",
        "plt.grid(True, which='both')\n",
        "plt.axhline(y=0, color='k')\n",
        "plt.axvline(x=0, color='k')"
      ],
      "metadata": {
        "id": "v6zMhIt4X1gE",
        "colab": {
          "base_uri": "https://localhost:8080/",
          "height": 286
        },
        "outputId": "63847eb1-1851-45bb-ae9c-cc4dbc217c99"
      },
      "execution_count": 5,
      "outputs": [
        {
          "output_type": "execute_result",
          "data": {
            "text/plain": [
              "<matplotlib.lines.Line2D at 0x7f66abded410>"
            ]
          },
          "metadata": {},
          "execution_count": 5
        },
        {
          "output_type": "display_data",
          "data": {
            "text/plain": [
              "<Figure size 432x288 with 1 Axes>"
            ],
            "image/png": "[encoded data removed]"
          },
          "metadata": {
            "needs_background": "light"
          }
        }
      ]
    },
    {
      "cell_type": "markdown",
      "source": [
        "1.39"
      ],
      "metadata": {
        "id": "ybFvpgHxXmEl"
      }
    },
    {
      "cell_type": "code",
      "execution_count": 6,
      "metadata": {
        "colab": {
          "base_uri": "https://localhost:8080/"
        },
        "id": "icm3zCMYS3cS",
        "outputId": "dbd8a1b5-713b-4d73-ec03-0696ca5cb57e"
      },
      "outputs": [
        {
          "output_type": "execute_result",
          "data": {
            "text/plain": [
              "(1.00000000000000, 1.00000000000000)"
            ]
          },
          "metadata": {},
          "execution_count": 6
        }
      ],
      "source": [
        "t = smp.symbols('t', real=True)\n",
        "x = t\n",
        "y = t ** 2\n",
        "dist = smp.sqrt((x - 2)**2 + (y - 0.5)**2)\n",
        "tsols = smp.solve(smp.diff(dist, t), t)[0]\n",
        "x.subs([(t, tsols)]), y.subs([(t, tsols)])"
      ]
    },
    {
      "cell_type": "markdown",
      "source": [
        "1.40"
      ],
      "metadata": {
        "id": "O74DDcN0Zf-8"
      }
    },
    {
      "cell_type": "code",
      "source": [
        "t = smp.symbols('t', real=True)\n",
        "x = 2 * smp.cos(t)\n",
        "y = smp.sin(t)\n",
        "dist = smp.sqrt((x - 0.75)**2 + (y - 0)**2)\n",
        "tsols = smp.solve(smp.diff(dist, t), t)[0]\n",
        "x.subs([(t, tsols)]), y.subs([(t, tsols)])"
      ],
      "metadata": {
        "colab": {
          "base_uri": "https://localhost:8080/"
        },
        "id": "3PMow2AVXuhu",
        "outputId": "65804102-714e-4df2-bed8-2e6deb8cae6b"
      },
      "execution_count": null,
      "outputs": [
        {
          "output_type": "execute_result",
          "data": {
            "text/plain": [
              "(1.00000000000000, -0.866025403784439)"
            ]
          },
          "metadata": {},
          "execution_count": 3
        }
      ]
    },
    {
      "cell_type": "markdown",
      "source": [
        "11.2 1 + til 14"
      ],
      "metadata": {
        "id": "ojekkmLL99Wf"
      }
    },
    {
      "cell_type": "code",
      "source": [
        "x, y, t = smp.symbols('x y t', real=True)\n",
        "def tangentleq(xt, yt, tval):\n",
        "    dy = smp.diff(yt)\n",
        "    dx = smp.diff(xt)\n",
        "    tan = (y - yt - (x - xt) * dy/dx).subs([(t, tval)]).simplify()\n",
        "    d2ydx2 = (smp.diff(dy/dx)/dx).subs([(t, tval)]).simplify()\n",
        "    return tan, d2ydx2"
      ],
      "metadata": {
        "id": "iDwrwlgcZqFE"
      },
      "execution_count": null,
      "outputs": []
    },
    {
      "cell_type": "code",
      "source": [
        "probs = [(2 * smp.cos(t), 2 * smp.sin(t), smp.pi / 4),\n",
        "         (smp.sin(2 * smp.pi * t), smp.cos(2 * smp.pi * t), - 1 / 6),\n",
        "         (4 * smp.sin(t), 2 * smp.cos(t), smp.pi / 4),\n",
        "         (1 / (1 + t), t / (t - 1), 2)\n",
        "         ]"
      ],
      "metadata": {
        "id": "I0zvLKX_-yYh"
      },
      "execution_count": null,
      "outputs": []
    },
    {
      "cell_type": "code",
      "source": [
        "for p in probs:\n",
        "    print(tangentleq(*p))"
      ],
      "metadata": {
        "colab": {
          "base_uri": "https://localhost:8080/"
        },
        "id": "8IsR5gbN-_xg",
        "outputId": "7c1c0fcd-e421-4604-b0d9-b56458bcbc58"
      },
      "execution_count": null,
      "outputs": [
        {
          "output_type": "stream",
          "name": "stdout",
          "text": [
            "(x + y - 2*sqrt(2), -sqrt(2))\n",
            "(-x/tan(0.166666666666667*pi) + y - 1/sin(0.166666666666667*pi), -1/cos(0.333333333333333*pi)**3)\n",
            "(x/2 + y - 2*sqrt(2), -sqrt(2)/4)\n",
            "(-9*x + y + 1, 108)\n"
          ]
        }
      ]
    },
    {
      "cell_type": "markdown",
      "source": [
        "11.2 15 + til 6"
      ],
      "metadata": {
        "id": "pMQVXpN5qYz-"
      }
    },
    {
      "cell_type": "code",
      "source": [
        "f, g = smp.symbols('f g', cls=smp.Function)\n",
        "x = f(t)\n",
        "y = g(t)\n",
        "def p2(xe, ye, tval):\n",
        "    xt = smp.solve(xe, x)[0]\n",
        "    yt = smp.solve(ye, y)[0]\n",
        "    return (smp.diff(yt) / smp.diff(xt)).subs([(t, tval)])"
      ],
      "metadata": {
        "id": "Bc7Xr9OWGLKB"
      },
      "execution_count": null,
      "outputs": []
    },
    {
      "cell_type": "code",
      "source": [
        "probs = [(x**3 + 2*t**2 - 9, 2*y**3 - 3*t**2 - 4, 2),\n",
        "         (x + 2 * smp.sqrt(x) ** 3 - t**2 - t, y*smp.sqrt(t + 1) + 2*t*smp.sqrt(y) - 4 , 0)\n",
        "]\n",
        "\n",
        "p2(*probs[1])"
      ],
      "metadata": {
        "id": "sM5hx32FrHxA"
      },
      "execution_count": null,
      "outputs": []
    },
    {
      "cell_type": "code",
      "source": [
        "smp.diff(x + 2 * smp.sqrt(x) ** 3 - t**2 - t, t)\n",
        "smp.diff(y*smp.sqrt(t + 1) + 2*t*smp.sqrt(y) - 4, t)"
      ],
      "metadata": {
        "colab": {
          "base_uri": "https://localhost:8080/",
          "height": 64
        },
        "id": "lS-0SbmntjNO",
        "outputId": "52e4e2db-3c46-4a62-920e-c43e50a0cd78"
      },
      "execution_count": null,
      "outputs": [
        {
          "output_type": "execute_result",
          "data": {
            "text/plain": [
              "t*Derivative(g(t), t)/sqrt(g(t)) + sqrt(t + 1)*Derivative(g(t), t) + 2*sqrt(g(t)) + g(t)/(2*sqrt(t + 1))"
            ],
            "text/latex": "$\\displaystyle \\frac{t \\frac{d}{d t} g{\\left(t \\right)}}{\\sqrt{g{\\left(t \\right)}}} + \\sqrt{t + 1} \\frac{d}{d t} g{\\left(t \\right)} + 2 \\sqrt{g{\\left(t \\right)}} + \\frac{g{\\left(t \\right)}}{2 \\sqrt{t + 1}}$"
          },
          "metadata": {},
          "execution_count": 5
        }
      ]
    },
    {
      "cell_type": "code",
      "source": [
        "smp.solve(t + 2 * t **1.5, t)"
      ],
      "metadata": {
        "id": "H44qmVuWuqFt",
        "colab": {
          "base_uri": "https://localhost:8080/"
        },
        "outputId": "ff2f35dd-6632-4124-ff5f-c27994f5ce8d"
      },
      "execution_count": null,
      "outputs": [
        {
          "output_type": "execute_result",
          "data": {
            "text/plain": [
              "[0.0]"
            ]
          },
          "metadata": {},
          "execution_count": 6
        }
      ]
    },
    {
      "cell_type": "markdown",
      "source": [
        "11.2. 21 - 24"
      ],
      "metadata": {
        "id": "VerQOu7HKRRs"
      }
    },
    {
      "cell_type": "code",
      "source": [
        ""
      ],
      "metadata": {
        "id": "WWtiZcaxoUJd",
        "colab": {
          "base_uri": "https://localhost:8080/",
          "height": 286
        },
        "outputId": "d0db47a6-ccae-4dc9-f516-9dcc79386421"
      },
      "execution_count": 4,
      "outputs": [
        {
          "output_type": "execute_result",
          "data": {
            "text/plain": [
              "<matplotlib.lines.Line2D at 0x7f66abe68f10>"
            ]
          },
          "metadata": {},
          "execution_count": 4
        },
        {
          "output_type": "display_data",
          "data": {
            "text/plain": [
              "<Figure size 432x288 with 1 Axes>"
            ],
            "image/png": "[encoded data removed]"
          },
          "metadata": {
            "needs_background": "light"
          }
        }
      ]
    },
    {
      "cell_type": "code",
      "source": [
        "def graph(x, y, l, h):\n",
        "    tval = np.linspace(l, h, 100)\n",
        "    xl = smp.lambdify([t], x)\n",
        "    yl = smp.lambdify([t], y)\n",
        "    plt.grid(True, which='both')\n",
        "    plt.axhline(y=0, color='k')\n",
        "    plt.axvline(x=0, color='k')\n",
        "    plt.plot(xl(tval), yl(tval))\n"
      ],
      "metadata": {
        "id": "EhEXP_gcKfEg"
      },
      "execution_count": 16,
      "outputs": []
    },
    {
      "cell_type": "code",
      "source": [
        "graph(t, t - t**2, 0, 10)"
      ],
      "metadata": {
        "colab": {
          "base_uri": "https://localhost:8080/",
          "height": 265
        },
        "id": "sywA5GQSL1O7",
        "outputId": "acdc1834-769c-466a-de58-b03139c24c37"
      },
      "execution_count": 17,
      "outputs": [
        {
          "output_type": "display_data",
          "data": {
            "text/plain": [
              "<Figure size 432x288 with 1 Axes>"
            ],
            "image/png": "[encoded data removed]"
          },
          "metadata": {
            "needs_background": "light"
          }
        }
      ]
    },
    {
      "cell_type": "code",
      "source": [
        "graph(3 * (t - smp.sin(t)), 3 * (1 - smp.cos(t)), -2 * np.pi, 2 * np.pi)"
      ],
      "metadata": {
        "colab": {
          "base_uri": "https://localhost:8080/",
          "height": 265
        },
        "id": "evcCgCPvL5kJ",
        "outputId": "67ae3b1b-9ff5-45b9-947a-465b1af2e980"
      },
      "execution_count": 20,
      "outputs": [
        {
          "output_type": "display_data",
          "data": {
            "text/plain": [
              "<Figure size 432x288 with 1 Axes>"
            ],
            "image/png": "[encoded data removed]"
          },
          "metadata": {
            "needs_background": "light"
          }
        }
      ]
    },
    {
      "cell_type": "code",
      "source": [
        "graph(3 * smp.cos(t), smp.sin(t), 0, 0.5 * np.pi)"
      ],
      "metadata": {
        "colab": {
          "base_uri": "https://localhost:8080/",
          "height": 265
        },
        "id": "2tTg3v3XMbfJ",
        "outputId": "d0ce6bf4-43be-4c95-def0-a62f9c68e8a4"
      },
      "execution_count": 24,
      "outputs": [
        {
          "output_type": "display_data",
          "data": {
            "text/plain": [
              "<Figure size 432x288 with 1 Axes>"
            ],
            "image/png": "[encoded data removed]"
          },
          "metadata": {
            "needs_background": "light"
          }
        }
      ]
    },
    {
      "cell_type": "code",
      "source": [
        ""
      ],
      "metadata": {
        "id": "WBHyTTTqN9EX"
      },
      "execution_count": null,
      "outputs": []
    }
  ]
}