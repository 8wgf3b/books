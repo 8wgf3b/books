{
  "nbformat": 4,
  "nbformat_minor": 0,
  "metadata": {
    "colab": {
      "name": "11",
      "provenance": [],
      "authorship_tag": "ABX9TyOPzITEygon84odkM+9vFZz"
    },
    "kernelspec": {
      "name": "python3",
      "display_name": "Python 3"
    },
    "language_info": {
      "name": "python"
    }
  },
  "cells": [
    {
      "cell_type": "code",
      "source": [
        "import sympy as smp"
      ],
      "metadata": {
        "id": "v6zMhIt4X1gE"
      },
      "execution_count": 2,
      "outputs": []
    },
    {
      "cell_type": "markdown",
      "source": [
        "1.39"
      ],
      "metadata": {
        "id": "ybFvpgHxXmEl"
      }
    },
    {
      "cell_type": "code",
      "execution_count": 15,
      "metadata": {
        "colab": {
          "base_uri": "https://localhost:8080/"
        },
        "id": "icm3zCMYS3cS",
        "outputId": "e385a4c1-094f-4005-c2b0-3fa3a5dab0fe"
      },
      "outputs": [
        {
          "output_type": "execute_result",
          "data": {
            "text/plain": [
              "(1.00000000000000, 1.00000000000000)"
            ]
          },
          "metadata": {},
          "execution_count": 15
        }
      ],
      "source": [
        "t = smp.symbols('t', real=True)\n",
        "x = t\n",
        "y = t ** 2\n",
        "dist = smp.sqrt((x - 2)**2 + (y - 0.5)**2)\n",
        "tsols = smp.solve(smp.diff(dist, t), t)[0]\n",
        "x.subs([(t, tsols)]), y.subs([(t, tsols)])"
      ]
    },
    {
      "cell_type": "code",
      "source": [
        ""
      ],
      "metadata": {
        "id": "3PMow2AVXuhu"
      },
      "execution_count": null,
      "outputs": []
    }
  ]
}