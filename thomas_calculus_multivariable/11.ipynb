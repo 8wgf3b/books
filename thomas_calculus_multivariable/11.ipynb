{
  "nbformat": 4,
  "nbformat_minor": 0,
  "metadata": {
    "colab": {
      "name": "11",
      "provenance": [],
      "authorship_tag": "ABX9TyPu8iR7as1+doeLnWfLdRkn"
    },
    "kernelspec": {
      "name": "python3",
      "display_name": "Python 3"
    },
    "language_info": {
      "name": "python"
    }
  },
  "cells": [
    {
      "cell_type": "code",
      "execution_count": null,
      "metadata": {
        "id": "icm3zCMYS3cS"
      },
      "outputs": [],
      "source": [
        ""
      ]
    }
  ]
}